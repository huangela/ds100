{
 "cells": [
  {
   "cell_type": "markdown",
   "metadata": {},
   "source": [
    "Before you turn this problem in, make sure everything runs as expected. First, **restart the kernel** (in the menubar, select Kernel$\\rightarrow$Restart) and then **run all cells** (in the menubar, select Cell$\\rightarrow$Run All).\n",
    "\n",
    "Make sure you fill in any place that says `YOUR CODE HERE` or \"YOUR ANSWER HERE\", as well as your name and collaborators below:"
   ]
  },
  {
   "cell_type": "code",
   "execution_count": 1,
   "metadata": {},
   "outputs": [],
   "source": [
    "NAME = \"\"\n",
    "COLLABORATORS = \"\""
   ]
  },
  {
   "cell_type": "markdown",
   "metadata": {},
   "source": [
    "---"
   ]
  },
  {
   "cell_type": "markdown",
   "metadata": {
    "deletable": false,
    "editable": false,
    "nbgrader": {
     "cell_type": "markdown",
     "checksum": "851a1167a43648157d50a63c9bf36e69",
     "grade": false,
     "grade_id": "intro",
     "locked": true,
     "schema_version": 2,
     "solution": false
    }
   },
   "source": [
    "# Project 1: Trump, Twitter, and Text\n",
    "\n",
    "Welcome to the first project of Data 100! In this project, we will work with the Twitter API in order to analyze Donald Trump's tweets.\n",
    "\n",
    "**The project is due 11:59pm Tuesday, October 23, California Time.**\n",
    "\n",
    "You do not have to work on this project before the midterm, but you might find it helpful, since it goes over a lot of pandas materials that we haven't used in a while.\n",
    "\n",
    "**Fun:**\n",
    "\n",
    "We intend this project to be fun! You will analyze actual data from the Twitter API. You will also draw conclusions about the current (and often controversial) US President's tweet behavior. If you find yourself getting frustrated or stuck on one problem for too long, we suggest coming into office hours and working with friends in the class.\n",
    "\n",
    "With that in mind, let's get started!"
   ]
  },
  {
   "cell_type": "code",
   "execution_count": 2,
   "metadata": {
    "deletable": false,
    "editable": false,
    "nbgrader": {
     "cell_type": "code",
     "checksum": "39a1c52c1b5855b6bd9b10e6a7802072",
     "grade": false,
     "grade_id": "import",
     "locked": true,
     "schema_version": 2,
     "solution": false
    }
   },
   "outputs": [],
   "source": [
    "# Run this cell to set up your notebook\n",
    "import csv\n",
    "import numpy as np\n",
    "import pandas as pd\n",
    "import matplotlib.pyplot as plt\n",
    "import zipfile\n",
    "\n",
    "# Ensure that Pandas shows at least 280 characters in columns, so we can see full tweets\n",
    "pd.set_option('max_colwidth', 280)\n",
    "\n",
    "%matplotlib inline\n",
    "plt.style.use('fivethirtyeight')\n",
    "import seaborn as sns\n",
    "sns.set()\n",
    "sns.set_context(\"talk\")\n",
    "import re"
   ]
  },
  {
   "cell_type": "markdown",
   "metadata": {
    "deletable": false,
    "editable": false,
    "nbgrader": {
     "cell_type": "markdown",
     "checksum": "69812bdeba1101e72f0c2c49d4e05e7e",
     "grade": false,
     "grade_id": "tweepy-intro",
     "locked": true,
     "schema_version": 2,
     "solution": false
    }
   },
   "source": [
    "# Downloading Recent Tweets\n",
    "\n",
    "---\n",
    "\n",
    "Since we'll be looking at Twitter data, we need to download the data from Twitter!\n",
    "\n",
    "Twitter provides an API for downloading tweet data in large batches.  The `tweepy` package makes it fairly easy to use."
   ]
  },
  {
   "cell_type": "code",
   "execution_count": 3,
   "metadata": {
    "deletable": false,
    "editable": false,
    "nbgrader": {
     "cell_type": "code",
     "checksum": "727d86148491e8268741fb9ad1182f32",
     "grade": false,
     "grade_id": "tweepy",
     "locked": true,
     "schema_version": 2,
     "solution": false
    }
   },
   "outputs": [],
   "source": [
    "## Make sure you are in your data100 conda environment if you are working locally.\n",
    "# The following should run:\n",
    "import tweepy"
   ]
  },
  {
   "cell_type": "markdown",
   "metadata": {
    "deletable": false,
    "editable": false,
    "nbgrader": {
     "cell_type": "markdown",
     "checksum": "be71d5e18529a33a68df98dba32c6b98",
     "grade": false,
     "grade_id": "instructions",
     "locked": true,
     "schema_version": 2,
     "solution": false
    }
   },
   "source": [
    "There are instructions on using `tweepy` [here](http://tweepy.readthedocs.io/en/v3.5.0/getting_started.html), but we will give you example code.\n",
    "\n",
    "Twitter requires you to have authentication keys to access their API.  To get your keys, you'll have to sign up as a Twitter developer.  The next question will walk you through this process."
   ]
  },
  {
   "cell_type": "markdown",
   "metadata": {
    "deletable": false,
    "editable": false,
    "nbgrader": {
     "cell_type": "markdown",
     "checksum": "d7f77217a61748b66ee95e547435218f",
     "grade": false,
     "grade_id": "q1",
     "locked": true,
     "schema_version": 2,
     "solution": false
    }
   },
   "source": [
    "## Question 1\n",
    "\n",
    "Follow the instructions below to get your Twitter API keys.  **Read the instructions completely before starting.**\n",
    "\n",
    "1. [Create a Twitter account](https://twitter.com).  You can use an existing account if you have one; if you prefer to not do this assignment under your regular account, feel free to create a throw-away account.\n",
    "2. Under account settings, add your phone number to the account.\n",
    "3. [Create a Twitter developer account](https://dev.twitter.com/resources/signup) by clicking the 'Apply' button on the top right of the page. Attach it to your Twitter account. You'll have to fill out a form describing what you want to do with the developer account. Explain that you are doing this for a class at UC Berkeley and that you don't know exactly what you're building yet and just need the account to get started. These applications are approved by some sort of AI system, so it doesn't matter exactly what you write. Just don't enter a bunch of alweiofalwiuhflawiuehflawuihflaiwhfe type stuff or you might get rejected.\n",
    "4. Once you're logged into your developer account, [create an application for this assignment](https://apps.twitter.com/app/new).  You can call it whatever you want, and you can write any URL when it asks for a web site.  You don't need to provide a callback URL.\n",
    "5. On the page for that application, find your Consumer Key and Consumer Secret.\n",
    "6. On the same page, create an Access Token.  Record the resulting Access Token and Access Token Secret.\n",
    "7. Edit the file [keys.json](keys.json) and replace the placeholders with your keys.  "
   ]
  },
  {
   "cell_type": "markdown",
   "metadata": {
    "deletable": false,
    "editable": false,
    "nbgrader": {
     "cell_type": "markdown",
     "checksum": "660b295179b4972ddbe15e607eab658b",
     "grade": false,
     "grade_id": "warning",
     "locked": true,
     "schema_version": 2,
     "solution": false
    }
   },
   "source": [
    "\n",
    "## WARNING (Please Read) !!!!\n",
    "\n",
    "\n",
    "### Protect your Twitter Keys\n",
    "<span style=\"color:red\">\n",
    "If someone has your authentication keys, they can access your Twitter account and post as you!  So don't give them to anyone, and **don't write them down in this notebook**. \n",
    "</span>\n",
    "The usual way to store sensitive information like this is to put it in a separate file and read it programmatically.  That way, you can share the rest of your code without sharing your keys.  That's why we're asking you to put your keys in `keys.json` for this assignment.\n",
    "\n",
    "\n",
    "### Avoid making too many API calls.\n",
    "\n",
    "<span style=\"color:red\">\n",
    "Twitter limits developers to a certain rate of requests for data.  If you make too many requests in a short period of time, you'll have to wait awhile (around 15 minutes) before you can make more.  </span> \n",
    "So carefully follow the code examples you see and don't rerun cells without thinking.  Instead, always save the data you've collected to a file.  We've provided templates to help you do that.\n",
    "\n",
    "\n",
    "### Be careful about which functions you call!\n",
    "\n",
    "<span style=\"color:red\">\n",
    "This API can retweet tweets, follow and unfollow people, and modify your twitter settings.  Be careful which functions you invoke! </span> One of the sp18 instructors accidentally re-tweeted some tweets because that instructor typed `retweet` instead of `retweet_count`. \n",
    "</span>\n"
   ]
  },
  {
   "cell_type": "code",
   "execution_count": 4,
   "metadata": {
    "deletable": false,
    "editable": false,
    "nbgrader": {
     "cell_type": "code",
     "checksum": "c2eb5fb9a1af6832165a365b0aad21ab",
     "grade": false,
     "grade_id": "keys",
     "locked": true,
     "schema_version": 2,
     "solution": false
    }
   },
   "outputs": [],
   "source": [
    "import json\n",
    "key_file = 'keys.json'\n",
    "# Loading your keys from keys.json (which you should have filled\n",
    "# in in question 1):\n",
    "with open(key_file) as f:\n",
    "    keys = json.load(f)\n",
    "# if you print or view the contents of keys be sure to delete the cell!"
   ]
  },
  {
   "cell_type": "markdown",
   "metadata": {
    "deletable": false,
    "editable": false,
    "nbgrader": {
     "cell_type": "markdown",
     "checksum": "118d21c4ccbbf942c9f2707840908cca",
     "grade": false,
     "grade_id": "tweepy-auth-note",
     "locked": true,
     "schema_version": 2,
     "solution": false
    }
   },
   "source": [
    "This cell tests the Twitter authentication. It should run without errors or warnings and display your Twitter username."
   ]
  },
  {
   "cell_type": "code",
   "execution_count": 5,
   "metadata": {
    "deletable": false,
    "editable": false,
    "nbgrader": {
     "cell_type": "code",
     "checksum": "66806331fe1cb852ab300e98459cb2d4",
     "grade": false,
     "grade_id": "twitter-auth",
     "locked": true,
     "schema_version": 2,
     "solution": false
    }
   },
   "outputs": [
    {
     "name": "stdout",
     "output_type": "stream",
     "text": [
      "Your username is: Angela14058858\n"
     ]
    }
   ],
   "source": [
    "import tweepy\n",
    "from tweepy import TweepError\n",
    "import logging\n",
    "\n",
    "try:\n",
    "    auth = tweepy.OAuthHandler(keys[\"consumer_key\"], keys[\"consumer_secret\"])\n",
    "    auth.set_access_token(keys[\"access_token\"], keys[\"access_token_secret\"])\n",
    "    api = tweepy.API(auth)\n",
    "    print(\"Your username is:\", api.auth.get_username())\n",
    "except TweepError as e:\n",
    "    logging.warning(\"There was a Tweepy error. Double check your API keys and try again.\")\n",
    "    logging.warning(e)"
   ]
  },
  {
   "cell_type": "markdown",
   "metadata": {
    "deletable": false,
    "editable": false,
    "nbgrader": {
     "cell_type": "markdown",
     "checksum": "b738ef5c6ffad625b8d5a61b66719ad6",
     "grade": false,
     "grade_id": "q2",
     "locked": true,
     "schema_version": 2,
     "solution": false
    }
   },
   "source": [
    "## Question 2\n",
    "\n",
    "In the example below, we have loaded some tweets by @BerkeleyData.  Run it and read the code."
   ]
  },
  {
   "cell_type": "code",
   "execution_count": 6,
   "metadata": {
    "deletable": false,
    "editable": false,
    "nbgrader": {
     "cell_type": "code",
     "checksum": "3defce91d655ee59ae318cc20133476a",
     "grade": false,
     "grade_id": "load-berkeley-tweets",
     "locked": true,
     "schema_version": 2,
     "solution": false
    }
   },
   "outputs": [],
   "source": [
    "from pathlib import Path\n",
    "import json\n",
    "\n",
    "ds_tweets_save_path = \"BerkeleyData_recent_tweets.json\"\n",
    "# Guarding against attempts to download the data multiple\n",
    "# times:\n",
    "if not Path(ds_tweets_save_path).is_file():\n",
    "    # Getting as many recent tweets by @BerkeleyData as Twitter will let us have.\n",
    "    # We use tweet_mode='extended' so that Twitter gives us full 280 character tweets.\n",
    "    # This was a change introduced in September 2017.\n",
    "    \n",
    "    # The tweepy Cursor API actually returns \"sophisticated\" Status objects but we \n",
    "    # will use the basic Python dictionaries stored in the _json field. \n",
    "    example_tweets = [t._json for t in tweepy.Cursor(api.user_timeline, id=\"BerkeleyData\", \n",
    "                                             tweet_mode='extended').items()]\n",
    "    \n",
    "    # Saving the tweets to a json file on disk for future analysis\n",
    "    with open(ds_tweets_save_path, \"w\") as f:        \n",
    "        json.dump(example_tweets, f)\n",
    "\n",
    "# Re-loading the json file:\n",
    "with open(ds_tweets_save_path, \"r\") as f:\n",
    "    example_tweets = json.load(f)"
   ]
  },
  {
   "cell_type": "markdown",
   "metadata": {
    "deletable": false,
    "editable": false,
    "nbgrader": {
     "cell_type": "markdown",
     "checksum": "7dc93f6841b3ecdb826a8ff12ebb2030",
     "grade": false,
     "grade_id": "first-tweet-did-it-workk",
     "locked": true,
     "schema_version": 2,
     "solution": false
    }
   },
   "source": [
    "Assuming everything ran correctly you should be able to look at the first tweet by running the cell below.\n",
    "\n",
    "<span style=\"color:red\">\n",
    "**Warning** Do not attempt to view all the tweets in a notebook.  It will likely freeze your browser.  The following would be a **bad idea**:\n",
    "```python\n",
    "    pprint(example_tweets)\n",
    "```\n",
    "\n",
    "</span> "
   ]
  },
  {
   "cell_type": "code",
   "execution_count": 7,
   "metadata": {
    "deletable": false,
    "editable": false,
    "nbgrader": {
     "cell_type": "code",
     "checksum": "de383bb55c2e4e13c896209b5f7589c0",
     "grade": false,
     "grade_id": "first-tweet",
     "locked": true,
     "schema_version": 2,
     "solution": false
    }
   },
   "outputs": [
    {
     "name": "stdout",
     "output_type": "stream",
     "text": [
      "{'contributors': None,\n",
      " 'coordinates': None,\n",
      " 'created_at': 'Wed Oct 17 14:12:03 +0000 2018',\n",
      " 'display_text_range': [0, 140],\n",
      " 'entities': {'hashtags': [],\n",
      "              'symbols': [],\n",
      "              'urls': [],\n",
      "              'user_mentions': [{'id': 263020833,\n",
      "                                 'id_str': '263020833',\n",
      "                                 'indices': [3, 19],\n",
      "                                 'name': 'Berkeley School of Information',\n",
      "                                 'screen_name': 'BerkeleyISchool'},\n",
      "                                {'id': 24414370,\n",
      "                                 'id_str': '24414370',\n",
      "                                 'indices': [26, 34],\n",
      "                                 'name': 'Anno Saxenian',\n",
      "                                 'screen_name': 'annosax'}]},\n",
      " 'favorite_count': 0,\n",
      " 'favorited': False,\n",
      " 'full_text': 'RT @BerkeleyISchool: Dean @annosax is one 3 women who have '\n",
      "              'authored key works to understand the current Entrepreneurial '\n",
      "              'Age. https://t.co/k…',\n",
      " 'geo': None,\n",
      " 'id': 1052562888731320322,\n",
      " 'id_str': '1052562888731320322',\n",
      " 'in_reply_to_screen_name': None,\n",
      " 'in_reply_to_status_id': None,\n",
      " 'in_reply_to_status_id_str': None,\n",
      " 'in_reply_to_user_id': None,\n",
      " 'in_reply_to_user_id_str': None,\n",
      " 'is_quote_status': False,\n",
      " 'lang': 'en',\n",
      " 'place': None,\n",
      " 'retweet_count': 4,\n",
      " 'retweeted': False,\n",
      " 'retweeted_status': {'contributors': None,\n",
      "                      'coordinates': None,\n",
      "                      'created_at': 'Wed Oct 17 00:10:48 +0000 2018',\n",
      "                      'display_text_range': [0, 198],\n",
      "                      'entities': {'hashtags': [{'indices': [154, 168],\n",
      "                                                 'text': 'SiliconValley'},\n",
      "                                                {'indices': [169, 186],\n",
      "                                                 'text': 'Entrepreneurship'}],\n",
      "                                   'media': [{'display_url': 'pic.twitter.com/XDv65ShEbG',\n",
      "                                              'expanded_url': 'https://twitter.com/BerkeleyISchool/status/1052351185112506368/photo/1',\n",
      "                                              'id': 1052351182730129408,\n",
      "                                              'id_str': '1052351182730129408',\n",
      "                                              'indices': [199, 222],\n",
      "                                              'media_url': 'http://pbs.twimg.com/media/Dpqz0zmXcAAL2gF.png',\n",
      "                                              'media_url_https': 'https://pbs.twimg.com/media/Dpqz0zmXcAAL2gF.png',\n",
      "                                              'sizes': {'large': {'h': 456,\n",
      "                                                                  'resize': 'fit',\n",
      "                                                                  'w': 960},\n",
      "                                                        'medium': {'h': 456,\n",
      "                                                                   'resize': 'fit',\n",
      "                                                                   'w': 960},\n",
      "                                                        'small': {'h': 323,\n",
      "                                                                  'resize': 'fit',\n",
      "                                                                  'w': 680},\n",
      "                                                        'thumb': {'h': 150,\n",
      "                                                                  'resize': 'crop',\n",
      "                                                                  'w': 150}},\n",
      "                                              'type': 'photo',\n",
      "                                              'url': 'https://t.co/XDv65ShEbG'}],\n",
      "                                   'symbols': [],\n",
      "                                   'urls': [{'display_url': 'buff.ly/2pYmNje',\n",
      "                                             'expanded_url': 'https://buff.ly/2pYmNje',\n",
      "                                             'indices': [104, 127],\n",
      "                                             'url': 'https://t.co/ke8memYKaQ'}],\n",
      "                                   'user_mentions': [{'id': 24414370,\n",
      "                                                      'id_str': '24414370',\n",
      "                                                      'indices': [5, 13],\n",
      "                                                      'name': 'Anno Saxenian',\n",
      "                                                      'screen_name': 'annosax'},\n",
      "                                                     {'id': 54711914,\n",
      "                                                      'id_str': '54711914',\n",
      "                                                      'indices': [131, 145],\n",
      "                                                      'name': 'Nicolas Colin '\n",
      "                                                              '🇪🇺',\n",
      "                                                      'screen_name': 'Nicolas_Colin'},\n",
      "                                                     {'id': 91478624,\n",
      "                                                      'id_str': '91478624',\n",
      "                                                      'indices': [146, 153],\n",
      "                                                      'name': 'Forbes',\n",
      "                                                      'screen_name': 'Forbes'},\n",
      "                                                     {'id': 176932593,\n",
      "                                                      'id_str': '176932593',\n",
      "                                                      'indices': [187, 198],\n",
      "                                                      'name': 'UC Berkeley',\n",
      "                                                      'screen_name': 'UCBerkeley'}]},\n",
      "                      'extended_entities': {'media': [{'display_url': 'pic.twitter.com/XDv65ShEbG',\n",
      "                                                       'expanded_url': 'https://twitter.com/BerkeleyISchool/status/1052351185112506368/photo/1',\n",
      "                                                       'id': 1052351182730129408,\n",
      "                                                       'id_str': '1052351182730129408',\n",
      "                                                       'indices': [199, 222],\n",
      "                                                       'media_url': 'http://pbs.twimg.com/media/Dpqz0zmXcAAL2gF.png',\n",
      "                                                       'media_url_https': 'https://pbs.twimg.com/media/Dpqz0zmXcAAL2gF.png',\n",
      "                                                       'sizes': {'large': {'h': 456,\n",
      "                                                                           'resize': 'fit',\n",
      "                                                                           'w': 960},\n",
      "                                                                 'medium': {'h': 456,\n",
      "                                                                            'resize': 'fit',\n",
      "                                                                            'w': 960},\n",
      "                                                                 'small': {'h': 323,\n",
      "                                                                           'resize': 'fit',\n",
      "                                                                           'w': 680},\n",
      "                                                                 'thumb': {'h': 150,\n",
      "                                                                           'resize': 'crop',\n",
      "                                                                           'w': 150}},\n",
      "                                                       'type': 'photo',\n",
      "                                                       'url': 'https://t.co/XDv65ShEbG'}]},\n",
      "                      'favorite_count': 9,\n",
      "                      'favorited': False,\n",
      "                      'full_text': 'Dean @annosax is one 3 women who have '\n",
      "                                   'authored key works to understand the '\n",
      "                                   'current Entrepreneurial Age. '\n",
      "                                   'https://t.co/ke8memYKaQ By @Nicolas_Colin '\n",
      "                                   '@Forbes #SiliconValley #Entrepreneurship '\n",
      "                                   '@UCBerkeley https://t.co/XDv65ShEbG',\n",
      "                      'geo': None,\n",
      "                      'id': 1052351185112506368,\n",
      "                      'id_str': '1052351185112506368',\n",
      "                      'in_reply_to_screen_name': None,\n",
      "                      'in_reply_to_status_id': None,\n",
      "                      'in_reply_to_status_id_str': None,\n",
      "                      'in_reply_to_user_id': None,\n",
      "                      'in_reply_to_user_id_str': None,\n",
      "                      'is_quote_status': False,\n",
      "                      'lang': 'en',\n",
      "                      'place': None,\n",
      "                      'possibly_sensitive': False,\n",
      "                      'retweet_count': 4,\n",
      "                      'retweeted': False,\n",
      "                      'source': '<a href=\"https://buffer.com\" '\n",
      "                                'rel=\"nofollow\">Buffer</a>',\n",
      "                      'truncated': False,\n",
      "                      'user': {'contributors_enabled': False,\n",
      "                               'created_at': 'Wed Mar 09 06:13:42 +0000 2011',\n",
      "                               'default_profile': False,\n",
      "                               'default_profile_image': False,\n",
      "                               'description': 'The UC Berkeley School of '\n",
      "                                              'Information is a '\n",
      "                                              'multi-disciplinary program '\n",
      "                                              'devoted to enhancing the '\n",
      "                                              'accessibility, usability, '\n",
      "                                              'credibility & security of '\n",
      "                                              'information.',\n",
      "                               'entities': {'description': {'urls': []},\n",
      "                                            'url': {'urls': [{'display_url': 'ischool.berkeley.edu',\n",
      "                                                              'expanded_url': 'http://ischool.berkeley.edu',\n",
      "                                                              'indices': [0,\n",
      "                                                                          23],\n",
      "                                                              'url': 'https://t.co/5eXJ0wN1Jd'}]}},\n",
      "                               'favourites_count': 3224,\n",
      "                               'follow_request_sent': False,\n",
      "                               'followers_count': 4983,\n",
      "                               'following': False,\n",
      "                               'friends_count': 650,\n",
      "                               'geo_enabled': True,\n",
      "                               'has_extended_profile': False,\n",
      "                               'id': 263020833,\n",
      "                               'id_str': '263020833',\n",
      "                               'is_translation_enabled': False,\n",
      "                               'is_translator': False,\n",
      "                               'lang': 'en',\n",
      "                               'listed_count': 218,\n",
      "                               'location': 'Berkeley, California, USA',\n",
      "                               'name': 'Berkeley School of Information',\n",
      "                               'notifications': False,\n",
      "                               'profile_background_color': '38628F',\n",
      "                               'profile_background_image_url': 'http://abs.twimg.com/images/themes/theme1/bg.png',\n",
      "                               'profile_background_image_url_https': 'https://abs.twimg.com/images/themes/theme1/bg.png',\n",
      "                               'profile_background_tile': False,\n",
      "                               'profile_banner_url': 'https://pbs.twimg.com/profile_banners/263020833/1520571883',\n",
      "                               'profile_image_url': 'http://pbs.twimg.com/profile_images/971975267764789254/eAmDOL2o_normal.jpg',\n",
      "                               'profile_image_url_https': 'https://pbs.twimg.com/profile_images/971975267764789254/eAmDOL2o_normal.jpg',\n",
      "                               'profile_link_color': '3B7EA1',\n",
      "                               'profile_sidebar_border_color': 'C0DEED',\n",
      "                               'profile_sidebar_fill_color': 'DDEEF6',\n",
      "                               'profile_text_color': '333333',\n",
      "                               'profile_use_background_image': True,\n",
      "                               'protected': False,\n",
      "                               'screen_name': 'BerkeleyISchool',\n",
      "                               'statuses_count': 3950,\n",
      "                               'time_zone': None,\n",
      "                               'translator_type': 'none',\n",
      "                               'url': 'https://t.co/5eXJ0wN1Jd',\n",
      "                               'utc_offset': None,\n",
      "                               'verified': False}},\n",
      " 'source': '<a href=\"http://twitter.com\" rel=\"nofollow\">Twitter Web Client</a>',\n",
      " 'truncated': False,\n",
      " 'user': {'contributors_enabled': False,\n",
      "          'created_at': 'Thu Feb 28 14:37:26 +0000 2013',\n",
      "          'default_profile': False,\n",
      "          'default_profile_image': False,\n",
      "          'description': 'An online Master of Information and Data Science '\n",
      "                         '(MIDS) degree from the UC Berkeley School of '\n",
      "                         'Information. Learn more at: http://t.co/zf6gfBWovQ',\n",
      "          'entities': {'description': {'urls': [{'display_url': 'bit.ly/tBerkeleyData',\n",
      "                                                 'expanded_url': 'http://bit.ly/tBerkeleyData',\n",
      "                                                 'indices': [122, 144],\n",
      "                                                 'url': 'http://t.co/zf6gfBWovQ'}]},\n",
      "                       'url': {'urls': [{'display_url': 'datascience.berkeley.edu',\n",
      "                                         'expanded_url': 'http://datascience.berkeley.edu',\n",
      "                                         'indices': [0, 22],\n",
      "                                         'url': 'http://t.co/S79Ul3oCaa'}]}},\n",
      "          'favourites_count': 172,\n",
      "          'follow_request_sent': False,\n",
      "          'followers_count': 11762,\n",
      "          'following': False,\n",
      "          'friends_count': 412,\n",
      "          'geo_enabled': False,\n",
      "          'has_extended_profile': False,\n",
      "          'id': 1227698863,\n",
      "          'id_str': '1227698863',\n",
      "          'is_translation_enabled': False,\n",
      "          'is_translator': False,\n",
      "          'lang': 'en',\n",
      "          'listed_count': 488,\n",
      "          'location': 'Berkeley, CA',\n",
      "          'name': 'datascience@berkeley',\n",
      "          'notifications': False,\n",
      "          'profile_background_color': 'CCCCCC',\n",
      "          'profile_background_image_url': 'http://abs.twimg.com/images/themes/theme1/bg.png',\n",
      "          'profile_background_image_url_https': 'https://abs.twimg.com/images/themes/theme1/bg.png',\n",
      "          'profile_background_tile': False,\n",
      "          'profile_banner_url': 'https://pbs.twimg.com/profile_banners/1227698863/1502212054',\n",
      "          'profile_image_url': 'http://pbs.twimg.com/profile_images/894968224973897728/lI8iiF3J_normal.jpg',\n",
      "          'profile_image_url_https': 'https://pbs.twimg.com/profile_images/894968224973897728/lI8iiF3J_normal.jpg',\n",
      "          'profile_link_color': '5173B6',\n",
      "          'profile_sidebar_border_color': 'FFFFFF',\n",
      "          'profile_sidebar_fill_color': 'DDEEF6',\n",
      "          'profile_text_color': '333333',\n",
      "          'profile_use_background_image': True,\n",
      "          'protected': False,\n",
      "          'screen_name': 'BerkeleyData',\n",
      "          'statuses_count': 2407,\n",
      "          'time_zone': None,\n",
      "          'translator_type': 'none',\n",
      "          'url': 'http://t.co/S79Ul3oCaa',\n",
      "          'utc_offset': None,\n",
      "          'verified': False}}\n"
     ]
    }
   ],
   "source": [
    "# Looking at one tweet object, which has type Status: \n",
    "from pprint import pprint # ...to get a more easily-readable view.\n",
    "pprint(example_tweets[0])"
   ]
  },
  {
   "cell_type": "markdown",
   "metadata": {
    "collapsed": true,
    "deletable": false,
    "editable": false,
    "nbgrader": {
     "cell_type": "markdown",
     "checksum": "43ce65ddda5bb1543856611dd2c536f9",
     "grade": false,
     "grade_id": "q2a",
     "locked": true,
     "schema_version": 2,
     "solution": false
    }
   },
   "source": [
    "## Question 2a\n",
    "\n",
    "### What you need to do. \n",
    "\n",
    "Re-factor the above code fragment into reusable snippets below.  You should not need to make major modifications; this is mostly an exercise in understanding the above code block. "
   ]
  },
  {
   "cell_type": "code",
   "execution_count": 8,
   "metadata": {
    "deletable": false,
    "nbgrader": {
     "cell_type": "code",
     "checksum": "bd6de9d61c340450539455afd0f8fdf3",
     "grade": false,
     "grade_id": "load-keys",
     "locked": false,
     "schema_version": 2,
     "solution": true
    },
    "tags": [
     "student"
    ]
   },
   "outputs": [],
   "source": [
    "def load_keys(path):\n",
    "    \"\"\"Loads your Twitter authentication keys from a file on disk.\n",
    "    \n",
    "    Args:\n",
    "        path (str): The path to your key file.  The file should\n",
    "          be in JSON format and look like this (but filled in):\n",
    "            {\n",
    "                \"consumer_key\": \"<your Consumer Key here>\",\n",
    "                \"consumer_secret\":  \"<your Consumer Secret here>\",\n",
    "                \"access_token\": \"<your Access Token here>\",\n",
    "                \"access_token_secret\": \"<your Access Token Secret here>\"\n",
    "            }\n",
    "    \n",
    "    Returns:\n",
    "        dict: A dictionary mapping key names (like \"consumer_key\") to\n",
    "          key values.\"\"\"\n",
    "    \n",
    "    # YOUR CODE HERE\n",
    "    with open(path) as f:\n",
    "        keys = json.load(f)\n",
    "    return keys\n",
    "    #raise NotImplementedError()"
   ]
  },
  {
   "cell_type": "code",
   "execution_count": 9,
   "metadata": {
    "deletable": false,
    "nbgrader": {
     "cell_type": "code",
     "checksum": "76ff200bf064ab3f5c457bc4725d8cd8",
     "grade": false,
     "grade_id": "download-recent-tweets",
     "locked": false,
     "schema_version": 2,
     "solution": true
    },
    "tags": [
     "student"
    ]
   },
   "outputs": [],
   "source": [
    "def download_recent_tweets_by_user(user_account_name, keys):\n",
    "    \"\"\"Downloads tweets by one Twitter user.\n",
    "\n",
    "    Args:\n",
    "        user_account_name (str): The name of the Twitter account\n",
    "          whose tweets will be downloaded.\n",
    "        keys (dict): A Python dictionary with Twitter authentication\n",
    "          keys (strings), like this (but filled in):\n",
    "            {\n",
    "                \"consumer_key\": \"<your Consumer Key here>\",\n",
    "                \"consumer_secret\":  \"<your Consumer Secret here>\",\n",
    "                \"access_token\": \"<your Access Token here>\",\n",
    "                \"access_token_secret\": \"<your Access Token Secret here>\"\n",
    "            }\n",
    "\n",
    "    Returns:\n",
    "        list: A list of Dictonary objects, each representing one tweet.\"\"\"\n",
    "    import tweepy\n",
    "    \n",
    "    # YOUR CODE HERE\n",
    "    try:\n",
    "        auth = tweepy.OAuthHandler(keys[\"consumer_key\"], keys[\"consumer_secret\"])\n",
    "        auth.set_access_token(keys[\"access_token\"], keys[\"access_token_secret\"])\n",
    "        api = tweepy.API(auth)\n",
    "        #print(\"Your username is:\", api.auth.get_username())\n",
    "    except TweepError as e:\n",
    "        logging.warning(\"There was a Tweepy error. Double check your API keys and try again.\")\n",
    "        logging.warning(e)\n",
    "        \n",
    "    #ds_tweets_save_path = \"BerkeleyData_recent_tweets.json\"\n",
    "    #id_name = api.auth.get_username()\n",
    "    tweets = [t._json for t in tweepy.Cursor(api.user_timeline, id=user_account_name, \n",
    "                                             tweet_mode='extended').items()]\n",
    "    return tweets\n",
    "    #raise NotImplementedError()"
   ]
  },
  {
   "cell_type": "code",
   "execution_count": 10,
   "metadata": {
    "deletable": false,
    "nbgrader": {
     "cell_type": "code",
     "checksum": "75d788899e9212031d95685b7ebb4505",
     "grade": false,
     "grade_id": "save-tweets",
     "locked": false,
     "schema_version": 2,
     "solution": true
    },
    "tags": [
     "student"
    ]
   },
   "outputs": [],
   "source": [
    "def save_tweets(tweets, path):\n",
    "    \"\"\"Saves a list of tweets to a file in the local filesystem.\n",
    "    \n",
    "    This function makes no guarantee about the format of the saved\n",
    "    tweets, **except** that calling load_tweets(path) after\n",
    "    save_tweets(tweets, path) will produce the same list of tweets\n",
    "    and that only the file at the given path is used to store the\n",
    "    tweets.  (That means you can implement this function however\n",
    "    you want, as long as saving and loading works!)\n",
    "\n",
    "    Args:\n",
    "        tweets (list): A list of tweet objects (of type Dictionary) to\n",
    "          be saved.\n",
    "        path (str): The place where the tweets will be saved.\n",
    "\n",
    "    Returns:\n",
    "        None\"\"\"\n",
    "    # YOUR CODE HERE\n",
    "    with open(path, \"w\") as f:        \n",
    "        json.dump(tweets, f)\n",
    "    #raise NotImplementedError()"
   ]
  },
  {
   "cell_type": "code",
   "execution_count": 11,
   "metadata": {
    "deletable": false,
    "nbgrader": {
     "cell_type": "code",
     "checksum": "31f5a74addf3b0211c65b0220160568c",
     "grade": false,
     "grade_id": "load-tweets",
     "locked": false,
     "schema_version": 2,
     "solution": true
    },
    "tags": [
     "student"
    ]
   },
   "outputs": [],
   "source": [
    "def load_tweets(path):\n",
    "    \"\"\"Loads tweets that have previously been saved.\n",
    "    \n",
    "    Calling load_tweets(path) after save_tweets(tweets, path)\n",
    "    will produce the same list of tweets.\n",
    "    \n",
    "    Args:\n",
    "        path (str): The place where the tweets were be saved.\n",
    "\n",
    "    Returns:\n",
    "        list: A list of Dictionary objects, each representing one tweet.\"\"\"\n",
    "    \n",
    "    # YOUR CODE HERE\n",
    "    with open(path, \"r\") as f:\n",
    "        tweets = json.load(f)\n",
    "\n",
    "    return tweets\n",
    "    #raise NotImplementedError()"
   ]
  },
  {
   "cell_type": "code",
   "execution_count": 12,
   "metadata": {
    "deletable": false,
    "nbgrader": {
     "cell_type": "code",
     "checksum": "2c2633d5128de6e4aadf225aa291118d",
     "grade": false,
     "grade_id": "get-tweets-with-cache",
     "locked": false,
     "schema_version": 2,
     "solution": true
    },
    "tags": [
     "student"
    ]
   },
   "outputs": [],
   "source": [
    "def get_tweets_with_cache(user_account_name, keys_path):\n",
    "    \"\"\"Get recent tweets from one user, loading from a disk cache if available.\n",
    "    \n",
    "    The first time you call this function, it will download tweets by\n",
    "    a user.  Subsequent calls will not re-download the tweets; instead\n",
    "    they'll load the tweets from a save file in your local filesystem.\n",
    "    All this is done using the functions you defined in the previous cell.\n",
    "    This has benefits and drawbacks that often appear when you cache data:\n",
    "    \n",
    "    +: Using this function will prevent extraneous usage of the Twitter API.\n",
    "    +: You will get your data much faster after the first time it's called.\n",
    "    -: If you really want to re-download the tweets (say, to get newer ones,\n",
    "       or because you screwed up something in the previous cell and your\n",
    "       tweets aren't what you wanted), you'll have to find the save file\n",
    "       (which will look like <something>_recent_tweets.pkl) and delete it.\n",
    "    \n",
    "    Args:\n",
    "        user_account_name (str): The Twitter handle of a user, without the @.\n",
    "        keys_path (str): The path to a JSON keys file in your filesystem.\n",
    "    \"\"\"\n",
    "    \n",
    "    # YOUR CODE HERE\n",
    "    if not Path(user_account_name + '_recent_tweets.json').is_file():\n",
    "        keys = load_keys(keys_path)\n",
    "        print(keys)\n",
    "        tweets = download_recent_tweets_by_user(user_account_name, keys )\n",
    "        save_tweets(tweets, user_account_name + '_recent_tweets.json')\n",
    "    else:\n",
    "        return load_tweets(user_account_name + '_recent_tweets.json')\n",
    "    #raise NotImplementedError()"
   ]
  },
  {
   "cell_type": "markdown",
   "metadata": {
    "deletable": false,
    "editable": false,
    "nbgrader": {
     "cell_type": "markdown",
     "checksum": "a2ddaff40134b8cf8f582c1df5db3883",
     "grade": false,
     "grade_id": "about-to-get-real",
     "locked": true,
     "schema_version": 2,
     "solution": false
    }
   },
   "source": [
    "If everything was implemented correctly you should be able to obtain roughly the last 3000 tweets by the `realdonaldtrump`.  (This may take a few minutes)"
   ]
  },
  {
   "cell_type": "code",
   "execution_count": 13,
   "metadata": {
    "deletable": false,
    "editable": false,
    "nbgrader": {
     "cell_type": "code",
     "checksum": "8ac3bb2120526571535abbe412929bfd",
     "grade": false,
     "grade_id": "trump-tweets",
     "locked": true,
     "schema_version": 2,
     "solution": false
    }
   },
   "outputs": [
    {
     "name": "stdout",
     "output_type": "stream",
     "text": [
      "Number of tweets downloaded: 3211\n"
     ]
    }
   ],
   "source": [
    "# When you are done, run this cell to load @realdonaldtrump's tweets.\n",
    "# Note the function get_tweets_with_cache.  You may find it useful\n",
    "# later.\n",
    "trump_tweets = get_tweets_with_cache(\"realdonaldtrump\", key_file)\n",
    "print(\"Number of tweets downloaded:\", len(trump_tweets))"
   ]
  },
  {
   "cell_type": "code",
   "execution_count": 14,
   "metadata": {
    "deletable": false,
    "editable": false,
    "nbgrader": {
     "cell_type": "code",
     "checksum": "afaf66b3188a4752b0271beed957ef6c",
     "grade": true,
     "grade_id": "trump-tweets-test",
     "locked": true,
     "points": 1,
     "schema_version": 2,
     "solution": false
    }
   },
   "outputs": [],
   "source": [
    "assert 2000 <= len(trump_tweets) <= 4000"
   ]
  },
  {
   "cell_type": "markdown",
   "metadata": {
    "deletable": false,
    "editable": false,
    "nbgrader": {
     "cell_type": "markdown",
     "checksum": "e991a5d45fd0eeebe8b1c6371a4019f9",
     "grade": false,
     "grade_id": "q2b",
     "locked": true,
     "schema_version": 2,
     "solution": false
    }
   },
   "source": [
    "### Question 2b\n",
    "\n",
    "We are limited to how many tweets we can download.  In what month is the oldest tweet from Trump?"
   ]
  },
  {
   "cell_type": "code",
   "execution_count": 15,
   "metadata": {},
   "outputs": [
    {
     "data": {
      "text/plain": [
       "{'contributors': None,\n",
       " 'coordinates': None,\n",
       " 'created_at': 'Sat Feb 24 13:23:37 +0000 2018',\n",
       " 'display_text_range': [0, 139],\n",
       " 'entities': {'hashtags': [],\n",
       "  'symbols': [],\n",
       "  'urls': [],\n",
       "  'user_mentions': [{'id': 25073877,\n",
       "    'id_str': '25073877',\n",
       "    'indices': [3, 19],\n",
       "    'name': 'Donald J. Trump',\n",
       "    'screen_name': 'realDonaldTrump'}]},\n",
       " 'favorite_count': 0,\n",
       " 'favorited': False,\n",
       " 'full_text': 'RT @realDonaldTrump: I will be strongly pushing Comprehensive Background Checks with an emphasis on Mental Health. Raise age to 21 and end…',\n",
       " 'geo': None,\n",
       " 'id': 967389553362423808,\n",
       " 'id_str': '967389553362423808',\n",
       " 'in_reply_to_screen_name': None,\n",
       " 'in_reply_to_status_id': None,\n",
       " 'in_reply_to_status_id_str': None,\n",
       " 'in_reply_to_user_id': None,\n",
       " 'in_reply_to_user_id_str': None,\n",
       " 'is_quote_status': False,\n",
       " 'lang': 'en',\n",
       " 'place': None,\n",
       " 'retweet_count': 35359,\n",
       " 'retweeted': False,\n",
       " 'retweeted_status': {'contributors': None,\n",
       "  'coordinates': None,\n",
       "  'created_at': 'Thu Feb 22 13:13:32 +0000 2018',\n",
       "  'display_text_range': [0, 208],\n",
       "  'entities': {'hashtags': [], 'symbols': [], 'urls': [], 'user_mentions': []},\n",
       "  'favorite_count': 181548,\n",
       "  'favorited': False,\n",
       "  'full_text': 'I will be strongly pushing Comprehensive Background Checks with an emphasis on Mental Health. Raise age to 21 and end sale of Bump Stocks! Congress is in a mood to finally do something on this issue - I hope!',\n",
       "  'geo': None,\n",
       "  'id': 966662241977360384,\n",
       "  'id_str': '966662241977360384',\n",
       "  'in_reply_to_screen_name': None,\n",
       "  'in_reply_to_status_id': None,\n",
       "  'in_reply_to_status_id_str': None,\n",
       "  'in_reply_to_user_id': None,\n",
       "  'in_reply_to_user_id_str': None,\n",
       "  'is_quote_status': False,\n",
       "  'lang': 'en',\n",
       "  'place': None,\n",
       "  'retweet_count': 35359,\n",
       "  'retweeted': False,\n",
       "  'source': '<a href=\"http://twitter.com/download/iphone\" rel=\"nofollow\">Twitter for iPhone</a>',\n",
       "  'truncated': False,\n",
       "  'user': {'contributors_enabled': False,\n",
       "   'created_at': 'Wed Mar 18 13:46:38 +0000 2009',\n",
       "   'default_profile': False,\n",
       "   'default_profile_image': False,\n",
       "   'description': '45th President of the United States of America🇺🇸',\n",
       "   'entities': {'description': {'urls': []},\n",
       "    'url': {'urls': [{'display_url': 'Instagram.com/realDonaldTrump',\n",
       "       'expanded_url': 'http://www.Instagram.com/realDonaldTrump',\n",
       "       'indices': [0, 23],\n",
       "       'url': 'https://t.co/OMxB0xp8tD'}]}},\n",
       "   'favourites_count': 7,\n",
       "   'follow_request_sent': False,\n",
       "   'followers_count': 55276816,\n",
       "   'following': False,\n",
       "   'friends_count': 46,\n",
       "   'geo_enabled': True,\n",
       "   'has_extended_profile': False,\n",
       "   'id': 25073877,\n",
       "   'id_str': '25073877',\n",
       "   'is_translation_enabled': True,\n",
       "   'is_translator': False,\n",
       "   'lang': 'en',\n",
       "   'listed_count': 95025,\n",
       "   'location': 'Washington, DC',\n",
       "   'name': 'Donald J. Trump',\n",
       "   'notifications': False,\n",
       "   'profile_background_color': '6D5C18',\n",
       "   'profile_background_image_url': 'http://abs.twimg.com/images/themes/theme1/bg.png',\n",
       "   'profile_background_image_url_https': 'https://abs.twimg.com/images/themes/theme1/bg.png',\n",
       "   'profile_background_tile': True,\n",
       "   'profile_banner_url': 'https://pbs.twimg.com/profile_banners/25073877/1540264974',\n",
       "   'profile_image_url': 'http://pbs.twimg.com/profile_images/874276197357596672/kUuht00m_normal.jpg',\n",
       "   'profile_image_url_https': 'https://pbs.twimg.com/profile_images/874276197357596672/kUuht00m_normal.jpg',\n",
       "   'profile_link_color': '1B95E0',\n",
       "   'profile_sidebar_border_color': 'BDDCAD',\n",
       "   'profile_sidebar_fill_color': 'C5CEC0',\n",
       "   'profile_text_color': '333333',\n",
       "   'profile_use_background_image': True,\n",
       "   'protected': False,\n",
       "   'screen_name': 'realDonaldTrump',\n",
       "   'statuses_count': 39400,\n",
       "   'time_zone': None,\n",
       "   'translator_type': 'regular',\n",
       "   'url': 'https://t.co/OMxB0xp8tD',\n",
       "   'utc_offset': None,\n",
       "   'verified': True}},\n",
       " 'source': '<a href=\"http://twitter.com/download/iphone\" rel=\"nofollow\">Twitter for iPhone</a>',\n",
       " 'truncated': False,\n",
       " 'user': {'contributors_enabled': False,\n",
       "  'created_at': 'Wed Mar 18 13:46:38 +0000 2009',\n",
       "  'default_profile': False,\n",
       "  'default_profile_image': False,\n",
       "  'description': '45th President of the United States of America🇺🇸',\n",
       "  'entities': {'description': {'urls': []},\n",
       "   'url': {'urls': [{'display_url': 'Instagram.com/realDonaldTrump',\n",
       "      'expanded_url': 'http://www.Instagram.com/realDonaldTrump',\n",
       "      'indices': [0, 23],\n",
       "      'url': 'https://t.co/OMxB0xp8tD'}]}},\n",
       "  'favourites_count': 7,\n",
       "  'follow_request_sent': False,\n",
       "  'followers_count': 55276816,\n",
       "  'following': False,\n",
       "  'friends_count': 46,\n",
       "  'geo_enabled': True,\n",
       "  'has_extended_profile': False,\n",
       "  'id': 25073877,\n",
       "  'id_str': '25073877',\n",
       "  'is_translation_enabled': True,\n",
       "  'is_translator': False,\n",
       "  'lang': 'en',\n",
       "  'listed_count': 95025,\n",
       "  'location': 'Washington, DC',\n",
       "  'name': 'Donald J. Trump',\n",
       "  'notifications': False,\n",
       "  'profile_background_color': '6D5C18',\n",
       "  'profile_background_image_url': 'http://abs.twimg.com/images/themes/theme1/bg.png',\n",
       "  'profile_background_image_url_https': 'https://abs.twimg.com/images/themes/theme1/bg.png',\n",
       "  'profile_background_tile': True,\n",
       "  'profile_banner_url': 'https://pbs.twimg.com/profile_banners/25073877/1540264974',\n",
       "  'profile_image_url': 'http://pbs.twimg.com/profile_images/874276197357596672/kUuht00m_normal.jpg',\n",
       "  'profile_image_url_https': 'https://pbs.twimg.com/profile_images/874276197357596672/kUuht00m_normal.jpg',\n",
       "  'profile_link_color': '1B95E0',\n",
       "  'profile_sidebar_border_color': 'BDDCAD',\n",
       "  'profile_sidebar_fill_color': 'C5CEC0',\n",
       "  'profile_text_color': '333333',\n",
       "  'profile_use_background_image': True,\n",
       "  'protected': False,\n",
       "  'screen_name': 'realDonaldTrump',\n",
       "  'statuses_count': 39400,\n",
       "  'time_zone': None,\n",
       "  'translator_type': 'regular',\n",
       "  'url': 'https://t.co/OMxB0xp8tD',\n",
       "  'utc_offset': None,\n",
       "  'verified': True}}"
      ]
     },
     "execution_count": 15,
     "metadata": {},
     "output_type": "execute_result"
    }
   ],
   "source": [
    "trump_tweets[2405]"
   ]
  },
  {
   "cell_type": "code",
   "execution_count": 16,
   "metadata": {
    "deletable": false,
    "nbgrader": {
     "cell_type": "code",
     "checksum": "1b46b55114772326e527b1dd67a17a8e",
     "grade": false,
     "grade_id": "oldest-month-question",
     "locked": false,
     "schema_version": 2,
     "solution": true
    }
   },
   "outputs": [],
   "source": [
    "# Enter the number of the month of the oldest tweet (e.g. 1 for January)\n",
    "oldest_month = '7'\n",
    "\n",
    "# YOUR CODE HERE\n",
    "#raise NotImplementedError()"
   ]
  },
  {
   "cell_type": "code",
   "execution_count": null,
   "metadata": {
    "deletable": false,
    "editable": false,
    "nbgrader": {
     "cell_type": "code",
     "checksum": "a1bc7ba95e8b2c50def1081519525604",
     "grade": true,
     "grade_id": "oldest-month-answer",
     "locked": true,
     "points": 1,
     "schema_version": 2,
     "solution": false
    }
   },
   "outputs": [],
   "source": []
  },
  {
   "cell_type": "markdown",
   "metadata": {
    "deletable": false,
    "editable": false,
    "nbgrader": {
     "cell_type": "markdown",
     "checksum": "06c75046cf9899a309ab35c11c403965",
     "grade": false,
     "grade_id": "q3",
     "locked": true,
     "schema_version": 2,
     "solution": false
    }
   },
   "source": [
    "\n",
    "## Question 3\n",
    "\n",
    "\n",
    "**IMPORTANT! PLEASE READ**\n",
    "\n",
    "Unfortunately, Twitter prevent us from going further back in time using the public APIs.  Fortunately, we have a snapshot of earlier tweets that we can combine with our new data.  \n",
    "\n",
    "We will again use the `fetch_and_cache` utility to download the dataset. "
   ]
  },
  {
   "cell_type": "code",
   "execution_count": 17,
   "metadata": {
    "deletable": false,
    "editable": false,
    "nbgrader": {
     "cell_type": "code",
     "checksum": "4ac0f2bbd264f78c5709e04bfaee390d",
     "grade": false,
     "grade_id": "download-data",
     "locked": true,
     "schema_version": 2,
     "solution": false
    }
   },
   "outputs": [
    {
     "name": "stdout",
     "output_type": "stream",
     "text": [
      "Using version already downloaded: Mon Oct 22 09:51:40 2018\n",
      "MD5 hash of file: b6e33874de91d1a40207cdf9f9b51a09\n",
      "Located at data/old_trump_tweets.json.zip\n"
     ]
    }
   ],
   "source": [
    "# Download the dataset\n",
    "from utils import fetch_and_cache\n",
    "data_url = 'http://www.ds100.org/fa18/assets/datasets/old_trump_tweets.json.zip'\n",
    "file_name = 'old_trump_tweets.json.zip'\n",
    "\n",
    "dest_path = fetch_and_cache(data_url=data_url, file=file_name)\n",
    "print(f'Located at {dest_path}')"
   ]
  },
  {
   "cell_type": "markdown",
   "metadata": {
    "deletable": false,
    "editable": false,
    "nbgrader": {
     "cell_type": "markdown",
     "checksum": "da803030a1c84a39afbb134dfb8b19fd",
     "grade": false,
     "grade_id": "loading-data-inst",
     "locked": true,
     "schema_version": 2,
     "solution": false
    }
   },
   "source": [
    "Finally, we we will load the tweets directly from the compressed file without decompressing it first."
   ]
  },
  {
   "cell_type": "code",
   "execution_count": 18,
   "metadata": {
    "deletable": false,
    "editable": false,
    "nbgrader": {
     "cell_type": "code",
     "checksum": "2f84519e987875b6b57d9cc5bae460cf",
     "grade": false,
     "grade_id": "loading-old-tweets",
     "locked": true,
     "schema_version": 2,
     "solution": false
    }
   },
   "outputs": [],
   "source": [
    "my_zip = zipfile.ZipFile(dest_path, 'r')\n",
    "with my_zip.open(\"old_trump_tweets.json\", \"r\") as f:\n",
    "    old_trump_tweets = json.load(f)"
   ]
  },
  {
   "cell_type": "markdown",
   "metadata": {
    "deletable": false,
    "editable": false,
    "nbgrader": {
     "cell_type": "markdown",
     "checksum": "8661fc27e5f1cdfce041efd3896ae838",
     "grade": false,
     "grade_id": "formatting-note",
     "locked": true,
     "schema_version": 2,
     "solution": false
    }
   },
   "source": [
    "This data is formatted identically to the recent tweets we just downloaded:"
   ]
  },
  {
   "cell_type": "code",
   "execution_count": 19,
   "metadata": {
    "deletable": false,
    "editable": false,
    "nbgrader": {
     "cell_type": "code",
     "checksum": "30d8ef8fa2c1b900a48779e6cf0320b6",
     "grade": false,
     "grade_id": "pprint-old-tweets",
     "locked": true,
     "schema_version": 2,
     "solution": false
    }
   },
   "outputs": [
    {
     "name": "stdout",
     "output_type": "stream",
     "text": [
      "{'contributors': None,\n",
      " 'coordinates': None,\n",
      " 'created_at': 'Wed Oct 12 14:00:48 +0000 2016',\n",
      " 'entities': {'hashtags': [{'indices': [23, 38], 'text': 'CrookedHillary'}],\n",
      "              'media': [{'display_url': 'pic.twitter.com/wjsl8ITVvk',\n",
      "                         'expanded_url': 'https://twitter.com/realDonaldTrump/status/786204978629185536/video/1',\n",
      "                         'id': 786204885318561792,\n",
      "                         'id_str': '786204885318561792',\n",
      "                         'indices': [39, 62],\n",
      "                         'media_url': 'http://pbs.twimg.com/ext_tw_video_thumb/786204885318561792/pu/img/XqMoixLm83FzkAbn.jpg',\n",
      "                         'media_url_https': 'https://pbs.twimg.com/ext_tw_video_thumb/786204885318561792/pu/img/XqMoixLm83FzkAbn.jpg',\n",
      "                         'sizes': {'large': {'h': 576,\n",
      "                                             'resize': 'fit',\n",
      "                                             'w': 1024},\n",
      "                                   'medium': {'h': 338,\n",
      "                                              'resize': 'fit',\n",
      "                                              'w': 600},\n",
      "                                   'small': {'h': 191,\n",
      "                                             'resize': 'fit',\n",
      "                                             'w': 340},\n",
      "                                   'thumb': {'h': 150,\n",
      "                                             'resize': 'crop',\n",
      "                                             'w': 150}},\n",
      "                         'type': 'photo',\n",
      "                         'url': 'https://t.co/wjsl8ITVvk'}],\n",
      "              'symbols': [],\n",
      "              'urls': [],\n",
      "              'user_mentions': []},\n",
      " 'extended_entities': {'media': [{'additional_media_info': {'monetizable': False},\n",
      "                                  'display_url': 'pic.twitter.com/wjsl8ITVvk',\n",
      "                                  'expanded_url': 'https://twitter.com/realDonaldTrump/status/786204978629185536/video/1',\n",
      "                                  'id': 786204885318561792,\n",
      "                                  'id_str': '786204885318561792',\n",
      "                                  'indices': [39, 62],\n",
      "                                  'media_url': 'http://pbs.twimg.com/ext_tw_video_thumb/786204885318561792/pu/img/XqMoixLm83FzkAbn.jpg',\n",
      "                                  'media_url_https': 'https://pbs.twimg.com/ext_tw_video_thumb/786204885318561792/pu/img/XqMoixLm83FzkAbn.jpg',\n",
      "                                  'sizes': {'large': {'h': 576,\n",
      "                                                      'resize': 'fit',\n",
      "                                                      'w': 1024},\n",
      "                                            'medium': {'h': 338,\n",
      "                                                       'resize': 'fit',\n",
      "                                                       'w': 600},\n",
      "                                            'small': {'h': 191,\n",
      "                                                      'resize': 'fit',\n",
      "                                                      'w': 340},\n",
      "                                            'thumb': {'h': 150,\n",
      "                                                      'resize': 'crop',\n",
      "                                                      'w': 150}},\n",
      "                                  'type': 'video',\n",
      "                                  'url': 'https://t.co/wjsl8ITVvk',\n",
      "                                  'video_info': {'aspect_ratio': [16, 9],\n",
      "                                                 'duration_millis': 30106,\n",
      "                                                 'variants': [{'bitrate': 832000,\n",
      "                                                               'content_type': 'video/mp4',\n",
      "                                                               'url': 'https://video.twimg.com/ext_tw_video/786204885318561792/pu/vid/640x360/6vt24D3ZQSvYuDqe.mp4'},\n",
      "                                                              {'bitrate': 2176000,\n",
      "                                                               'content_type': 'video/mp4',\n",
      "                                                               'url': 'https://video.twimg.com/ext_tw_video/786204885318561792/pu/vid/1280x720/rSbgQdvR9TPIlRWr.mp4'},\n",
      "                                                              {'bitrate': 320000,\n",
      "                                                               'content_type': 'video/mp4',\n",
      "                                                               'url': 'https://video.twimg.com/ext_tw_video/786204885318561792/pu/vid/320x180/JuNJDqr1KHqoP83N.mp4'},\n",
      "                                                              {'content_type': 'application/x-mpegURL',\n",
      "                                                               'url': 'https://video.twimg.com/ext_tw_video/786204885318561792/pu/pl/IugUNii3a7lmjApS.m3u8'}]}}]},\n",
      " 'favorite_count': 42242,\n",
      " 'favorited': False,\n",
      " 'geo': None,\n",
      " 'id': 786204978629185536,\n",
      " 'id_str': '786204978629185536',\n",
      " 'in_reply_to_screen_name': None,\n",
      " 'in_reply_to_status_id': None,\n",
      " 'in_reply_to_status_id_str': None,\n",
      " 'in_reply_to_user_id': None,\n",
      " 'in_reply_to_user_id_str': None,\n",
      " 'is_quote_status': False,\n",
      " 'lang': 'en',\n",
      " 'place': {'attributes': {},\n",
      "           'bounding_box': {'coordinates': [[[-87.634643, 24.396308],\n",
      "                                             [-79.974307, 24.396308],\n",
      "                                             [-79.974307, 31.001056],\n",
      "                                             [-87.634643, 31.001056]]],\n",
      "                            'type': 'Polygon'},\n",
      "           'contained_within': [],\n",
      "           'country': 'United States',\n",
      "           'country_code': 'US',\n",
      "           'full_name': 'Florida, USA',\n",
      "           'id': '4ec01c9dbc693497',\n",
      "           'name': 'Florida',\n",
      "           'place_type': 'admin',\n",
      "           'url': 'https://api.twitter.com/1.1/geo/id/4ec01c9dbc693497.json'},\n",
      " 'possibly_sensitive': False,\n",
      " 'retweet_count': 24915,\n",
      " 'retweeted': False,\n",
      " 'source': '<a href=\"http://twitter.com/download/iphone\" '\n",
      "           'rel=\"nofollow\">Twitter for iPhone</a>',\n",
      " 'text': 'PAY TO PLAY POLITICS. \\n#CrookedHillary https://t.co/wjsl8ITVvk',\n",
      " 'truncated': False,\n",
      " 'user': {'contributors_enabled': False,\n",
      "          'created_at': 'Wed Mar 18 13:46:38 +0000 2009',\n",
      "          'default_profile': False,\n",
      "          'default_profile_image': False,\n",
      "          'description': '45th President of the United States of America🇺🇸',\n",
      "          'entities': {'description': {'urls': []}},\n",
      "          'favourites_count': 12,\n",
      "          'follow_request_sent': False,\n",
      "          'followers_count': 35307313,\n",
      "          'following': False,\n",
      "          'friends_count': 45,\n",
      "          'geo_enabled': True,\n",
      "          'has_extended_profile': False,\n",
      "          'id': 25073877,\n",
      "          'id_str': '25073877',\n",
      "          'is_translation_enabled': True,\n",
      "          'is_translator': False,\n",
      "          'lang': 'en',\n",
      "          'listed_count': 74225,\n",
      "          'location': 'Washington, DC',\n",
      "          'name': 'Donald J. Trump',\n",
      "          'notifications': False,\n",
      "          'profile_background_color': '6D5C18',\n",
      "          'profile_background_image_url': 'http://pbs.twimg.com/profile_background_images/530021613/trump_scotland__43_of_70_cc.jpg',\n",
      "          'profile_background_image_url_https': 'https://pbs.twimg.com/profile_background_images/530021613/trump_scotland__43_of_70_cc.jpg',\n",
      "          'profile_background_tile': True,\n",
      "          'profile_banner_url': 'https://pbs.twimg.com/profile_banners/25073877/1501916634',\n",
      "          'profile_image_url': 'http://pbs.twimg.com/profile_images/874276197357596672/kUuht00m_normal.jpg',\n",
      "          'profile_image_url_https': 'https://pbs.twimg.com/profile_images/874276197357596672/kUuht00m_normal.jpg',\n",
      "          'profile_link_color': '1B95E0',\n",
      "          'profile_sidebar_border_color': 'BDDCAD',\n",
      "          'profile_sidebar_fill_color': 'C5CEC0',\n",
      "          'profile_text_color': '333333',\n",
      "          'profile_use_background_image': True,\n",
      "          'protected': False,\n",
      "          'screen_name': 'realDonaldTrump',\n",
      "          'statuses_count': 35480,\n",
      "          'time_zone': 'Eastern Time (US & Canada)',\n",
      "          'translator_type': 'regular',\n",
      "          'url': None,\n",
      "          'utc_offset': -14400,\n",
      "          'verified': True}}\n"
     ]
    }
   ],
   "source": [
    "pprint(old_trump_tweets[0])"
   ]
  },
  {
   "cell_type": "markdown",
   "metadata": {
    "deletable": false,
    "editable": false,
    "nbgrader": {
     "cell_type": "markdown",
     "checksum": "15f652a6c9d0626c82b34be4253b2333",
     "grade": false,
     "grade_id": "listing-keys-inst",
     "locked": true,
     "schema_version": 2,
     "solution": false
    }
   },
   "source": [
    "As a dictionary we can also list the keys:"
   ]
  },
  {
   "cell_type": "code",
   "execution_count": 20,
   "metadata": {
    "deletable": false,
    "editable": false,
    "nbgrader": {
     "cell_type": "code",
     "checksum": "c88eaf1ba38e6c52151ad6a2922216c0",
     "grade": false,
     "grade_id": "listing-keys",
     "locked": true,
     "schema_version": 2,
     "solution": false
    }
   },
   "outputs": [
    {
     "data": {
      "text/plain": [
       "dict_keys(['created_at', 'id', 'id_str', 'text', 'truncated', 'entities', 'extended_entities', 'source', 'in_reply_to_status_id', 'in_reply_to_status_id_str', 'in_reply_to_user_id', 'in_reply_to_user_id_str', 'in_reply_to_screen_name', 'user', 'geo', 'coordinates', 'place', 'contributors', 'is_quote_status', 'retweet_count', 'favorite_count', 'favorited', 'retweeted', 'possibly_sensitive', 'lang'])"
      ]
     },
     "execution_count": 20,
     "metadata": {},
     "output_type": "execute_result"
    }
   ],
   "source": [
    "old_trump_tweets[0].keys()"
   ]
  },
  {
   "cell_type": "markdown",
   "metadata": {},
   "source": [
    "Since we're giving you a zipfile of old tweets, you may wonder why we didn't just give you a zipfile of ALL tweets and save you the trouble of creating a Twitter developer account. The reason is that we wanted you to see what it's like to collect data from the real world on your own. It can be a pain!"
   ]
  },
  {
   "cell_type": "markdown",
   "metadata": {
    "deletable": false,
    "editable": false,
    "nbgrader": {
     "cell_type": "markdown",
     "checksum": "b40bfbf5e74ba5af630326ab7a77c98c",
     "grade": false,
     "grade_id": "q3a",
     "locked": true,
     "schema_version": 2,
     "solution": false
    }
   },
   "source": [
    "### Question 3a\n",
    "\n",
    "Merge the `old_trump_tweets` and the `trump_tweets` we downloaded from twitter into one giant list of tweets. \n",
    "\n",
    "**Important:** There may be some overlap so be sure to eliminate duplicate tweets.  \n",
    "**Hint:** the `id` of a tweet is always unique."
   ]
  },
  {
   "cell_type": "code",
   "execution_count": 21,
   "metadata": {},
   "outputs": [
    {
     "data": {
      "text/plain": [
       "786204978629185536"
      ]
     },
     "execution_count": 21,
     "metadata": {},
     "output_type": "execute_result"
    }
   ],
   "source": [
    "#old_trump_tweets.get('id')\n",
    "old_trump_tweets[0]['id']"
   ]
  },
  {
   "cell_type": "code",
   "execution_count": 22,
   "metadata": {},
   "outputs": [],
   "source": [
    "old_tweets_val = [t['id'] for t in old_trump_tweets]\n"
   ]
  },
  {
   "cell_type": "code",
   "execution_count": 23,
   "metadata": {
    "deletable": false,
    "nbgrader": {
     "cell_type": "code",
     "checksum": "cfff2cf8e110d51cb3dbb7f5086b9be4",
     "grade": false,
     "grade_id": "q3a-answer",
     "locked": false,
     "schema_version": 2,
     "solution": true
    }
   },
   "outputs": [],
   "source": [
    "#all_tweets = dict()\n",
    "old_tweets_id = [t['id'] for t in old_trump_tweets]\n",
    "old_tweets = dict(zip(old_tweets_id, old_trump_tweets))\n",
    "\n",
    "new_tweets_id = [t['id'] for t in trump_tweets]\n",
    "new_tweets = dict(zip(new_tweets_id, trump_tweets))\n",
    "\n",
    "old_tweets.update(new_tweets)\n",
    "\n",
    "all_tweets = list(old_tweets.values())\n",
    "#type(all_tweets)\n",
    "#all_tweets[0]\n",
    "\n",
    "# YOUR CODE HERE\n",
    "#raise NotImplementedError()"
   ]
  },
  {
   "cell_type": "code",
   "execution_count": 24,
   "metadata": {
    "deletable": false,
    "editable": false,
    "nbgrader": {
     "cell_type": "code",
     "checksum": "7a21da10aa86da615b340c8edb2973c3",
     "grade": true,
     "grade_id": "q3a-test",
     "locked": true,
     "points": 2,
     "schema_version": 2,
     "solution": false
    }
   },
   "outputs": [],
   "source": [
    "assert len(all_tweets) > len(trump_tweets)\n",
    "assert len(all_tweets) > len(old_trump_tweets)"
   ]
  },
  {
   "cell_type": "markdown",
   "metadata": {
    "deletable": false,
    "editable": false,
    "nbgrader": {
     "cell_type": "markdown",
     "checksum": "532cecf04260fcadca43ce63bf296d5d",
     "grade": false,
     "grade_id": "q3b",
     "locked": true,
     "schema_version": 2,
     "solution": false
    }
   },
   "source": [
    "### Question 3b\n",
    "\n",
    "Construct a DataFrame called `trump` containing all the tweets stored in `all_tweets`. The index of the dataframe should be the ID of each tweet (looks something like `907698529606541312`). It should have these columns:\n",
    "\n",
    "- `time`: The time the tweet was created encoded as a datetime object. (Use `pd.to_datetime` to encode the timestamp.)\n",
    "- `source`: The source device of the tweet.\n",
    "- `text`: The text of the tweet.\n",
    "- `retweet_count`: The retweet count of the tweet. \n",
    "\n",
    "Finally, **the resulting dataframe should be sorted by the index.**\n",
    "\n",
    "**Warning:** *Some tweets will store the text in the `text` field and other will use the `full_text` field.*"
   ]
  },
  {
   "cell_type": "code",
   "execution_count": 25,
   "metadata": {},
   "outputs": [
    {
     "data": {
      "text/plain": [
       "Timestamp('2016-10-12 14:00:48')"
      ]
     },
     "execution_count": 25,
     "metadata": {},
     "output_type": "execute_result"
    }
   ],
   "source": [
    "pd.to_datetime(all_tweets[0]['created_at'])\n"
   ]
  },
  {
   "cell_type": "code",
   "execution_count": 26,
   "metadata": {
    "deletable": false,
    "nbgrader": {
     "cell_type": "code",
     "checksum": "dbbe93f4346b0c4ce93681c2c7d06078",
     "grade": false,
     "grade_id": "q3b-answer",
     "locked": false,
     "schema_version": 2,
     "solution": true
    },
    "tags": [
     "student"
    ]
   },
   "outputs": [],
   "source": [
    "times = [pd.to_datetime(t['created_at']) for t in all_tweets]\n",
    "sources = [t['source'] for t in all_tweets]\n",
    "tweet_texts = []\n",
    "for t in all_tweets:\n",
    "    if 'text' in t:\n",
    "        tweet_texts.append(t['text'])\n",
    "    else:\n",
    "        tweet_texts.append(t['full_text'])\n",
    "retweet_counts = [t['retweet_count'] for t in all_tweets]\n",
    "ids = [t['id'] for t in all_tweets]\n",
    "\n",
    "d = {'time': times, 'source': sources, 'text': tweet_texts, 'retweet_count': retweet_counts}\n",
    "trump = pd.DataFrame(data=d, index=ids)\n",
    "\n",
    "# YOUR CODE HERE\n",
    "#raise NotImplementedError()"
   ]
  },
  {
   "cell_type": "code",
   "execution_count": 27,
   "metadata": {
    "deletable": false,
    "editable": false,
    "nbgrader": {
     "cell_type": "code",
     "checksum": "2dd08a7053daa04e9b2763d40dc635da",
     "grade": true,
     "grade_id": "q3b-tests",
     "locked": true,
     "points": 2,
     "schema_version": 2,
     "solution": false
    },
    "tags": [
     "test",
     "q03"
    ]
   },
   "outputs": [],
   "source": [
    "assert isinstance(trump, pd.DataFrame)\n",
    "assert trump.shape[0] < 11000\n",
    "assert trump.shape[1] >= 4\n",
    "assert 831846101179314177 in trump.index\n",
    "assert 753063644578144260 in trump.index\n",
    "assert all(col in trump.columns for col in ['time', 'source', 'text', 'retweet_count'])\n",
    "# If you fail these tests, you probably tried to use __dict__ or _json to read in the tweets\n",
    "assert np.sometrue([('Twitter for iPhone' in s) for s in trump['source'].unique()])\n",
    "assert trump['time'].dtype == np.dtype('<M8[ns]')\n",
    "assert trump['text'].dtype == np.dtype('O')\n",
    "assert trump['retweet_count'].dtype == np.dtype('int64')"
   ]
  },
  {
   "cell_type": "markdown",
   "metadata": {
    "deletable": false,
    "editable": false,
    "nbgrader": {
     "cell_type": "markdown",
     "checksum": "30d38d0c0f5988b2b1da8eadd678d083",
     "grade": false,
     "grade_id": "question4",
     "locked": true,
     "schema_version": 2,
     "solution": false
    }
   },
   "source": [
    "## Question 4: Tweet Source Analysis\n",
    "\n",
    "In the following questions, we are going to find out the charateristics of Trump tweets and the devices used for the tweets.\n",
    "\n",
    "First let's examine the source field:"
   ]
  },
  {
   "cell_type": "code",
   "execution_count": 28,
   "metadata": {
    "deletable": false,
    "editable": false,
    "nbgrader": {
     "cell_type": "code",
     "checksum": "6afb6dfe20e5154416906478ba3d9384",
     "grade": false,
     "grade_id": "unique-sources",
     "locked": true,
     "schema_version": 2,
     "solution": false
    }
   },
   "outputs": [
    {
     "data": {
      "text/plain": [
       "array([ '<a href=\"http://twitter.com/download/iphone\" rel=\"nofollow\">Twitter for iPhone</a>',\n",
       "       '<a href=\"http://twitter.com/download/android\" rel=\"nofollow\">Twitter for Android</a>',\n",
       "       '<a href=\"http://twitter.com\" rel=\"nofollow\">Twitter Web Client</a>',\n",
       "       '<a href=\"https://studio.twitter.com\" rel=\"nofollow\">Media Studio</a>',\n",
       "       '<a href=\"http://twitter.com/#!/download/ipad\" rel=\"nofollow\">Twitter for iPad</a>',\n",
       "       '<a href=\"http://instagram.com\" rel=\"nofollow\">Instagram</a>',\n",
       "       '<a href=\"https://mobile.twitter.com\" rel=\"nofollow\">Mobile Web (M5)</a>',\n",
       "       '<a href=\"https://ads.twitter.com\" rel=\"nofollow\">Twitter Ads</a>',\n",
       "       '<a href=\"https://periscope.tv\" rel=\"nofollow\">Periscope</a>'], dtype=object)"
      ]
     },
     "execution_count": 28,
     "metadata": {},
     "output_type": "execute_result"
    }
   ],
   "source": [
    "trump['source'].unique()"
   ]
  },
  {
   "cell_type": "markdown",
   "metadata": {
    "deletable": false,
    "editable": false,
    "nbgrader": {
     "cell_type": "markdown",
     "checksum": "c6456dce1f6278ee550862faf8829f32",
     "grade": false,
     "grade_id": "q4a",
     "locked": true,
     "schema_version": 2,
     "solution": false
    }
   },
   "source": [
    "## Question 4a\n",
    "\n",
    "Remove the HTML tags from the source field. \n",
    "\n",
    "**Hint:** Use `trump['source'].str.replace` and your favorite regular expression."
   ]
  },
  {
   "cell_type": "code",
   "execution_count": 29,
   "metadata": {
    "deletable": false,
    "nbgrader": {
     "cell_type": "code",
     "checksum": "a05e9dfd89d13b6b4d93b7b32b0c18d0",
     "grade": false,
     "grade_id": "q4a-answer",
     "locked": false,
     "schema_version": 2,
     "solution": true
    }
   },
   "outputs": [
    {
     "data": {
      "text/html": [
       "<div>\n",
       "<style scoped>\n",
       "    .dataframe tbody tr th:only-of-type {\n",
       "        vertical-align: middle;\n",
       "    }\n",
       "\n",
       "    .dataframe tbody tr th {\n",
       "        vertical-align: top;\n",
       "    }\n",
       "\n",
       "    .dataframe thead th {\n",
       "        text-align: right;\n",
       "    }\n",
       "</style>\n",
       "<table border=\"1\" class=\"dataframe\">\n",
       "  <thead>\n",
       "    <tr style=\"text-align: right;\">\n",
       "      <th></th>\n",
       "      <th>retweet_count</th>\n",
       "      <th>source</th>\n",
       "      <th>text</th>\n",
       "      <th>time</th>\n",
       "    </tr>\n",
       "  </thead>\n",
       "  <tbody>\n",
       "    <tr>\n",
       "      <th>786204978629185536</th>\n",
       "      <td>24915</td>\n",
       "      <td>Twitter for iPhone</td>\n",
       "      <td>PAY TO PLAY POLITICS. \\n#CrookedHillary https://t.co/wjsl8ITVvk</td>\n",
       "      <td>2016-10-12 14:00:48</td>\n",
       "    </tr>\n",
       "    <tr>\n",
       "      <th>786201435486781440</th>\n",
       "      <td>22609</td>\n",
       "      <td>Twitter for iPhone</td>\n",
       "      <td>Very little pick-up by the dishonest media of incredible information provided by WikiLeaks. So dishonest! Rigged system!</td>\n",
       "      <td>2016-10-12 13:46:43</td>\n",
       "    </tr>\n",
       "    <tr>\n",
       "      <th>786189446274248704</th>\n",
       "      <td>18329</td>\n",
       "      <td>Twitter for Android</td>\n",
       "      <td>Crooked Hillary Clinton likes to talk about the things she will do but she has been there for 30 years - why didn't she do them?</td>\n",
       "      <td>2016-10-12 12:59:05</td>\n",
       "    </tr>\n",
       "    <tr>\n",
       "      <th>786054986534969344</th>\n",
       "      <td>18789</td>\n",
       "      <td>Twitter for iPhone</td>\n",
       "      <td>Thank you Florida- a MOVEMENT that has never been seen before and will never be seen again. Lets get out &amp;amp;… https://t.co/t9XM9wFDZI</td>\n",
       "      <td>2016-10-12 04:04:47</td>\n",
       "    </tr>\n",
       "    <tr>\n",
       "      <th>786007502639038464</th>\n",
       "      <td>7761</td>\n",
       "      <td>Twitter for iPhone</td>\n",
       "      <td>Join me Thursday in Florida &amp;amp; Ohio!\\nWest Palm Beach, FL at noon:\\nhttps://t.co/jwbZnQhxg9\\nCincinnati, OH this 7:30pm:\\nhttps://t.co/5w2UhalPIx</td>\n",
       "      <td>2016-10-12 00:56:06</td>\n",
       "    </tr>\n",
       "  </tbody>\n",
       "</table>\n",
       "</div>"
      ],
      "text/plain": [
       "                    retweet_count               source  \\\n",
       "786204978629185536          24915   Twitter for iPhone   \n",
       "786201435486781440          22609   Twitter for iPhone   \n",
       "786189446274248704          18329  Twitter for Android   \n",
       "786054986534969344          18789   Twitter for iPhone   \n",
       "786007502639038464           7761   Twitter for iPhone   \n",
       "\n",
       "                                                                                                                                                                    text  \\\n",
       "786204978629185536                                                                                       PAY TO PLAY POLITICS. \\n#CrookedHillary https://t.co/wjsl8ITVvk   \n",
       "786201435486781440                              Very little pick-up by the dishonest media of incredible information provided by WikiLeaks. So dishonest! Rigged system!   \n",
       "786189446274248704                      Crooked Hillary Clinton likes to talk about the things she will do but she has been there for 30 years - why didn't she do them?   \n",
       "786054986534969344               Thank you Florida- a MOVEMENT that has never been seen before and will never be seen again. Lets get out &amp;… https://t.co/t9XM9wFDZI   \n",
       "786007502639038464  Join me Thursday in Florida &amp; Ohio!\\nWest Palm Beach, FL at noon:\\nhttps://t.co/jwbZnQhxg9\\nCincinnati, OH this 7:30pm:\\nhttps://t.co/5w2UhalPIx   \n",
       "\n",
       "                                  time  \n",
       "786204978629185536 2016-10-12 14:00:48  \n",
       "786201435486781440 2016-10-12 13:46:43  \n",
       "786189446274248704 2016-10-12 12:59:05  \n",
       "786054986534969344 2016-10-12 04:04:47  \n",
       "786007502639038464 2016-10-12 00:56:06  "
      ]
     },
     "execution_count": 29,
     "metadata": {},
     "output_type": "execute_result"
    }
   ],
   "source": [
    "## Uncomment and complete\n",
    "\n",
    "trump['source'] = trump['source'].str.replace('<.*?>', '')\n",
    "trump.head()\n",
    "# YOUR CODE HERE\n",
    "#raise NotImplementedError()"
   ]
  },
  {
   "cell_type": "code",
   "execution_count": 30,
   "metadata": {
    "deletable": false,
    "editable": false,
    "nbgrader": {
     "cell_type": "code",
     "checksum": "ba180bc3697692747a71297f6b4dc64a",
     "grade": true,
     "grade_id": "q4a-test",
     "locked": true,
     "points": 1,
     "schema_version": 2,
     "solution": false
    }
   },
   "outputs": [],
   "source": [
    "from datetime import datetime\n",
    "ELEC_DATE = datetime(2016, 11, 8)\n",
    "INAUG_DATE = datetime(2017, 1, 20)\n",
    "assert set(trump[(trump['time'] > ELEC_DATE) & (trump['time'] < INAUG_DATE) ]['source'].unique()) == set(['Twitter Ads',\n",
    " 'Twitter Web Client',\n",
    " 'Twitter for Android',\n",
    " 'Twitter for iPhone'])"
   ]
  },
  {
   "cell_type": "markdown",
   "metadata": {
    "deletable": false,
    "editable": false,
    "nbgrader": {
     "cell_type": "markdown",
     "checksum": "fbd18f3db9b76174657bbfadec0dede6",
     "grade": false,
     "grade_id": "note-about-device-usage",
     "locked": true,
     "schema_version": 2,
     "solution": false
    }
   },
   "source": [
    "We can see in the following plot that there are two device types that are more commonly used"
   ]
  },
  {
   "cell_type": "code",
   "execution_count": 31,
   "metadata": {
    "deletable": false,
    "editable": false,
    "nbgrader": {
     "cell_type": "code",
     "checksum": "80767c65e51906a26ac3aa9c6e0d48e5",
     "grade": false,
     "grade_id": "device-usage-plot",
     "locked": true,
     "schema_version": 2,
     "solution": false
    }
   },
   "outputs": [
    {
     "data": {
      "text/plain": [
       "Text(0,0.5,'Number of Tweets')"
      ]
     },
     "execution_count": 31,
     "metadata": {},
     "output_type": "execute_result"
    },
    {
     "data": {
      "image/png": "[encoded data removed]",
      "text/plain": [
       "<matplotlib.figure.Figure at 0x7f83f49bad30>"
      ]
     },
     "metadata": {},
     "output_type": "display_data"
    }
   ],
   "source": [
    "trump['source'].value_counts().plot(kind=\"bar\")\n",
    "plt.ylabel(\"Number of Tweets\")"
   ]
  },
  {
   "cell_type": "markdown",
   "metadata": {
    "deletable": false,
    "editable": false,
    "nbgrader": {
     "cell_type": "markdown",
     "checksum": "4fc8de3b5e3282ab8fa3c8f31fa6794c",
     "grade": false,
     "grade_id": "q4b",
     "locked": true,
     "schema_version": 2,
     "solution": false
    }
   },
   "source": [
    "## Question 4b\n",
    "\n",
    "\n",
    "Is there a difference between his Tweet behavior across these devices? We will attempt to answer this question in our subsequent analysis.\n",
    "\n",
    "First, we'll take a look at whether Trump's tweets from an Android come at different times than his tweets from an iPhone. Note that Twitter gives us his tweets in the [UTC timezone](https://www.wikiwand.com/en/List_of_UTC_time_offsets) (notice the `+0000` in the first few tweets)"
   ]
  },
  {
   "cell_type": "code",
   "execution_count": 32,
   "metadata": {
    "deletable": false,
    "editable": false,
    "nbgrader": {
     "cell_type": "code",
     "checksum": "8a6257dbd02d1af40cdfd288d7c37250",
     "grade": false,
     "grade_id": "tweet-created-at",
     "locked": true,
     "schema_version": 2,
     "solution": false
    }
   },
   "outputs": [
    {
     "name": "stdout",
     "output_type": "stream",
     "text": [
      "Wed Oct 24 18:55:42 +0000 2018\n",
      "Wed Oct 24 16:04:27 +0000 2018\n",
      "Wed Oct 24 12:45:10 +0000 2018\n"
     ]
    }
   ],
   "source": [
    "for t in trump_tweets[0:3]:\n",
    "    print(t['created_at'])"
   ]
  },
  {
   "cell_type": "markdown",
   "metadata": {
    "deletable": false,
    "editable": false,
    "nbgrader": {
     "cell_type": "markdown",
     "checksum": "5a4f73d1c7135ddc404472884d7ba6fa",
     "grade": false,
     "grade_id": "convert-to-est-justification",
     "locked": true,
     "schema_version": 2,
     "solution": false
    }
   },
   "source": [
    "We'll convert the tweet times to US Eastern Time, the timezone of New York and Washington D.C., since those are the places we would expect the most tweet activity from Trump."
   ]
  },
  {
   "cell_type": "code",
   "execution_count": 33,
   "metadata": {
    "deletable": false,
    "editable": false,
    "nbgrader": {
     "cell_type": "code",
     "checksum": "6adc54fdcb7560cb4586d97800b8bfab",
     "grade": false,
     "grade_id": "convert-to-est",
     "locked": true,
     "schema_version": 2,
     "solution": false
    }
   },
   "outputs": [
    {
     "data": {
      "text/html": [
       "<div>\n",
       "<style scoped>\n",
       "    .dataframe tbody tr th:only-of-type {\n",
       "        vertical-align: middle;\n",
       "    }\n",
       "\n",
       "    .dataframe tbody tr th {\n",
       "        vertical-align: top;\n",
       "    }\n",
       "\n",
       "    .dataframe thead th {\n",
       "        text-align: right;\n",
       "    }\n",
       "</style>\n",
       "<table border=\"1\" class=\"dataframe\">\n",
       "  <thead>\n",
       "    <tr style=\"text-align: right;\">\n",
       "      <th></th>\n",
       "      <th>retweet_count</th>\n",
       "      <th>source</th>\n",
       "      <th>text</th>\n",
       "      <th>time</th>\n",
       "      <th>est_time</th>\n",
       "    </tr>\n",
       "  </thead>\n",
       "  <tbody>\n",
       "    <tr>\n",
       "      <th>786204978629185536</th>\n",
       "      <td>24915</td>\n",
       "      <td>Twitter for iPhone</td>\n",
       "      <td>PAY TO PLAY POLITICS. \\n#CrookedHillary https://t.co/wjsl8ITVvk</td>\n",
       "      <td>2016-10-12 14:00:48</td>\n",
       "      <td>2016-10-12 09:00:48-05:00</td>\n",
       "    </tr>\n",
       "    <tr>\n",
       "      <th>786201435486781440</th>\n",
       "      <td>22609</td>\n",
       "      <td>Twitter for iPhone</td>\n",
       "      <td>Very little pick-up by the dishonest media of incredible information provided by WikiLeaks. So dishonest! Rigged system!</td>\n",
       "      <td>2016-10-12 13:46:43</td>\n",
       "      <td>2016-10-12 08:46:43-05:00</td>\n",
       "    </tr>\n",
       "    <tr>\n",
       "      <th>786189446274248704</th>\n",
       "      <td>18329</td>\n",
       "      <td>Twitter for Android</td>\n",
       "      <td>Crooked Hillary Clinton likes to talk about the things she will do but she has been there for 30 years - why didn't she do them?</td>\n",
       "      <td>2016-10-12 12:59:05</td>\n",
       "      <td>2016-10-12 07:59:05-05:00</td>\n",
       "    </tr>\n",
       "    <tr>\n",
       "      <th>786054986534969344</th>\n",
       "      <td>18789</td>\n",
       "      <td>Twitter for iPhone</td>\n",
       "      <td>Thank you Florida- a MOVEMENT that has never been seen before and will never be seen again. Lets get out &amp;amp;… https://t.co/t9XM9wFDZI</td>\n",
       "      <td>2016-10-12 04:04:47</td>\n",
       "      <td>2016-10-11 23:04:47-05:00</td>\n",
       "    </tr>\n",
       "    <tr>\n",
       "      <th>786007502639038464</th>\n",
       "      <td>7761</td>\n",
       "      <td>Twitter for iPhone</td>\n",
       "      <td>Join me Thursday in Florida &amp;amp; Ohio!\\nWest Palm Beach, FL at noon:\\nhttps://t.co/jwbZnQhxg9\\nCincinnati, OH this 7:30pm:\\nhttps://t.co/5w2UhalPIx</td>\n",
       "      <td>2016-10-12 00:56:06</td>\n",
       "      <td>2016-10-11 19:56:06-05:00</td>\n",
       "    </tr>\n",
       "  </tbody>\n",
       "</table>\n",
       "</div>"
      ],
      "text/plain": [
       "                    retweet_count               source  \\\n",
       "786204978629185536          24915   Twitter for iPhone   \n",
       "786201435486781440          22609   Twitter for iPhone   \n",
       "786189446274248704          18329  Twitter for Android   \n",
       "786054986534969344          18789   Twitter for iPhone   \n",
       "786007502639038464           7761   Twitter for iPhone   \n",
       "\n",
       "                                                                                                                                                                    text  \\\n",
       "786204978629185536                                                                                       PAY TO PLAY POLITICS. \\n#CrookedHillary https://t.co/wjsl8ITVvk   \n",
       "786201435486781440                              Very little pick-up by the dishonest media of incredible information provided by WikiLeaks. So dishonest! Rigged system!   \n",
       "786189446274248704                      Crooked Hillary Clinton likes to talk about the things she will do but she has been there for 30 years - why didn't she do them?   \n",
       "786054986534969344               Thank you Florida- a MOVEMENT that has never been seen before and will never be seen again. Lets get out &amp;… https://t.co/t9XM9wFDZI   \n",
       "786007502639038464  Join me Thursday in Florida &amp; Ohio!\\nWest Palm Beach, FL at noon:\\nhttps://t.co/jwbZnQhxg9\\nCincinnati, OH this 7:30pm:\\nhttps://t.co/5w2UhalPIx   \n",
       "\n",
       "                                  time                  est_time  \n",
       "786204978629185536 2016-10-12 14:00:48 2016-10-12 09:00:48-05:00  \n",
       "786201435486781440 2016-10-12 13:46:43 2016-10-12 08:46:43-05:00  \n",
       "786189446274248704 2016-10-12 12:59:05 2016-10-12 07:59:05-05:00  \n",
       "786054986534969344 2016-10-12 04:04:47 2016-10-11 23:04:47-05:00  \n",
       "786007502639038464 2016-10-12 00:56:06 2016-10-11 19:56:06-05:00  "
      ]
     },
     "execution_count": 33,
     "metadata": {},
     "output_type": "execute_result"
    }
   ],
   "source": [
    "trump['est_time'] = (\n",
    "    trump['time'].dt.tz_localize(\"UTC\") # Set initial timezone to UTC\n",
    "                 .dt.tz_convert(\"EST\") # Convert to Eastern Time\n",
    ")\n",
    "trump.head()"
   ]
  },
  {
   "cell_type": "markdown",
   "metadata": {
    "deletable": false,
    "editable": false,
    "nbgrader": {
     "cell_type": "markdown",
     "checksum": "62a7fe09ae5f6e81c5112a2052452467",
     "grade": false,
     "grade_id": "need-to-do",
     "locked": true,
     "schema_version": 2,
     "solution": false
    }
   },
   "source": [
    "**What you need to do:**\n",
    "\n",
    "Add a column called `hour` to the `trump` table which contains the hour of the day as floating point number computed by:\n",
    "\n",
    "$$\n",
    "\\text{hour} + \\frac{\\text{minute}}{60} + \\frac{\\text{second}}{60^2}\n",
    "$$\n"
   ]
  },
  {
   "cell_type": "code",
   "execution_count": 34,
   "metadata": {
    "deletable": false,
    "nbgrader": {
     "cell_type": "code",
     "checksum": "06c6a53e7388e12148e57710efe30726",
     "grade": false,
     "grade_id": "q4b-answer",
     "locked": false,
     "schema_version": 2,
     "solution": true
    },
    "tags": [
     "student"
    ]
   },
   "outputs": [],
   "source": [
    "trump['hour'] = [t.hour + t.minute/60 + t.second/60**2 for t in trump['est_time']]\n",
    "\n",
    "# make a bar plot here\n",
    "# YOUR CODE HERE\n",
    "#raise NotImplementedError()"
   ]
  },
  {
   "cell_type": "code",
   "execution_count": 35,
   "metadata": {
    "deletable": false,
    "editable": false,
    "nbgrader": {
     "cell_type": "code",
     "checksum": "b0fcc19ae4e12541fa73e3e62f334e01",
     "grade": true,
     "grade_id": "q4b-tests",
     "locked": true,
     "points": 1,
     "schema_version": 2,
     "solution": false
    },
    "tags": [
     "test",
     "q04a"
    ]
   },
   "outputs": [],
   "source": [
    "assert np.isclose(trump.loc[690171032150237184]['hour'], 8.93639)"
   ]
  },
  {
   "cell_type": "markdown",
   "metadata": {
    "deletable": false,
    "editable": false,
    "nbgrader": {
     "cell_type": "markdown",
     "checksum": "00c6bf4a7b09b661a2e430d2fd080a55",
     "grade": false,
     "grade_id": "q4c",
     "locked": true,
     "schema_version": 2,
     "solution": false
    }
   },
   "source": [
    "## Question 4c\n",
    "\n",
    "Use this data along with the seaborn `distplot` function to examine the distribution over hours of the day in eastern time that trump tweets on each device for the 2 most commonly used devices.  Your plot should look similar to the following. \n",
    "\n",
    "<img src=\"images/device_hour2.png\" width=\"600px\" />"
   ]
  },
  {
   "cell_type": "code",
   "execution_count": 36,
   "metadata": {
    "deletable": false,
    "nbgrader": {
     "cell_type": "code",
     "checksum": "8098891f5ad326482ed42b89fb116b10",
     "grade": true,
     "grade_id": "q4c-answer",
     "locked": false,
     "points": 2,
     "schema_version": 2,
     "solution": true
    }
   },
   "outputs": [
    {
     "data": {
      "text/plain": [
       "Text(0,0.5,'fraction')"
      ]
     },
     "execution_count": 36,
     "metadata": {},
     "output_type": "execute_result"
    },
    {
     "data": {
      "image/png": "[encoded data removed]",
      "text/plain": [
       "<matplotlib.figure.Figure at 0x7f83f49ba0b8>"
      ]
     },
     "metadata": {},
     "output_type": "display_data"
    }
   ],
   "source": [
    "### make your plot here\n",
    "iphone_hour = trump[trump['source'] == 'Twitter for iPhone']['hour']\n",
    "android_hour = trump[trump['source'] == 'Twitter for Android']['hour']\n",
    "sns.distplot(iphone_hour, hist=False, label='iPhone')\n",
    "sns.distplot(android_hour, hist=False, label='Android')\n",
    "plt.ylabel('fraction')\n",
    "\n",
    "# YOUR CODE HERE\n",
    "#raise NotImplementedError()"
   ]
  },
  {
   "cell_type": "markdown",
   "metadata": {
    "deletable": false,
    "editable": false,
    "nbgrader": {
     "cell_type": "markdown",
     "checksum": "7671d02d0497957893438869ee0b2e73",
     "grade": false,
     "grade_id": "q4d",
     "locked": true,
     "schema_version": 2,
     "solution": false
    }
   },
   "source": [
    "\n",
    "## Question 4d\n",
    "\n",
    "According to [this Verge article](https://www.theverge.com/2017/3/29/15103504/donald-trump-iphone-using-switched-android), Donald Trump switched from an Android to an iPhone sometime in March 2017.\n",
    "\n",
    "Create a figure identical to your figure from 4c, except that you should show the results only from 2016.\n",
    "\n",
    "During the campaign, it was theorized that Donald Trump's tweets from Android were written by him personally, and the tweets from iPhone were from his staff. Does your figure give support to this theory?"
   ]
  },
  {
   "cell_type": "code",
   "execution_count": 37,
   "metadata": {},
   "outputs": [
    {
     "data": {
      "text/html": [
       "<div>\n",
       "<style scoped>\n",
       "    .dataframe tbody tr th:only-of-type {\n",
       "        vertical-align: middle;\n",
       "    }\n",
       "\n",
       "    .dataframe tbody tr th {\n",
       "        vertical-align: top;\n",
       "    }\n",
       "\n",
       "    .dataframe thead th {\n",
       "        text-align: right;\n",
       "    }\n",
       "</style>\n",
       "<table border=\"1\" class=\"dataframe\">\n",
       "  <thead>\n",
       "    <tr style=\"text-align: right;\">\n",
       "      <th></th>\n",
       "      <th>retweet_count</th>\n",
       "      <th>source</th>\n",
       "      <th>text</th>\n",
       "      <th>time</th>\n",
       "      <th>est_time</th>\n",
       "      <th>hour</th>\n",
       "      <th>year</th>\n",
       "    </tr>\n",
       "  </thead>\n",
       "  <tbody>\n",
       "    <tr>\n",
       "      <th>786204978629185536</th>\n",
       "      <td>24915</td>\n",
       "      <td>Twitter for iPhone</td>\n",
       "      <td>PAY TO PLAY POLITICS. \\n#CrookedHillary https://t.co/wjsl8ITVvk</td>\n",
       "      <td>2016-10-12 14:00:48</td>\n",
       "      <td>2016-10-12 09:00:48-05:00</td>\n",
       "      <td>9.013333</td>\n",
       "      <td>2016</td>\n",
       "    </tr>\n",
       "    <tr>\n",
       "      <th>786201435486781440</th>\n",
       "      <td>22609</td>\n",
       "      <td>Twitter for iPhone</td>\n",
       "      <td>Very little pick-up by the dishonest media of incredible information provided by WikiLeaks. So dishonest! Rigged system!</td>\n",
       "      <td>2016-10-12 13:46:43</td>\n",
       "      <td>2016-10-12 08:46:43-05:00</td>\n",
       "      <td>8.778611</td>\n",
       "      <td>2016</td>\n",
       "    </tr>\n",
       "    <tr>\n",
       "      <th>786189446274248704</th>\n",
       "      <td>18329</td>\n",
       "      <td>Twitter for Android</td>\n",
       "      <td>Crooked Hillary Clinton likes to talk about the things she will do but she has been there for 30 years - why didn't she do them?</td>\n",
       "      <td>2016-10-12 12:59:05</td>\n",
       "      <td>2016-10-12 07:59:05-05:00</td>\n",
       "      <td>7.984722</td>\n",
       "      <td>2016</td>\n",
       "    </tr>\n",
       "    <tr>\n",
       "      <th>786054986534969344</th>\n",
       "      <td>18789</td>\n",
       "      <td>Twitter for iPhone</td>\n",
       "      <td>Thank you Florida- a MOVEMENT that has never been seen before and will never be seen again. Lets get out &amp;amp;… https://t.co/t9XM9wFDZI</td>\n",
       "      <td>2016-10-12 04:04:47</td>\n",
       "      <td>2016-10-11 23:04:47-05:00</td>\n",
       "      <td>23.079722</td>\n",
       "      <td>2016</td>\n",
       "    </tr>\n",
       "    <tr>\n",
       "      <th>786007502639038464</th>\n",
       "      <td>7761</td>\n",
       "      <td>Twitter for iPhone</td>\n",
       "      <td>Join me Thursday in Florida &amp;amp; Ohio!\\nWest Palm Beach, FL at noon:\\nhttps://t.co/jwbZnQhxg9\\nCincinnati, OH this 7:30pm:\\nhttps://t.co/5w2UhalPIx</td>\n",
       "      <td>2016-10-12 00:56:06</td>\n",
       "      <td>2016-10-11 19:56:06-05:00</td>\n",
       "      <td>19.935000</td>\n",
       "      <td>2016</td>\n",
       "    </tr>\n",
       "  </tbody>\n",
       "</table>\n",
       "</div>"
      ],
      "text/plain": [
       "                    retweet_count               source  \\\n",
       "786204978629185536          24915   Twitter for iPhone   \n",
       "786201435486781440          22609   Twitter for iPhone   \n",
       "786189446274248704          18329  Twitter for Android   \n",
       "786054986534969344          18789   Twitter for iPhone   \n",
       "786007502639038464           7761   Twitter for iPhone   \n",
       "\n",
       "                                                                                                                                                                    text  \\\n",
       "786204978629185536                                                                                       PAY TO PLAY POLITICS. \\n#CrookedHillary https://t.co/wjsl8ITVvk   \n",
       "786201435486781440                              Very little pick-up by the dishonest media of incredible information provided by WikiLeaks. So dishonest! Rigged system!   \n",
       "786189446274248704                      Crooked Hillary Clinton likes to talk about the things she will do but she has been there for 30 years - why didn't she do them?   \n",
       "786054986534969344               Thank you Florida- a MOVEMENT that has never been seen before and will never be seen again. Lets get out &amp;… https://t.co/t9XM9wFDZI   \n",
       "786007502639038464  Join me Thursday in Florida &amp; Ohio!\\nWest Palm Beach, FL at noon:\\nhttps://t.co/jwbZnQhxg9\\nCincinnati, OH this 7:30pm:\\nhttps://t.co/5w2UhalPIx   \n",
       "\n",
       "                                  time                  est_time       hour  \\\n",
       "786204978629185536 2016-10-12 14:00:48 2016-10-12 09:00:48-05:00   9.013333   \n",
       "786201435486781440 2016-10-12 13:46:43 2016-10-12 08:46:43-05:00   8.778611   \n",
       "786189446274248704 2016-10-12 12:59:05 2016-10-12 07:59:05-05:00   7.984722   \n",
       "786054986534969344 2016-10-12 04:04:47 2016-10-11 23:04:47-05:00  23.079722   \n",
       "786007502639038464 2016-10-12 00:56:06 2016-10-11 19:56:06-05:00  19.935000   \n",
       "\n",
       "                    year  \n",
       "786204978629185536  2016  \n",
       "786201435486781440  2016  \n",
       "786189446274248704  2016  \n",
       "786054986534969344  2016  \n",
       "786007502639038464  2016  "
      ]
     },
     "execution_count": 37,
     "metadata": {},
     "output_type": "execute_result"
    }
   ],
   "source": [
    "trump['year'] = [t.year for t in trump['est_time']]\n",
    "trump.head()"
   ]
  },
  {
   "cell_type": "code",
   "execution_count": 38,
   "metadata": {
    "deletable": false,
    "nbgrader": {
     "cell_type": "code",
     "checksum": "2a4bfea63d20cf7bdd4eeaedd3cd3d2d",
     "grade": true,
     "grade_id": "cell-ba90f75e6f9b73d6",
     "locked": false,
     "points": 1,
     "schema_version": 2,
     "solution": true
    }
   },
   "outputs": [
    {
     "data": {
      "text/plain": [
       "Text(0,0.5,'fraction')"
      ]
     },
     "execution_count": 38,
     "metadata": {},
     "output_type": "execute_result"
    },
    {
     "data": {
      "image/png": "[encoded data removed]",
      "text/plain": [
       "<matplotlib.figure.Figure at 0x7f83f49ba748>"
      ]
     },
     "metadata": {},
     "output_type": "display_data"
    }
   ],
   "source": [
    "### make your plot here\n",
    "trump['year'] = [t.year for t in trump['est_time']]\n",
    "\n",
    "iphone_hour = trump[(trump['source'] == 'Twitter for iPhone') & (trump['year'] == 2016)]['hour']\n",
    "android_hour = trump[(trump['source'] == 'Twitter for Android') & (trump['year'] == 2016)]['hour']\n",
    "sns.distplot(iphone_hour, hist=False, label='iPhone')\n",
    "sns.distplot(android_hour, hist=False, label='Android')\n",
    "plt.ylabel('fraction')\n",
    "\n",
    "\n",
    "# YOUR CODE HERE\n",
    "#raise NotImplementedError()"
   ]
  },
  {
   "cell_type": "markdown",
   "metadata": {
    "deletable": false,
    "nbgrader": {
     "cell_type": "markdown",
     "checksum": "dd2a71cbda4d42eaf1a86490a723f4ea",
     "grade": true,
     "grade_id": "q4d-answer",
     "locked": false,
     "points": 1,
     "schema_version": 2,
     "solution": true
    },
    "tags": [
     "student",
     "written"
    ]
   },
   "source": [
    "Yes, my plot supports the theory that Donald Trump's tweets from Android were written by him personally, and the tweets from iPhone were from his staff because the tweets from iPhone occur mostly during the daytime and unimodal, peaking around the middle of the day when staff is working. On the other hand, the tweets from Android is bimodal and occur either early in the morning or very late at night, when Trump is likely alone and the number of tweets is also very low during the middle of day and work hours, when Trump probably has other work to do than tweet."
   ]
  },
  {
   "cell_type": "markdown",
   "metadata": {
    "deletable": false,
    "editable": false,
    "nbgrader": {
     "cell_type": "markdown",
     "checksum": "a59afe12404b1f0811e16801674c53cf",
     "grade": false,
     "grade_id": "q5",
     "locked": true,
     "schema_version": 2,
     "solution": false
    }
   },
   "source": [
    "## Question 5\n",
    "\n",
    "Let's now look at which device he has used over the entire time period of this dataset.\n",
    "\n",
    "To examine the distribution of dates we will convert the date to a fractional year that can be plotted as a distribution.\n",
    "\n",
    "(Code borrowed from https://stackoverflow.com/questions/6451655/python-how-to-convert-datetime-dates-to-decimal-years)"
   ]
  },
  {
   "cell_type": "code",
   "execution_count": 39,
   "metadata": {
    "deletable": false,
    "editable": false,
    "nbgrader": {
     "cell_type": "code",
     "checksum": "473e641d026c095c438d79d7aa94b2f2",
     "grade": false,
     "grade_id": "fractional-year",
     "locked": true,
     "schema_version": 2,
     "solution": false
    }
   },
   "outputs": [],
   "source": [
    "import datetime\n",
    "def year_fraction(date):\n",
    "    start = datetime.date(date.year, 1, 1).toordinal()\n",
    "    year_length = datetime.date(date.year+1, 1, 1).toordinal() - start\n",
    "    return date.year + float(date.toordinal() - start) / year_length\n",
    "\n",
    "\n",
    "trump['year'] = trump['time'].apply(year_fraction)"
   ]
  },
  {
   "cell_type": "code",
   "execution_count": 40,
   "metadata": {},
   "outputs": [
    {
     "data": {
      "text/html": [
       "<div>\n",
       "<style scoped>\n",
       "    .dataframe tbody tr th:only-of-type {\n",
       "        vertical-align: middle;\n",
       "    }\n",
       "\n",
       "    .dataframe tbody tr th {\n",
       "        vertical-align: top;\n",
       "    }\n",
       "\n",
       "    .dataframe thead th {\n",
       "        text-align: right;\n",
       "    }\n",
       "</style>\n",
       "<table border=\"1\" class=\"dataframe\">\n",
       "  <thead>\n",
       "    <tr style=\"text-align: right;\">\n",
       "      <th></th>\n",
       "      <th>retweet_count</th>\n",
       "      <th>source</th>\n",
       "      <th>text</th>\n",
       "      <th>time</th>\n",
       "      <th>est_time</th>\n",
       "      <th>hour</th>\n",
       "      <th>year</th>\n",
       "    </tr>\n",
       "  </thead>\n",
       "  <tbody>\n",
       "    <tr>\n",
       "      <th>786204978629185536</th>\n",
       "      <td>24915</td>\n",
       "      <td>Twitter for iPhone</td>\n",
       "      <td>PAY TO PLAY POLITICS. \\n#CrookedHillary https://t.co/wjsl8ITVvk</td>\n",
       "      <td>2016-10-12 14:00:48</td>\n",
       "      <td>2016-10-12 09:00:48-05:00</td>\n",
       "      <td>9.013333</td>\n",
       "      <td>2016.778689</td>\n",
       "    </tr>\n",
       "    <tr>\n",
       "      <th>786201435486781440</th>\n",
       "      <td>22609</td>\n",
       "      <td>Twitter for iPhone</td>\n",
       "      <td>Very little pick-up by the dishonest media of incredible information provided by WikiLeaks. So dishonest! Rigged system!</td>\n",
       "      <td>2016-10-12 13:46:43</td>\n",
       "      <td>2016-10-12 08:46:43-05:00</td>\n",
       "      <td>8.778611</td>\n",
       "      <td>2016.778689</td>\n",
       "    </tr>\n",
       "    <tr>\n",
       "      <th>786189446274248704</th>\n",
       "      <td>18329</td>\n",
       "      <td>Twitter for Android</td>\n",
       "      <td>Crooked Hillary Clinton likes to talk about the things she will do but she has been there for 30 years - why didn't she do them?</td>\n",
       "      <td>2016-10-12 12:59:05</td>\n",
       "      <td>2016-10-12 07:59:05-05:00</td>\n",
       "      <td>7.984722</td>\n",
       "      <td>2016.778689</td>\n",
       "    </tr>\n",
       "    <tr>\n",
       "      <th>786054986534969344</th>\n",
       "      <td>18789</td>\n",
       "      <td>Twitter for iPhone</td>\n",
       "      <td>Thank you Florida- a MOVEMENT that has never been seen before and will never be seen again. Lets get out &amp;amp;… https://t.co/t9XM9wFDZI</td>\n",
       "      <td>2016-10-12 04:04:47</td>\n",
       "      <td>2016-10-11 23:04:47-05:00</td>\n",
       "      <td>23.079722</td>\n",
       "      <td>2016.778689</td>\n",
       "    </tr>\n",
       "    <tr>\n",
       "      <th>786007502639038464</th>\n",
       "      <td>7761</td>\n",
       "      <td>Twitter for iPhone</td>\n",
       "      <td>Join me Thursday in Florida &amp;amp; Ohio!\\nWest Palm Beach, FL at noon:\\nhttps://t.co/jwbZnQhxg9\\nCincinnati, OH this 7:30pm:\\nhttps://t.co/5w2UhalPIx</td>\n",
       "      <td>2016-10-12 00:56:06</td>\n",
       "      <td>2016-10-11 19:56:06-05:00</td>\n",
       "      <td>19.935000</td>\n",
       "      <td>2016.778689</td>\n",
       "    </tr>\n",
       "  </tbody>\n",
       "</table>\n",
       "</div>"
      ],
      "text/plain": [
       "                    retweet_count               source  \\\n",
       "786204978629185536          24915   Twitter for iPhone   \n",
       "786201435486781440          22609   Twitter for iPhone   \n",
       "786189446274248704          18329  Twitter for Android   \n",
       "786054986534969344          18789   Twitter for iPhone   \n",
       "786007502639038464           7761   Twitter for iPhone   \n",
       "\n",
       "                                                                                                                                                                    text  \\\n",
       "786204978629185536                                                                                       PAY TO PLAY POLITICS. \\n#CrookedHillary https://t.co/wjsl8ITVvk   \n",
       "786201435486781440                              Very little pick-up by the dishonest media of incredible information provided by WikiLeaks. So dishonest! Rigged system!   \n",
       "786189446274248704                      Crooked Hillary Clinton likes to talk about the things she will do but she has been there for 30 years - why didn't she do them?   \n",
       "786054986534969344               Thank you Florida- a MOVEMENT that has never been seen before and will never be seen again. Lets get out &amp;… https://t.co/t9XM9wFDZI   \n",
       "786007502639038464  Join me Thursday in Florida &amp; Ohio!\\nWest Palm Beach, FL at noon:\\nhttps://t.co/jwbZnQhxg9\\nCincinnati, OH this 7:30pm:\\nhttps://t.co/5w2UhalPIx   \n",
       "\n",
       "                                  time                  est_time       hour  \\\n",
       "786204978629185536 2016-10-12 14:00:48 2016-10-12 09:00:48-05:00   9.013333   \n",
       "786201435486781440 2016-10-12 13:46:43 2016-10-12 08:46:43-05:00   8.778611   \n",
       "786189446274248704 2016-10-12 12:59:05 2016-10-12 07:59:05-05:00   7.984722   \n",
       "786054986534969344 2016-10-12 04:04:47 2016-10-11 23:04:47-05:00  23.079722   \n",
       "786007502639038464 2016-10-12 00:56:06 2016-10-11 19:56:06-05:00  19.935000   \n",
       "\n",
       "                           year  \n",
       "786204978629185536  2016.778689  \n",
       "786201435486781440  2016.778689  \n",
       "786189446274248704  2016.778689  \n",
       "786054986534969344  2016.778689  \n",
       "786007502639038464  2016.778689  "
      ]
     },
     "execution_count": 40,
     "metadata": {},
     "output_type": "execute_result"
    }
   ],
   "source": [
    "trump.head()"
   ]
  },
  {
   "cell_type": "markdown",
   "metadata": {
    "deletable": false,
    "editable": false,
    "nbgrader": {
     "cell_type": "markdown",
     "checksum": "64eb067a351f92005ef87b72f2298f8a",
     "grade": false,
     "grade_id": "q5a",
     "locked": true,
     "schema_version": 2,
     "solution": false
    }
   },
   "source": [
    "### Question 5a\n",
    "\n",
    "Use the `sns.distplot` to overlay the distributions of the 2 most frequently used web technologies over the years.  Your final plot should look like:\n",
    "\n",
    "<img src=\"images/source_years.png\" width=\"600px\" />\n"
   ]
  },
  {
   "cell_type": "code",
   "execution_count": 41,
   "metadata": {
    "deletable": false,
    "nbgrader": {
     "cell_type": "code",
     "checksum": "1e4c5f933e6074bd85bb221f71bf9e9b",
     "grade": true,
     "grade_id": "q5a-answer",
     "locked": false,
     "points": 2,
     "schema_version": 2,
     "solution": true
    }
   },
   "outputs": [
    {
     "data": {
      "text/plain": [
       "(2015, 2019)"
      ]
     },
     "execution_count": 41,
     "metadata": {},
     "output_type": "execute_result"
    },
    {
     "data": {
      "image/png": "[encoded data removed]",
      "text/plain": [
       "<matplotlib.figure.Figure at 0x7f83f83d9748>"
      ]
     },
     "metadata": {},
     "output_type": "display_data"
    }
   ],
   "source": [
    "# YOUR CODE HERE\n",
    "iphone_year = trump[(trump['source'] == 'Twitter for iPhone')]['year']\n",
    "android_year = trump[(trump['source'] == 'Twitter for Android')]['year']\n",
    "\n",
    "sns.distplot(iphone_year, label='iPhone')\n",
    "sns.distplot(android_year, label='Android')\n",
    "plt.legend()\n",
    "plt.xlim(2015, 2019)\n",
    "\n",
    "#raise NotImplementedError()"
   ]
  },
  {
   "cell_type": "markdown",
   "metadata": {
    "deletable": false,
    "editable": false,
    "nbgrader": {
     "cell_type": "markdown",
     "checksum": "9160f63c38f2638e31ad51b3260bef67",
     "grade": false,
     "grade_id": "q6-header",
     "locked": true,
     "schema_version": 2,
     "solution": false
    }
   },
   "source": [
    "## Question 6: Sentiment Analysis\n",
    "\n",
    "It turns out that we can use the words in Trump's tweets to calculate a measure of the sentiment of the tweet. For example, the sentence \"I love America!\" has positive sentiment, whereas the sentence \"I hate taxes!\" has a negative sentiment. In addition, some words have stronger positive / negative sentiment than others: \"I love America.\" is more positive than \"I like America.\"\n",
    "\n",
    "We will use the [VADER (Valence Aware Dictionary and sEntiment Reasoner)](https://github.com/cjhutto/vaderSentiment) lexicon to analyze the sentiment of Trump's tweets. VADER is a lexicon and rule-based sentiment analysis tool that is specifically attuned to sentiments expressed in social media which is great for our usage.\n",
    "\n",
    "The VADER lexicon gives the sentiment of individual words. Run the following cell to show the first few rows of the lexicon:"
   ]
  },
  {
   "cell_type": "code",
   "execution_count": 42,
   "metadata": {
    "deletable": false,
    "editable": false,
    "nbgrader": {
     "cell_type": "code",
     "checksum": "4bdf61c45c5bf6f12052419af685d59e",
     "grade": false,
     "grade_id": "head-vader",
     "locked": true,
     "schema_version": 2,
     "solution": false
    }
   },
   "outputs": [
    {
     "name": "stdout",
     "output_type": "stream",
     "text": [
      "$:\t-1.5\t0.80623\t[-1, -1, -1, -1, -3, -1, -3, -1, -2, -1]\n",
      "%)\t-0.4\t1.0198\t[-1, 0, -1, 0, 0, -2, -1, 2, -1, 0]\n",
      "%-)\t-1.5\t1.43178\t[-2, 0, -2, -2, -1, 2, -2, -3, -2, -3]\n",
      "&-:\t-0.4\t1.42829\t[-3, -1, 0, 0, -1, -1, -1, 2, -1, 2]\n",
      "&:\t-0.7\t0.64031\t[0, -1, -1, -1, 1, -1, -1, -1, -1, -1]\n",
      "( '}{' )\t1.6\t0.66332\t[1, 2, 2, 1, 1, 2, 2, 1, 3, 1]\n",
      "(%\t-0.9\t0.9434\t[0, 0, 1, -1, -1, -1, -2, -2, -1, -2]\n",
      "('-:\t2.2\t1.16619\t[4, 1, 4, 3, 1, 2, 3, 1, 2, 1]\n",
      "(':\t2.3\t0.9\t[1, 3, 3, 2, 2, 4, 2, 3, 1, 2]\n",
      "((-:\t2.1\t0.53852\t[2, 2, 2, 1, 2, 3, 2, 2, 3, 2]\n",
      "\n"
     ]
    }
   ],
   "source": [
    "print(''.join(open(\"vader_lexicon.txt\").readlines()[:10]))"
   ]
  },
  {
   "cell_type": "markdown",
   "metadata": {
    "deletable": false,
    "editable": false,
    "nbgrader": {
     "cell_type": "markdown",
     "checksum": "631d386141906603b7febb8ce0901638",
     "grade": false,
     "grade_id": "q6a-header",
     "locked": true,
     "schema_version": 2,
     "solution": false
    }
   },
   "source": [
    "## Question 6a\n",
    "\n",
    "As you can see, the lexicon contains emojis too! The first column of the lexicon is the *token*, or the word itself. The second column is the *polarity* of the word, or how positive / negative it is.\n",
    "\n",
    "(How did they decide the polarities of these words? What are the other two columns in the lexicon? See the link above.)\n",
    "\n",
    " Read in the lexicon into a DataFrame called `sent`. The index of the DF should be the tokens in the lexicon. `sent` should have one column: `polarity`: The polarity of each token."
   ]
  },
  {
   "cell_type": "code",
   "execution_count": 43,
   "metadata": {
    "deletable": false,
    "nbgrader": {
     "cell_type": "code",
     "checksum": "962759aad285ccfb16f06dc8dd86035c",
     "grade": false,
     "grade_id": "q6a1",
     "locked": false,
     "schema_version": 2,
     "solution": true
    },
    "tags": [
     "student"
    ]
   },
   "outputs": [
    {
     "data": {
      "text/html": [
       "<div>\n",
       "<style scoped>\n",
       "    .dataframe tbody tr th:only-of-type {\n",
       "        vertical-align: middle;\n",
       "    }\n",
       "\n",
       "    .dataframe tbody tr th {\n",
       "        vertical-align: top;\n",
       "    }\n",
       "\n",
       "    .dataframe thead th {\n",
       "        text-align: right;\n",
       "    }\n",
       "</style>\n",
       "<table border=\"1\" class=\"dataframe\">\n",
       "  <thead>\n",
       "    <tr style=\"text-align: right;\">\n",
       "      <th></th>\n",
       "      <th>polarity</th>\n",
       "    </tr>\n",
       "    <tr>\n",
       "      <th>token</th>\n",
       "      <th></th>\n",
       "    </tr>\n",
       "  </thead>\n",
       "  <tbody>\n",
       "    <tr>\n",
       "      <th>$:</th>\n",
       "      <td>-1.5</td>\n",
       "    </tr>\n",
       "    <tr>\n",
       "      <th>%)</th>\n",
       "      <td>-0.4</td>\n",
       "    </tr>\n",
       "    <tr>\n",
       "      <th>%-)</th>\n",
       "      <td>-1.5</td>\n",
       "    </tr>\n",
       "    <tr>\n",
       "      <th>&amp;-:</th>\n",
       "      <td>-0.4</td>\n",
       "    </tr>\n",
       "    <tr>\n",
       "      <th>&amp;:</th>\n",
       "      <td>-0.7</td>\n",
       "    </tr>\n",
       "  </tbody>\n",
       "</table>\n",
       "</div>"
      ],
      "text/plain": [
       "       polarity\n",
       "token          \n",
       "$:         -1.5\n",
       "%)         -0.4\n",
       "%-)        -1.5\n",
       "&-:        -0.4\n",
       "&:         -0.7"
      ]
     },
     "execution_count": 43,
     "metadata": {},
     "output_type": "execute_result"
    }
   ],
   "source": [
    "sent = pd.read_csv('vader_lexicon.txt', delimiter=\"\\t\", header=None)\n",
    "\n",
    "sent = sent[[0, 1]]\n",
    "sent = sent.rename({0: 'token', 1: 'polarity'}, axis='columns').set_index('token')\n",
    "sent.head()\n",
    "#sent.index.contains('any')\n",
    "\n",
    "#sent.index.contains('$:')\n",
    "#sum += sent.loc['p'][0]\n",
    "# YOUR CODE HERE\n",
    "#raise NotImplementedError()"
   ]
  },
  {
   "cell_type": "code",
   "execution_count": 44,
   "metadata": {
    "deletable": false,
    "editable": false,
    "nbgrader": {
     "cell_type": "code",
     "checksum": "417f93b4eb89b4206d6b77725b72e56a",
     "grade": true,
     "grade_id": "q6a-test1",
     "locked": true,
     "points": 1,
     "schema_version": 2,
     "solution": false
    },
    "tags": [
     "test",
     "q05a"
    ]
   },
   "outputs": [],
   "source": [
    "assert isinstance(sent, pd.DataFrame)\n",
    "assert sent.shape == (7517, 1)\n",
    "assert list(sent.index[5000:5005]) == ['paranoids', 'pardon', 'pardoned', 'pardoning', 'pardons']\n",
    "assert np.allclose(sent['polarity'].head(), [-1.5, -0.4, -1.5, -0.4, -0.7])"
   ]
  },
  {
   "cell_type": "markdown",
   "metadata": {
    "deletable": false,
    "editable": false,
    "nbgrader": {
     "cell_type": "markdown",
     "checksum": "53a09bb6ee188a572ee0c8501087ac9c",
     "grade": false,
     "grade_id": "q6b-header",
     "locked": true,
     "schema_version": 2,
     "solution": false
    }
   },
   "source": [
    "## Question 6b\n",
    "\n",
    "Now, let's use this lexicon to calculate the overall sentiment for each of Trump's tweets. Here's the basic idea:\n",
    "\n",
    "1. For each tweet, find the sentiment of each word.\n",
    "2. Calculate the sentiment of each tweet by taking the sum of the sentiments of its words.\n",
    "\n",
    "First, let's lowercase the text in the tweets since the lexicon is also lowercase. Set the `text` column of the `trump` DF to be the lowercased text of each tweet."
   ]
  },
  {
   "cell_type": "code",
   "execution_count": 45,
   "metadata": {
    "deletable": false,
    "nbgrader": {
     "cell_type": "code",
     "checksum": "a8bb2469a666ad8f1388abb6ad808881",
     "grade": false,
     "grade_id": "q6b-answer",
     "locked": false,
     "schema_version": 2,
     "solution": true
    },
    "tags": [
     "student"
    ]
   },
   "outputs": [],
   "source": [
    "# YOUR CODE HERE\n",
    "trump['text'] = trump['text'].str.lower()\n",
    "senti_list = []\n",
    "for t in trump['text']:\n",
    "    senti_sum = 0\n",
    "    list_words = t.split()\n",
    "    for w in list_words:\n",
    "        if sent.index.contains(w):\n",
    "            senti_sum += sent.loc[w]['polarity']\n",
    "    senti_list.append(senti_sum)\n",
    "#raise NotImplementedError()"
   ]
  },
  {
   "cell_type": "code",
   "execution_count": 46,
   "metadata": {
    "deletable": false,
    "editable": false,
    "nbgrader": {
     "cell_type": "code",
     "checksum": "13de085e42b82bf985f60f6489ed6946",
     "grade": true,
     "grade_id": "q6b-test",
     "locked": true,
     "points": 1,
     "schema_version": 2,
     "solution": false
    },
    "tags": [
     "test",
     "q05b"
    ]
   },
   "outputs": [],
   "source": [
    "assert trump['text'].loc[884740553040175104] == 'working hard to get the olympics for the united states (l.a.). stay tuned!'"
   ]
  },
  {
   "cell_type": "markdown",
   "metadata": {
    "deletable": false,
    "editable": false,
    "nbgrader": {
     "cell_type": "markdown",
     "checksum": "b985c716dee1121b3764f29e1648fe14",
     "grade": false,
     "grade_id": "q6c-header",
     "locked": true,
     "schema_version": 2,
     "solution": false
    }
   },
   "source": [
    "## Question 6c\n",
    "\n",
    "Now, let's get rid of punctuation since it'll cause us to fail to match words. Create a new column called `no_punc` in the `trump` DF to be the lowercased text of each tweet with all punctuation replaced by a single space. We consider punctuation characters to be any character that isn't a Unicode word character or a whitespace character. You may want to consult the Python documentation on regexes for this problem.\n",
    "\n",
    "(Why don't we simply remove punctuation instead of replacing with a space? See if you can figure this out by looking at the tweet data.)"
   ]
  },
  {
   "cell_type": "code",
   "execution_count": 47,
   "metadata": {
    "deletable": false,
    "nbgrader": {
     "cell_type": "code",
     "checksum": "2901325706be092abb437c239e7d3d83",
     "grade": false,
     "grade_id": "q6c",
     "locked": false,
     "schema_version": 2,
     "solution": true
    },
    "tags": [
     "student"
    ]
   },
   "outputs": [
    {
     "data": {
      "text/plain": [
       "'i watched parts of  nbcsnl saturday night live last night  it is a totally one sided  biased show   nothing funny at all  equal time for us '"
      ]
     },
     "execution_count": 47,
     "metadata": {},
     "output_type": "execute_result"
    }
   ],
   "source": [
    "# Save your regex in punct_re\n",
    "punct_re = r'[^\\w\\s]'\n",
    "trump['no_punc'] = trump['text'].str.replace(punct_re, ' ')\n",
    "trump['no_punc'].loc[800329364986626048]\n",
    "# YOUR CODE HERE\n",
    "#raise NotImplementedError()"
   ]
  },
  {
   "cell_type": "code",
   "execution_count": 48,
   "metadata": {
    "deletable": false,
    "editable": false,
    "nbgrader": {
     "cell_type": "code",
     "checksum": "acba51f5c1ed85ceafe923184be4be33",
     "grade": true,
     "grade_id": "q6c-test",
     "locked": true,
     "points": 1,
     "schema_version": 2,
     "solution": false
    },
    "tags": [
     "test",
     "q05c"
    ]
   },
   "outputs": [],
   "source": [
    "assert isinstance(punct_re, str)\n",
    "assert re.search(punct_re, 'this') is None\n",
    "assert re.search(punct_re, 'this is ok') is None\n",
    "assert re.search(punct_re, 'this is\\nok') is None\n",
    "assert re.search(punct_re, 'this is not ok.') is not None\n",
    "assert re.search(punct_re, 'this#is#ok') is not None\n",
    "assert re.search(punct_re, 'this^is ok') is not None\n",
    "assert trump['no_punc'].loc[800329364986626048] == 'i watched parts of  nbcsnl saturday night live last night  it is a totally one sided  biased show   nothing funny at all  equal time for us '\n",
    "assert trump['no_punc'].loc[894620077634592769] == 'on  purpleheartday i thank all the brave men and women who have sacrificed in battle for this great nation   usa   https   t co qmfdlslp6p'\n",
    "# If you fail these tests, you accidentally changed the text column\n",
    "assert trump['text'].loc[884740553040175104] == 'working hard to get the olympics for the united states (l.a.). stay tuned!'"
   ]
  },
  {
   "cell_type": "markdown",
   "metadata": {
    "deletable": false,
    "editable": false,
    "nbgrader": {
     "cell_type": "markdown",
     "checksum": "f5839488bd1747eb5a57c1f22124fd25",
     "grade": false,
     "grade_id": "q6d-header",
     "locked": true,
     "schema_version": 2,
     "solution": false
    }
   },
   "source": [
    "## Question 6d:\n",
    "\n",
    "\n",
    "Now, let's convert the tweets into what's called a [*tidy format*](https://cran.r-project.org/web/packages/tidyr/vignettes/tidy-data.html) to make the sentiments easier to calculate. Use the `no_punc` column of `trump` to create a table called `tidy_format`. The index of the table should be the IDs of the tweets, repeated once for every word in the tweet. It has two columns:\n",
    "\n",
    "1. `num`: The location of the word in the tweet. For example, if the tweet was \"i love america\", then the location of the word \"i\" is 0, \"love\" is 1, and \"america\" is 2.\n",
    "2. `word`: The individual words of each tweet.\n",
    "\n",
    "The first few rows of our `tidy_format` table look like:\n",
    "\n",
    "<table border=\"1\" class=\"dataframe\">\n",
    "  <thead>\n",
    "    <tr style=\"text-align: right;\">\n",
    "      <th></th>\n",
    "      <th>num</th>\n",
    "      <th>word</th>\n",
    "    </tr>\n",
    "  </thead>\n",
    "  <tbody>\n",
    "    <tr>\n",
    "      <th>894661651760377856</th>\n",
    "      <td>0</td>\n",
    "      <td>i</td>\n",
    "    </tr>\n",
    "    <tr>\n",
    "      <th>894661651760377856</th>\n",
    "      <td>1</td>\n",
    "      <td>think</td>\n",
    "    </tr>\n",
    "    <tr>\n",
    "      <th>894661651760377856</th>\n",
    "      <td>2</td>\n",
    "      <td>senator</td>\n",
    "    </tr>\n",
    "    <tr>\n",
    "      <th>894661651760377856</th>\n",
    "      <td>3</td>\n",
    "      <td>blumenthal</td>\n",
    "    </tr>\n",
    "    <tr>\n",
    "      <th>894661651760377856</th>\n",
    "      <td>4</td>\n",
    "      <td>should</td>\n",
    "    </tr>\n",
    "  </tbody>\n",
    "</table>\n",
    "\n",
    "**Note that you'll get different results depending on when you pulled in the tweets.** However, you can double check that your tweet with ID `894661651760377856` has the same rows as ours. Our tests don't check whether your table looks exactly like ours.\n",
    "\n",
    "As usual, try to avoid using any for loops. Our solution uses a chain of 5 methods on the 'trump' DF, albeit using some rather advanced Pandas hacking.\n",
    "\n",
    "* **Hint 1:** Try looking at the `expand` argument to pandas' `str.split`.\n",
    "\n",
    "* **Hint 2:** Try looking at the `stack()` method.\n",
    "\n",
    "* **Hint 3:** Try looking at the `level` parameter of the `reset_index` method.\n"
   ]
  },
  {
   "cell_type": "code",
   "execution_count": 49,
   "metadata": {},
   "outputs": [
    {
     "data": {
      "text/html": [
       "<div>\n",
       "<style scoped>\n",
       "    .dataframe tbody tr th:only-of-type {\n",
       "        vertical-align: middle;\n",
       "    }\n",
       "\n",
       "    .dataframe tbody tr th {\n",
       "        vertical-align: top;\n",
       "    }\n",
       "\n",
       "    .dataframe thead th {\n",
       "        text-align: right;\n",
       "    }\n",
       "</style>\n",
       "<table border=\"1\" class=\"dataframe\">\n",
       "  <thead>\n",
       "    <tr style=\"text-align: right;\">\n",
       "      <th></th>\n",
       "      <th>retweet_count</th>\n",
       "      <th>source</th>\n",
       "      <th>text</th>\n",
       "      <th>time</th>\n",
       "      <th>est_time</th>\n",
       "      <th>hour</th>\n",
       "      <th>year</th>\n",
       "      <th>no_punc</th>\n",
       "    </tr>\n",
       "  </thead>\n",
       "  <tbody>\n",
       "    <tr>\n",
       "      <th>786189446274248704</th>\n",
       "      <td>18329</td>\n",
       "      <td>Twitter for Android</td>\n",
       "      <td>crooked hillary clinton likes to talk about the things she will do but she has been there for 30 years - why didn't she do them?</td>\n",
       "      <td>2016-10-12 12:59:05</td>\n",
       "      <td>2016-10-12 07:59:05-05:00</td>\n",
       "      <td>7.984722</td>\n",
       "      <td>2016.778689</td>\n",
       "      <td>crooked hillary clinton likes to talk about the things she will do but she has been there for 30 years   why didn t she do them</td>\n",
       "    </tr>\n",
       "  </tbody>\n",
       "</table>\n",
       "</div>"
      ],
      "text/plain": [
       "                    retweet_count               source  \\\n",
       "786189446274248704          18329  Twitter for Android   \n",
       "\n",
       "                                                                                                                                                text  \\\n",
       "786189446274248704  crooked hillary clinton likes to talk about the things she will do but she has been there for 30 years - why didn't she do them?   \n",
       "\n",
       "                                  time                  est_time      hour  \\\n",
       "786189446274248704 2016-10-12 12:59:05 2016-10-12 07:59:05-05:00  7.984722   \n",
       "\n",
       "                           year  \\\n",
       "786189446274248704  2016.778689   \n",
       "\n",
       "                                                                                                                                             no_punc  \n",
       "786189446274248704  crooked hillary clinton likes to talk about the things she will do but she has been there for 30 years   why didn t she do them   "
      ]
     },
     "execution_count": 49,
     "metadata": {},
     "output_type": "execute_result"
    }
   ],
   "source": [
    "trump.loc[[786189446274248704]]"
   ]
  },
  {
   "cell_type": "code",
   "execution_count": 50,
   "metadata": {
    "deletable": false,
    "nbgrader": {
     "cell_type": "code",
     "checksum": "71f93a81cbd4dd1b2ff47a6d65ef758e",
     "grade": false,
     "grade_id": "q6d-answer",
     "locked": false,
     "schema_version": 2,
     "solution": true
    },
    "tags": [
     "student"
    ]
   },
   "outputs": [
    {
     "data": {
      "text/html": [
       "<div>\n",
       "<style scoped>\n",
       "    .dataframe tbody tr th:only-of-type {\n",
       "        vertical-align: middle;\n",
       "    }\n",
       "\n",
       "    .dataframe tbody tr th {\n",
       "        vertical-align: top;\n",
       "    }\n",
       "\n",
       "    .dataframe thead th {\n",
       "        text-align: right;\n",
       "    }\n",
       "</style>\n",
       "<table border=\"1\" class=\"dataframe\">\n",
       "  <thead>\n",
       "    <tr style=\"text-align: right;\">\n",
       "      <th></th>\n",
       "      <th>num</th>\n",
       "      <th>word</th>\n",
       "    </tr>\n",
       "  </thead>\n",
       "  <tbody>\n",
       "    <tr>\n",
       "      <th>786189446274248704</th>\n",
       "      <td>0</td>\n",
       "      <td>crooked</td>\n",
       "    </tr>\n",
       "    <tr>\n",
       "      <th>786189446274248704</th>\n",
       "      <td>1</td>\n",
       "      <td>hillary</td>\n",
       "    </tr>\n",
       "    <tr>\n",
       "      <th>786189446274248704</th>\n",
       "      <td>2</td>\n",
       "      <td>clinton</td>\n",
       "    </tr>\n",
       "    <tr>\n",
       "      <th>786189446274248704</th>\n",
       "      <td>3</td>\n",
       "      <td>likes</td>\n",
       "    </tr>\n",
       "    <tr>\n",
       "      <th>786189446274248704</th>\n",
       "      <td>4</td>\n",
       "      <td>to</td>\n",
       "    </tr>\n",
       "    <tr>\n",
       "      <th>786189446274248704</th>\n",
       "      <td>5</td>\n",
       "      <td>talk</td>\n",
       "    </tr>\n",
       "    <tr>\n",
       "      <th>786189446274248704</th>\n",
       "      <td>6</td>\n",
       "      <td>about</td>\n",
       "    </tr>\n",
       "    <tr>\n",
       "      <th>786189446274248704</th>\n",
       "      <td>7</td>\n",
       "      <td>the</td>\n",
       "    </tr>\n",
       "    <tr>\n",
       "      <th>786189446274248704</th>\n",
       "      <td>8</td>\n",
       "      <td>things</td>\n",
       "    </tr>\n",
       "    <tr>\n",
       "      <th>786189446274248704</th>\n",
       "      <td>9</td>\n",
       "      <td>she</td>\n",
       "    </tr>\n",
       "    <tr>\n",
       "      <th>786189446274248704</th>\n",
       "      <td>10</td>\n",
       "      <td>will</td>\n",
       "    </tr>\n",
       "    <tr>\n",
       "      <th>786189446274248704</th>\n",
       "      <td>11</td>\n",
       "      <td>do</td>\n",
       "    </tr>\n",
       "    <tr>\n",
       "      <th>786189446274248704</th>\n",
       "      <td>12</td>\n",
       "      <td>but</td>\n",
       "    </tr>\n",
       "    <tr>\n",
       "      <th>786189446274248704</th>\n",
       "      <td>13</td>\n",
       "      <td>she</td>\n",
       "    </tr>\n",
       "    <tr>\n",
       "      <th>786189446274248704</th>\n",
       "      <td>14</td>\n",
       "      <td>has</td>\n",
       "    </tr>\n",
       "    <tr>\n",
       "      <th>786189446274248704</th>\n",
       "      <td>15</td>\n",
       "      <td>been</td>\n",
       "    </tr>\n",
       "    <tr>\n",
       "      <th>786189446274248704</th>\n",
       "      <td>16</td>\n",
       "      <td>there</td>\n",
       "    </tr>\n",
       "    <tr>\n",
       "      <th>786189446274248704</th>\n",
       "      <td>17</td>\n",
       "      <td>for</td>\n",
       "    </tr>\n",
       "    <tr>\n",
       "      <th>786189446274248704</th>\n",
       "      <td>18</td>\n",
       "      <td>30</td>\n",
       "    </tr>\n",
       "    <tr>\n",
       "      <th>786189446274248704</th>\n",
       "      <td>19</td>\n",
       "      <td>years</td>\n",
       "    </tr>\n",
       "    <tr>\n",
       "      <th>786189446274248704</th>\n",
       "      <td>20</td>\n",
       "      <td>why</td>\n",
       "    </tr>\n",
       "    <tr>\n",
       "      <th>786189446274248704</th>\n",
       "      <td>21</td>\n",
       "      <td>didn</td>\n",
       "    </tr>\n",
       "    <tr>\n",
       "      <th>786189446274248704</th>\n",
       "      <td>22</td>\n",
       "      <td>t</td>\n",
       "    </tr>\n",
       "    <tr>\n",
       "      <th>786189446274248704</th>\n",
       "      <td>23</td>\n",
       "      <td>she</td>\n",
       "    </tr>\n",
       "    <tr>\n",
       "      <th>786189446274248704</th>\n",
       "      <td>24</td>\n",
       "      <td>do</td>\n",
       "    </tr>\n",
       "    <tr>\n",
       "      <th>786189446274248704</th>\n",
       "      <td>25</td>\n",
       "      <td>them</td>\n",
       "    </tr>\n",
       "  </tbody>\n",
       "</table>\n",
       "</div>"
      ],
      "text/plain": [
       "                    num     word\n",
       "786189446274248704    0  crooked\n",
       "786189446274248704    1  hillary\n",
       "786189446274248704    2  clinton\n",
       "786189446274248704    3    likes\n",
       "786189446274248704    4       to\n",
       "786189446274248704    5     talk\n",
       "786189446274248704    6    about\n",
       "786189446274248704    7      the\n",
       "786189446274248704    8   things\n",
       "786189446274248704    9      she\n",
       "786189446274248704   10     will\n",
       "786189446274248704   11       do\n",
       "786189446274248704   12      but\n",
       "786189446274248704   13      she\n",
       "786189446274248704   14      has\n",
       "786189446274248704   15     been\n",
       "786189446274248704   16    there\n",
       "786189446274248704   17      for\n",
       "786189446274248704   18       30\n",
       "786189446274248704   19    years\n",
       "786189446274248704   20      why\n",
       "786189446274248704   21     didn\n",
       "786189446274248704   22        t\n",
       "786189446274248704   23      she\n",
       "786189446274248704   24       do\n",
       "786189446274248704   25     them"
      ]
     },
     "execution_count": 50,
     "metadata": {},
     "output_type": "execute_result"
    }
   ],
   "source": [
    "tidy_format = trump['no_punc'].str.split(expand=True)\n",
    "tidy_format = tidy_format.stack().to_frame()\n",
    "tidy_format.reset_index(inplace=True)\n",
    "tidy_format.head()\n",
    "tidy_format = tidy_format.set_index('level_0')\n",
    "tidy_format.index.name = None\n",
    "tidy_format = tidy_format.rename(columns={'level_1': 'num', 0: 'word'})\n",
    "tidy_format.loc[786189446274248704]\n",
    "# YOUR CODE HERE\n",
    "#raise NotImplementedError()"
   ]
  },
  {
   "cell_type": "code",
   "execution_count": 51,
   "metadata": {
    "deletable": false,
    "editable": false,
    "nbgrader": {
     "cell_type": "code",
     "checksum": "78b35d7cc8348ceb6ffbd17591dfd4f1",
     "grade": true,
     "grade_id": "q6d-tests",
     "locked": true,
     "points": 1,
     "schema_version": 2,
     "solution": false
    },
    "tags": [
     "test",
     "q05d"
    ]
   },
   "outputs": [],
   "source": [
    "assert tidy_format.loc[894661651760377856].shape == (27, 2)\n",
    "assert ' '.join(list(tidy_format.loc[894661651760377856]['word'])) == 'i think senator blumenthal should take a nice long vacation in vietnam where he lied about his service so he can at least say he was there'"
   ]
  },
  {
   "cell_type": "markdown",
   "metadata": {
    "deletable": false,
    "editable": false,
    "nbgrader": {
     "cell_type": "markdown",
     "checksum": "b170181366bfdd62b6d5df9e487479b3",
     "grade": false,
     "grade_id": "q6e-header",
     "locked": true,
     "schema_version": 2,
     "solution": false
    }
   },
   "source": [
    "## Question 6e:\n",
    "\n",
    "Now that we have this table in the tidy format, it becomes much easier to find the sentiment of each tweet: we can join the table with the lexicon table. \n",
    "\n",
    "Add a `polarity` column to the `trump` table.  The `polarity` column should contain the sum of the sentiment polarity of each word in the text of the tweet.\n",
    "\n",
    "**Hint** you will need to merge the `tidy_format` and `sent` tables and group the final answer.\n"
   ]
  },
  {
   "cell_type": "code",
   "execution_count": 52,
   "metadata": {},
   "outputs": [],
   "source": [
    "#df = tidy_format.merge(sent, how='outer', left_on=\"word\", right_index=True)\n",
    "#df['index1'] = df.index\n",
    "#df = df.reset_index()\n",
    "\n",
    "#df = df[['polarity', 'index']]\n",
    "#df = df.groupby('index').sum().fillna(0)\n",
    "#df.head()\n",
    "#trump['polarity'] = df['polarity']\n",
    "#trump.head()\n",
    "#df.index.contains(786201435486781440)\n",
    "#trump.index.values"
   ]
  },
  {
   "cell_type": "code",
   "execution_count": 53,
   "metadata": {
    "deletable": false,
    "nbgrader": {
     "cell_type": "code",
     "checksum": "5ad778cbb8a86c9255acac2d8799fa96",
     "grade": false,
     "grade_id": "q6e",
     "locked": false,
     "schema_version": 2,
     "solution": true
    },
    "tags": [
     "student"
    ]
   },
   "outputs": [
    {
     "data": {
      "text/html": [
       "<div>\n",
       "<style scoped>\n",
       "    .dataframe tbody tr th:only-of-type {\n",
       "        vertical-align: middle;\n",
       "    }\n",
       "\n",
       "    .dataframe tbody tr th {\n",
       "        vertical-align: top;\n",
       "    }\n",
       "\n",
       "    .dataframe thead th {\n",
       "        text-align: right;\n",
       "    }\n",
       "</style>\n",
       "<table border=\"1\" class=\"dataframe\">\n",
       "  <thead>\n",
       "    <tr style=\"text-align: right;\">\n",
       "      <th></th>\n",
       "      <th>retweet_count</th>\n",
       "      <th>source</th>\n",
       "      <th>text</th>\n",
       "      <th>time</th>\n",
       "      <th>est_time</th>\n",
       "      <th>hour</th>\n",
       "      <th>year</th>\n",
       "      <th>no_punc</th>\n",
       "      <th>polarity</th>\n",
       "    </tr>\n",
       "  </thead>\n",
       "  <tbody>\n",
       "    <tr>\n",
       "      <th>786204978629185536</th>\n",
       "      <td>24915</td>\n",
       "      <td>Twitter for iPhone</td>\n",
       "      <td>pay to play politics. \\n#crookedhillary https://t.co/wjsl8itvvk</td>\n",
       "      <td>2016-10-12 14:00:48</td>\n",
       "      <td>2016-10-12 09:00:48-05:00</td>\n",
       "      <td>9.013333</td>\n",
       "      <td>2016.778689</td>\n",
       "      <td>pay to play politics  \\n crookedhillary https   t co wjsl8itvvk</td>\n",
       "      <td>1.0</td>\n",
       "    </tr>\n",
       "    <tr>\n",
       "      <th>786201435486781440</th>\n",
       "      <td>22609</td>\n",
       "      <td>Twitter for iPhone</td>\n",
       "      <td>very little pick-up by the dishonest media of incredible information provided by wikileaks. so dishonest! rigged system!</td>\n",
       "      <td>2016-10-12 13:46:43</td>\n",
       "      <td>2016-10-12 08:46:43-05:00</td>\n",
       "      <td>8.778611</td>\n",
       "      <td>2016.778689</td>\n",
       "      <td>very little pick up by the dishonest media of incredible information provided by wikileaks  so dishonest  rigged system</td>\n",
       "      <td>-6.9</td>\n",
       "    </tr>\n",
       "    <tr>\n",
       "      <th>786189446274248704</th>\n",
       "      <td>18329</td>\n",
       "      <td>Twitter for Android</td>\n",
       "      <td>crooked hillary clinton likes to talk about the things she will do but she has been there for 30 years - why didn't she do them?</td>\n",
       "      <td>2016-10-12 12:59:05</td>\n",
       "      <td>2016-10-12 07:59:05-05:00</td>\n",
       "      <td>7.984722</td>\n",
       "      <td>2016.778689</td>\n",
       "      <td>crooked hillary clinton likes to talk about the things she will do but she has been there for 30 years   why didn t she do them</td>\n",
       "      <td>1.8</td>\n",
       "    </tr>\n",
       "    <tr>\n",
       "      <th>786054986534969344</th>\n",
       "      <td>18789</td>\n",
       "      <td>Twitter for iPhone</td>\n",
       "      <td>thank you florida- a movement that has never been seen before and will never be seen again. lets get out &amp;amp;… https://t.co/t9xm9wfdzi</td>\n",
       "      <td>2016-10-12 04:04:47</td>\n",
       "      <td>2016-10-11 23:04:47-05:00</td>\n",
       "      <td>23.079722</td>\n",
       "      <td>2016.778689</td>\n",
       "      <td>thank you florida  a movement that has never been seen before and will never be seen again  lets get out  amp   https   t co t9xm9wfdzi</td>\n",
       "      <td>1.5</td>\n",
       "    </tr>\n",
       "    <tr>\n",
       "      <th>786007502639038464</th>\n",
       "      <td>7761</td>\n",
       "      <td>Twitter for iPhone</td>\n",
       "      <td>join me thursday in florida &amp;amp; ohio!\\nwest palm beach, fl at noon:\\nhttps://t.co/jwbznqhxg9\\ncincinnati, oh this 7:30pm:\\nhttps://t.co/5w2uhalpix</td>\n",
       "      <td>2016-10-12 00:56:06</td>\n",
       "      <td>2016-10-11 19:56:06-05:00</td>\n",
       "      <td>19.935000</td>\n",
       "      <td>2016.778689</td>\n",
       "      <td>join me thursday in florida  amp  ohio \\nwest palm beach  fl at noon \\nhttps   t co jwbznqhxg9\\ncincinnati  oh this 7 30pm \\nhttps   t co 5w2uhalpix</td>\n",
       "      <td>1.2</td>\n",
       "    </tr>\n",
       "  </tbody>\n",
       "</table>\n",
       "</div>"
      ],
      "text/plain": [
       "                    retweet_count               source  \\\n",
       "786204978629185536          24915   Twitter for iPhone   \n",
       "786201435486781440          22609   Twitter for iPhone   \n",
       "786189446274248704          18329  Twitter for Android   \n",
       "786054986534969344          18789   Twitter for iPhone   \n",
       "786007502639038464           7761   Twitter for iPhone   \n",
       "\n",
       "                                                                                                                                                                    text  \\\n",
       "786204978629185536                                                                                       pay to play politics. \\n#crookedhillary https://t.co/wjsl8itvvk   \n",
       "786201435486781440                              very little pick-up by the dishonest media of incredible information provided by wikileaks. so dishonest! rigged system!   \n",
       "786189446274248704                      crooked hillary clinton likes to talk about the things she will do but she has been there for 30 years - why didn't she do them?   \n",
       "786054986534969344               thank you florida- a movement that has never been seen before and will never be seen again. lets get out &amp;… https://t.co/t9xm9wfdzi   \n",
       "786007502639038464  join me thursday in florida &amp; ohio!\\nwest palm beach, fl at noon:\\nhttps://t.co/jwbznqhxg9\\ncincinnati, oh this 7:30pm:\\nhttps://t.co/5w2uhalpix   \n",
       "\n",
       "                                  time                  est_time       hour  \\\n",
       "786204978629185536 2016-10-12 14:00:48 2016-10-12 09:00:48-05:00   9.013333   \n",
       "786201435486781440 2016-10-12 13:46:43 2016-10-12 08:46:43-05:00   8.778611   \n",
       "786189446274248704 2016-10-12 12:59:05 2016-10-12 07:59:05-05:00   7.984722   \n",
       "786054986534969344 2016-10-12 04:04:47 2016-10-11 23:04:47-05:00  23.079722   \n",
       "786007502639038464 2016-10-12 00:56:06 2016-10-11 19:56:06-05:00  19.935000   \n",
       "\n",
       "                           year  \\\n",
       "786204978629185536  2016.778689   \n",
       "786201435486781440  2016.778689   \n",
       "786189446274248704  2016.778689   \n",
       "786054986534969344  2016.778689   \n",
       "786007502639038464  2016.778689   \n",
       "\n",
       "                                                                                                                                                                 no_punc  \\\n",
       "786204978629185536                                                                                       pay to play politics  \\n crookedhillary https   t co wjsl8itvvk   \n",
       "786201435486781440                              very little pick up by the dishonest media of incredible information provided by wikileaks  so dishonest  rigged system    \n",
       "786189446274248704                      crooked hillary clinton likes to talk about the things she will do but she has been there for 30 years   why didn t she do them    \n",
       "786054986534969344               thank you florida  a movement that has never been seen before and will never be seen again  lets get out  amp   https   t co t9xm9wfdzi   \n",
       "786007502639038464  join me thursday in florida  amp  ohio \\nwest palm beach  fl at noon \\nhttps   t co jwbznqhxg9\\ncincinnati  oh this 7 30pm \\nhttps   t co 5w2uhalpix   \n",
       "\n",
       "                    polarity  \n",
       "786204978629185536       1.0  \n",
       "786201435486781440      -6.9  \n",
       "786189446274248704       1.8  \n",
       "786054986534969344       1.5  \n",
       "786007502639038464       1.2  "
      ]
     },
     "execution_count": 53,
     "metadata": {},
     "output_type": "execute_result"
    }
   ],
   "source": [
    "df_word_pol = tidy_format.merge(sent, how='outer', left_on=\"word\", right_index=True)\n",
    "df_word_pol = df_word_pol.reset_index()\n",
    "\n",
    "df_word_pol = df_word_pol.groupby('index').sum().fillna(0)\n",
    "df_word_pol = df_word_pol.groupby('index').sum().fillna(0)\n",
    "df_word_pol = df_word_pol.drop(columns=['num'])\n",
    "trump['polarity'] = df_word_pol['polarity']\n",
    "#df_word_pol\n",
    "#df_word_pol.head()\n",
    "trump.head()\n",
    "\n",
    "# YOUR CODE HERE\n",
    "#raise NotImplementedError()"
   ]
  },
  {
   "cell_type": "code",
   "execution_count": 54,
   "metadata": {
    "deletable": false,
    "editable": false,
    "nbgrader": {
     "cell_type": "code",
     "checksum": "ff43fac8ac5a95a2eef4bbb52405ad16",
     "grade": true,
     "grade_id": "q6e-tests",
     "locked": true,
     "points": 2,
     "schema_version": 2,
     "solution": false
    },
    "tags": [
     "test",
     "q05e"
    ]
   },
   "outputs": [],
   "source": [
    "assert np.allclose(trump.loc[744701872456536064, 'polarity'], 8.4)\n",
    "assert np.allclose(trump.loc[745304731346702336, 'polarity'], 2.5)\n",
    "assert np.allclose(trump.loc[744519497764184064, 'polarity'], 1.7)\n",
    "assert np.allclose(trump.loc[894661651760377856, 'polarity'], 0.2)\n",
    "assert np.allclose(trump.loc[894620077634592769, 'polarity'], 5.4)\n",
    "# If you fail this test, you dropped tweets with 0 polarity\n",
    "assert np.allclose(trump.loc[744355251365511169, 'polarity'], 0.0)"
   ]
  },
  {
   "cell_type": "markdown",
   "metadata": {
    "deletable": false,
    "editable": false,
    "nbgrader": {
     "cell_type": "markdown",
     "checksum": "1d52c721610f2c6a5e4862a1866e5abc",
     "grade": false,
     "grade_id": "a-note-on-vader",
     "locked": true,
     "schema_version": 2,
     "solution": false
    }
   },
   "source": [
    "Now we have a measure of the sentiment of each of his tweets! Note that this calculation is rather basic; you can read over the VADER readme to understand a more robust sentiment analysis.\n",
    "\n",
    "Now, run the cells below to see the most positive and most negative tweets from Trump in your dataset:"
   ]
  },
  {
   "cell_type": "code",
   "execution_count": 55,
   "metadata": {
    "deletable": false,
    "editable": false,
    "nbgrader": {
     "cell_type": "code",
     "checksum": "3ea0c421557a05c5a03c51515a5fdc78",
     "grade": false,
     "grade_id": "negative-tweets",
     "locked": true,
     "schema_version": 2,
     "solution": false
    }
   },
   "outputs": [
    {
     "name": "stdout",
     "output_type": "stream",
     "text": [
      "Most negative tweets:\n",
      "\n",
      "   .@mittromney has announced he is running for the senate from the wonderful state of utah. he will make a great senator and worthy successor to @orrinhatch, and has my full support and endorsement!\n",
      "\n",
      "   it is outrageous that poisonous synthetic heroin fentanyl comes pouring into the u.s. postal system from china. we can, and must, end this now! the senate should pass the stop act – and firmly stop this poison from killing our children and destroying our country. no more delay!\n",
      "\n",
      "   the rigged russian witch hunt goes on and on as the “originators and founders” of this scam continue to be fired and demoted for their corrupt and illegal activity. all credibility is gone from this terrible hoax, and much more will be lost as it proceeds. no collusion!\n",
      "\n",
      "   james comey is a proven leaker &amp; liar. virtually everyone in washington thought he should be fired for the terrible job he did-until he was, in fact, fired. he leaked classified information, for which he should be prosecuted. he lied to congress under oath. he is a weak and.....\n",
      "\n",
      "   this is an illegally brought rigged witch hunt run by people who are totally corrupt and/or conflicted. it was started and paid for by crooked hillary and the democrats. phony dossier, fisa disgrace and so many lying and dishonest people already fired. 17 angry dems? stay tuned!\n"
     ]
    }
   ],
   "source": [
    "print('Most negative tweets:')\n",
    "for t in trump.sort_values('polarity').head()['text']:\n",
    "    print('\\n  ', t)"
   ]
  },
  {
   "cell_type": "code",
   "execution_count": 56,
   "metadata": {
    "deletable": false,
    "editable": false,
    "nbgrader": {
     "cell_type": "code",
     "checksum": "e0d27a82de94a1ce5cf64a2c72ffb7aa",
     "grade": false,
     "grade_id": "postive-tweets",
     "locked": true,
     "schema_version": 2,
     "solution": false
    }
   },
   "outputs": [
    {
     "name": "stdout",
     "output_type": "stream",
     "text": [
      "Most positive tweets:\n",
      "\n",
      "   congratulations to patrick reed on his great and courageous masters win! when patrick had his amazing win at doral 5 years ago, people saw his great talent, and a bright future ahead. now he is the masters champion!\n",
      "\n",
      "   my supporters are the smartest, strongest, most hard working and most loyal that we have seen in our countries history. it is a beautiful thing to watch as we win elections and gather support from all over the country. as we get stronger, so does our country. best numbers ever!\n",
      "\n",
      "   thank you to all of my great supporters, really big progress being made. other countries wanting to fix crazy trade deals. economy is roaring. supreme court pick getting great reviews. new poll says trump, at over 90%, is the most popular republican in history of the party. wow!\n",
      "\n",
      "   thank you, @wvgovernor jim justice, for that warm introduction. tonight, it was my great honor to attend the “greenbrier classic – salute to service dinner” in west virginia! god bless our veterans. god bless america - and happy independence day to all! https://t.co/v35qvcn8m6\n",
      "\n",
      "   the republican party had a great night. tremendous voter energy and excitement, and all candidates are those who have a great chance of winning in november. the economy is sooo strong, and with nancy pelosi wanting to end the big tax cuts and raise taxes, why wouldn’t we win?\n"
     ]
    }
   ],
   "source": [
    "print('Most positive tweets:')\n",
    "for t in trump.sort_values('polarity', ascending=False).head()['text']:\n",
    "    print('\\n  ', t)"
   ]
  },
  {
   "cell_type": "markdown",
   "metadata": {
    "deletable": false,
    "editable": false,
    "nbgrader": {
     "cell_type": "markdown",
     "checksum": "0f2ca7db78e7689cdd731e11c9dcffb9",
     "grade": false,
     "grade_id": "q6g",
     "locked": true,
     "schema_version": 2,
     "solution": false
    }
   },
   "source": [
    "## Question 6g\n",
    "\n",
    "Plot the distribution of tweet sentiments broken down by whether the text of the tweet contains `nyt` or `fox`.  Then in the box below comment on what we observe?"
   ]
  },
  {
   "cell_type": "code",
   "execution_count": 57,
   "metadata": {
    "deletable": false,
    "nbgrader": {
     "cell_type": "code",
     "checksum": "4eb3b83e9188000a1a52427c06ea3c62",
     "grade": true,
     "grade_id": "q6g-answer",
     "locked": false,
     "points": 1,
     "schema_version": 2,
     "solution": true
    },
    "tags": [
     "student"
    ]
   },
   "outputs": [
    {
     "data": {
      "text/plain": [
       "<matplotlib.legend.Legend at 0x7f83f7c94828>"
      ]
     },
     "execution_count": 57,
     "metadata": {},
     "output_type": "execute_result"
    },
    {
     "data": {
      "image/png": "[encoded data removed]",
      "text/plain": [
       "<matplotlib.figure.Figure at 0x7f83f6bc1ac8>"
      ]
     },
     "metadata": {},
     "output_type": "display_data"
    }
   ],
   "source": [
    "# YOUR CODE HERE\n",
    "nyt = trump[trump['no_punc'].str.contains('nyt')]\n",
    "fox = trump[trump['no_punc'].str.contains('fox')]\n",
    "\n",
    "sns.distplot(nyt['polarity'], label='nyt')\n",
    "sns.distplot(fox['polarity'], label='fox')\n",
    "plt.title('Tweet sentiment')\n",
    "plt.legend()\n",
    "\n",
    "#raise NotImplementedError()"
   ]
  },
  {
   "cell_type": "markdown",
   "metadata": {
    "deletable": false,
    "editable": false,
    "nbgrader": {
     "cell_type": "markdown",
     "checksum": "88e3a81cb1d24df731e4d72d10f08d9f",
     "grade": false,
     "grade_id": "comment-on-faux-news",
     "locked": true,
     "schema_version": 2,
     "solution": false
    }
   },
   "source": [
    "#### Comment on what you observe:"
   ]
  },
  {
   "cell_type": "markdown",
   "metadata": {
    "deletable": false,
    "nbgrader": {
     "cell_type": "markdown",
     "checksum": "07f011cfd9a34c2b3314f2a3aa210187",
     "grade": true,
     "grade_id": "q6g-written",
     "locked": false,
     "points": 1,
     "schema_version": 2,
     "solution": true
    }
   },
   "source": [
    "Both distributions of tweet sentiments are roughly symmetrical with the same range, but the plot for fox is shifted to the right (higher polarity) and is generally more positive than tweets about nyt."
   ]
  },
  {
   "cell_type": "markdown",
   "metadata": {
    "deletable": false,
    "editable": false,
    "nbgrader": {
     "cell_type": "markdown",
     "checksum": "c5ecdf3a6f728a340b159acc71ac1abe",
     "grade": false,
     "grade_id": "q7-header",
     "locked": true,
     "schema_version": 2,
     "solution": false
    }
   },
   "source": [
    "## Question 7: Engagement\n",
    "\n",
    "## Question 7a\n",
    "\n",
    "In this problem, we'll explore which words led to a greater average number of retweets. For example, at the time of this writing, Donald Trump has two tweets that contain the word 'oakland' (tweets 932570628451954688 and 1016609920031117312) with 36757 and 10286 retweets respectively, for an average of 23,521.5.\n",
    "\n",
    "Find the top 20 most retweeted words. Include only words that appear in at least 25 tweets. As usual, try to do this without any for loops. You can string together ~7 pandas commands and get everything done on one line.\n",
    "\n",
    "Your `top_20` table should have this format:\n",
    "\n",
    "<table border=\"1\" class=\"dataframe\">\n",
    "  <thead>\n",
    "    <tr style=\"text-align: right;\">\n",
    "      <th></th>\n",
    "      <th>retweet_count</th>\n",
    "    </tr>\n",
    "    <tr>\n",
    "      <th>word</th>\n",
    "      <th></th>\n",
    "    </tr>\n",
    "  </thead>\n",
    "  <tbody>\n",
    "    <tr>\n",
    "      <th>jong</th>\n",
    "      <td>40675.666667</td>\n",
    "    </tr>\n",
    "    <tr>\n",
    "      <th>try</th>\n",
    "      <td>33937.800000</td>\n",
    "    </tr>\n",
    "    <tr>\n",
    "      <th>kim</th>\n",
    "      <td>32849.595745</td>\n",
    "    </tr>\n",
    "    <tr>\n",
    "      <th>un</th>\n",
    "      <td>32741.731707</td>\n",
    "    </tr>\n",
    "    <tr>\n",
    "      <th>maybe</th>\n",
    "      <td>30473.192308</td>\n",
    "    </tr>\n",
    "  </tbody>\n",
    "</table>"
   ]
  },
  {
   "cell_type": "code",
   "execution_count": 58,
   "metadata": {
    "deletable": false,
    "nbgrader": {
     "cell_type": "code",
     "checksum": "fd0b39f47c0462c1c6da4a8c31df384c",
     "grade": false,
     "grade_id": "q7a",
     "locked": false,
     "schema_version": 2,
     "solution": true
    },
    "tags": [
     "student"
    ]
   },
   "outputs": [
    {
     "data": {
      "text/html": [
       "<div>\n",
       "<style scoped>\n",
       "    .dataframe tbody tr th:only-of-type {\n",
       "        vertical-align: middle;\n",
       "    }\n",
       "\n",
       "    .dataframe tbody tr th {\n",
       "        vertical-align: top;\n",
       "    }\n",
       "\n",
       "    .dataframe thead th {\n",
       "        text-align: right;\n",
       "    }\n",
       "</style>\n",
       "<table border=\"1\" class=\"dataframe\">\n",
       "  <thead>\n",
       "    <tr style=\"text-align: right;\">\n",
       "      <th></th>\n",
       "      <th>retweet_count</th>\n",
       "    </tr>\n",
       "    <tr>\n",
       "      <th>word</th>\n",
       "      <th></th>\n",
       "    </tr>\n",
       "  </thead>\n",
       "  <tbody>\n",
       "    <tr>\n",
       "      <th>jong</th>\n",
       "      <td>39545.733333</td>\n",
       "    </tr>\n",
       "    <tr>\n",
       "      <th>try</th>\n",
       "      <td>32462.280000</td>\n",
       "    </tr>\n",
       "    <tr>\n",
       "      <th>un</th>\n",
       "      <td>31884.682927</td>\n",
       "    </tr>\n",
       "    <tr>\n",
       "      <th>kim</th>\n",
       "      <td>31574.061224</td>\n",
       "    </tr>\n",
       "    <tr>\n",
       "      <th>maybe</th>\n",
       "      <td>29776.115385</td>\n",
       "    </tr>\n",
       "  </tbody>\n",
       "</table>\n",
       "</div>"
      ],
      "text/plain": [
       "       retweet_count\n",
       "word                \n",
       "jong    39545.733333\n",
       "try     32462.280000\n",
       "un      31884.682927\n",
       "kim     31574.061224\n",
       "maybe   29776.115385"
      ]
     },
     "execution_count": 58,
     "metadata": {},
     "output_type": "execute_result"
    }
   ],
   "source": [
    "top_20 = tidy_format.join(trump['retweet_count'])\n",
    "top_20 = top_20.groupby('word').filter(lambda g: len(g) >= 25)\n",
    "top_20 = top_20.groupby('word').agg({'retweet_count': 'mean'})\n",
    "top_20 = top_20.sort_values('retweet_count', ascending=False).head(20)\n",
    "\n",
    "#top = top_20.loc[[786189446274248704, 785898532645502980]]\n",
    "#top = top.groupby('word').filter(lambda g: len(g) >= 25)\n",
    "#top = top.groupby('word').agg({'retweet_count': 'mean'})\n",
    "#top = top.sort_values('retweet_count', ascending=False)\n",
    "\n",
    "top_20.head()\n",
    "\n",
    "# YOUR CODE HERE\n",
    "#raise NotImplementedError()"
   ]
  },
  {
   "cell_type": "code",
   "execution_count": 59,
   "metadata": {
    "deletable": false,
    "editable": false,
    "nbgrader": {
     "cell_type": "code",
     "checksum": "21c9f88159cc2a93678adbf0ed15b141",
     "grade": true,
     "grade_id": "q7a-test",
     "locked": true,
     "points": 1,
     "schema_version": 2,
     "solution": false
    },
    "tags": [
     "test",
     "q07a"
    ]
   },
   "outputs": [],
   "source": [
    "# Although it can't be guaranteed, it's very likely that the top 5 words will still be\n",
    "# in the top 20 words in the next month.\n",
    "assert 'jong'     in top_20.index\n",
    "assert 'try'     in top_20.index\n",
    "assert 'kim' in top_20.index\n",
    "assert 'un'    in top_20.index\n",
    "assert 'maybe'    in top_20.index\n"
   ]
  },
  {
   "cell_type": "markdown",
   "metadata": {
    "deletable": false,
    "editable": false,
    "nbgrader": {
     "cell_type": "markdown",
     "checksum": "a4a12be8f88ac931b51b85a1ffa5cfde",
     "grade": false,
     "grade_id": "bar-chart-results",
     "locked": true,
     "schema_version": 2,
     "solution": false
    }
   },
   "source": [
    "Here's a bar chart of your results:"
   ]
  },
  {
   "cell_type": "code",
   "execution_count": 60,
   "metadata": {
    "deletable": false,
    "editable": false,
    "nbgrader": {
     "cell_type": "code",
     "checksum": "4a962cdd19dad39e5f8aa5fe2ff096e4",
     "grade": false,
     "grade_id": "top-retweets",
     "locked": true,
     "schema_version": 2,
     "solution": false
    }
   },
   "outputs": [
    {
     "data": {
      "image/png": "[encoded data removed]",
      "text/plain": [
       "<matplotlib.figure.Figure at 0x7f83f83be2b0>"
      ]
     },
     "metadata": {},
     "output_type": "display_data"
    }
   ],
   "source": [
    "top_20['retweet_count'].sort_values().plot.barh(figsize=(10, 8));"
   ]
  },
  {
   "cell_type": "markdown",
   "metadata": {
    "deletable": false,
    "editable": false,
    "nbgrader": {
     "cell_type": "markdown",
     "checksum": "70a14a09cd647399e07501fd7ba2c9e1",
     "grade": false,
     "grade_id": "q7b",
     "locked": true,
     "schema_version": 2,
     "solution": false
    }
   },
   "source": [
    "## Question 7b\n",
    "\n",
    "\"kim\", \"jong\" and \"un\" are apparently really popular in Trump's tweets! It seems like we can conclude that his tweets involving jong are more popular than his other tweets. Or can we?\n",
    "\n",
    "Consider each of the statements about possible confounding factors below. State whether each statement is true or false and explain. If the statement is true, state whether the confounding factor could have made kim jong un related tweets higher in the list than they should be.\n",
    "\n",
    "1. We didn't restrict our word list to nouns, so we have unhelpful words like \"let\" and \"any\" in our result.\n",
    "1. We didn't remove hashtags in our text, so we have duplicate words (eg. #great and great).\n",
    "1. We didn't account for the fact that Trump's follower count has increased over time."
   ]
  },
  {
   "cell_type": "markdown",
   "metadata": {
    "deletable": false,
    "nbgrader": {
     "cell_type": "markdown",
     "checksum": "577b78199cd4361dd51b92774e09beb0",
     "grade": true,
     "grade_id": "q7b-answer",
     "locked": false,
     "points": 1,
     "schema_version": 2,
     "solution": true
    },
    "tags": [
     "student",
     "written"
    ]
   },
   "source": [
    "YOUR ANSWER HERE\n",
    "1. False, we took the average of the count of all the words, which filters out unhelpful words.\n",
    "2. True, we did remove the hashtag symbol when we removed all punctuation, but the word after the hashtag remains. This confounding factor could make kim jong un tweets higher in the list because if Trump used the name in his tweet, as well as hashtaged it, it would still appear twice in the no_punc column and be counted twice for number of retweets.\n",
    "3. True, Trump's follower count has probably increased since the time we started this project, and we did not take this into consideration. This could be a confounding factor because if Trump recently made more kim jong un tweets, he has more followers than he did before and more people would retweet his recent kim jong un tweet, but this does not necessarily mean the tweet is more popular, just that trump has more followers overall."
   ]
  },
  {
   "cell_type": "markdown",
   "metadata": {
    "deletable": false,
    "editable": false,
    "nbgrader": {
     "cell_type": "markdown",
     "checksum": "2349bca60086e521e2127eb40b1beb29",
     "grade": false,
     "grade_id": "q8",
     "locked": true,
     "schema_version": 2,
     "solution": false
    }
   },
   "source": [
    "## Question 8\n",
    "\n",
    "Using the `trump` tweets construct an interesting plot describing a property of the data and discuss what you found below.\n",
    "\n",
    "**Ideas:**\n",
    "\n",
    "1. How has the sentiment changed with length of the tweets?\n",
    "1. Does sentiment affect retweet count?\n",
    "1. Are retweets more negative than regular tweets?\n",
    "1. Are there any spikes in the number of retweets and do the correspond to world events? \n",
    "1. *Bonus:* How many Russian twitter bots follow Trump? \n",
    "1. What terms have an especially positive or negative sentiment?\n",
    "\n",
    "You can look at other data sources and even tweets.\n"
   ]
  },
  {
   "cell_type": "markdown",
   "metadata": {
    "deletable": false,
    "editable": false,
    "nbgrader": {
     "cell_type": "markdown",
     "checksum": "9742f4a99a0e60845ad7dcc60d774fd7",
     "grade": false,
     "grade_id": "plot8-q",
     "locked": true,
     "schema_version": 2,
     "solution": false
    }
   },
   "source": [
    "### Plot:"
   ]
  },
  {
   "cell_type": "code",
   "execution_count": 61,
   "metadata": {},
   "outputs": [
    {
     "data": {
      "text/html": [
       "<div>\n",
       "<style scoped>\n",
       "    .dataframe tbody tr th:only-of-type {\n",
       "        vertical-align: middle;\n",
       "    }\n",
       "\n",
       "    .dataframe tbody tr th {\n",
       "        vertical-align: top;\n",
       "    }\n",
       "\n",
       "    .dataframe thead th {\n",
       "        text-align: right;\n",
       "    }\n",
       "</style>\n",
       "<table border=\"1\" class=\"dataframe\">\n",
       "  <thead>\n",
       "    <tr style=\"text-align: right;\">\n",
       "      <th></th>\n",
       "      <th>retweet_count</th>\n",
       "      <th>source</th>\n",
       "      <th>text</th>\n",
       "      <th>time</th>\n",
       "      <th>est_time</th>\n",
       "      <th>hour</th>\n",
       "      <th>year</th>\n",
       "      <th>no_punc</th>\n",
       "      <th>polarity</th>\n",
       "    </tr>\n",
       "  </thead>\n",
       "  <tbody>\n",
       "    <tr>\n",
       "      <th>881503147168071680</th>\n",
       "      <td>370272</td>\n",
       "      <td>Twitter for iPhone</td>\n",
       "      <td>#fraudnewscnn #fnn https://t.co/wyunhjjujg</td>\n",
       "      <td>2017-07-02 13:21:42</td>\n",
       "      <td>2017-07-02 08:21:42-05:00</td>\n",
       "      <td>8.361667</td>\n",
       "      <td>2017.498630</td>\n",
       "      <td>fraudnewscnn  fnn https   t co wyunhjjujg</td>\n",
       "      <td>0.0</td>\n",
       "    </tr>\n",
       "    <tr>\n",
       "      <th>795954831718498305</th>\n",
       "      <td>337819</td>\n",
       "      <td>Twitter for Android</td>\n",
       "      <td>today we make america great again!</td>\n",
       "      <td>2016-11-08 11:43:14</td>\n",
       "      <td>2016-11-08 06:43:14-05:00</td>\n",
       "      <td>6.720556</td>\n",
       "      <td>2016.852459</td>\n",
       "      <td>today we make america great again</td>\n",
       "      <td>3.1</td>\n",
       "    </tr>\n",
       "    <tr>\n",
       "      <th>929511061954297857</th>\n",
       "      <td>253531</td>\n",
       "      <td>Twitter Web Client</td>\n",
       "      <td>why would kim jong-un insult me by calling me \"old,\" when i would never call him \"short and fat?\" oh well, i try so hard to be his friend - and maybe someday that will happen!</td>\n",
       "      <td>2017-11-12 00:48:01</td>\n",
       "      <td>2017-11-11 19:48:01-05:00</td>\n",
       "      <td>19.800278</td>\n",
       "      <td>2017.863014</td>\n",
       "      <td>why would kim jong un insult me by calling me  old   when i would never call him  short and fat   oh well  i try so hard to be his friend   and maybe someday that will happen</td>\n",
       "      <td>0.6</td>\n",
       "    </tr>\n",
       "    <tr>\n",
       "      <th>796315640307060738</th>\n",
       "      <td>215794</td>\n",
       "      <td>Twitter for Android</td>\n",
       "      <td>such a beautiful and important evening! the forgotten man and woman will never be forgotten again. we will all come together as never before</td>\n",
       "      <td>2016-11-09 11:36:58</td>\n",
       "      <td>2016-11-09 06:36:58-05:00</td>\n",
       "      <td>6.616111</td>\n",
       "      <td>2016.855191</td>\n",
       "      <td>such a beautiful and important evening  the forgotten man and woman will never be forgotten again  we will all come together as never before</td>\n",
       "      <td>1.9</td>\n",
       "    </tr>\n",
       "    <tr>\n",
       "      <th>948355557022420992</th>\n",
       "      <td>179666</td>\n",
       "      <td>Twitter for iPhone</td>\n",
       "      <td>north korean leader kim jong un just stated that the “nuclear button is on his desk at all times.” will someone from his depleted and food starved regime please inform him that i too have a nuclear button, but it is a much bigger &amp;amp; more powerful one than his, and my butto...</td>\n",
       "      <td>2018-01-03 00:49:19</td>\n",
       "      <td>2018-01-02 19:49:19-05:00</td>\n",
       "      <td>19.821944</td>\n",
       "      <td>2018.005479</td>\n",
       "      <td>north korean leader kim jong un just stated that the  nuclear button is on his desk at all times   will someone from his depleted and food starved regime please inform him that i too have a nuclear button  but it is a much bigger  amp  more powerful one than his  and my butto...</td>\n",
       "      <td>0.5</td>\n",
       "    </tr>\n",
       "    <tr>\n",
       "      <th>741007091947556864</th>\n",
       "      <td>166748</td>\n",
       "      <td>Twitter for iPhone</td>\n",
       "      <td>how long did it take your staff of 823 people to think that up--and where are your 33,000 emails that you deleted? https://t.co/geclntqizq</td>\n",
       "      <td>2016-06-09 20:40:32</td>\n",
       "      <td>2016-06-09 15:40:32-05:00</td>\n",
       "      <td>15.675556</td>\n",
       "      <td>2016.437158</td>\n",
       "      <td>how long did it take your staff of 823 people to think that up  and where are your 33 000 emails that you deleted  https   t co geclntqizq</td>\n",
       "      <td>0.0</td>\n",
       "    </tr>\n",
       "    <tr>\n",
       "      <th>815185071317676033</th>\n",
       "      <td>137964</td>\n",
       "      <td>Twitter for Android</td>\n",
       "      <td>happy new year to all, including to my many enemies and those who have fought me and lost so badly they just don't know what to do. love!</td>\n",
       "      <td>2016-12-31 13:17:21</td>\n",
       "      <td>2016-12-31 08:17:21-05:00</td>\n",
       "      <td>8.289167</td>\n",
       "      <td>2016.997268</td>\n",
       "      <td>happy new year to all  including to my many enemies and those who have fought me and lost so badly they just don t know what to do  love</td>\n",
       "      <td>-1.0</td>\n",
       "    </tr>\n",
       "    <tr>\n",
       "      <th>755788382618390529</th>\n",
       "      <td>115589</td>\n",
       "      <td>Twitter Web Client</td>\n",
       "      <td>the media is spending more time doing a forensic analysis of melania's speech than the fbi spent on hillary's emails.</td>\n",
       "      <td>2016-07-20 15:36:06</td>\n",
       "      <td>2016-07-20 10:36:06-05:00</td>\n",
       "      <td>10.601667</td>\n",
       "      <td>2016.549180</td>\n",
       "      <td>the media is spending more time doing a forensic analysis of melania s speech than the fbi spent on hillary s emails</td>\n",
       "      <td>0.0</td>\n",
       "    </tr>\n",
       "    <tr>\n",
       "      <th>1016079192604139520</th>\n",
       "      <td>111387</td>\n",
       "      <td>Media Studio</td>\n",
       "      <td>they just didn't get it, but they do now! https://t.co/9t50nupkdy</td>\n",
       "      <td>2018-07-08 21:58:52</td>\n",
       "      <td>2018-07-08 16:58:52-05:00</td>\n",
       "      <td>16.981111</td>\n",
       "      <td>2018.515068</td>\n",
       "      <td>they just didn t get it  but they do now  https   t co 9t50nupkdy</td>\n",
       "      <td>0.0</td>\n",
       "    </tr>\n",
       "    <tr>\n",
       "      <th>1016647764434931713</th>\n",
       "      <td>111387</td>\n",
       "      <td>Twitter for iPhone</td>\n",
       "      <td>rt @realdonaldtrump: they just didn't get it, but they do now! https://t.co/9t50nupkdy</td>\n",
       "      <td>2018-07-10 11:38:10</td>\n",
       "      <td>2018-07-10 06:38:10-05:00</td>\n",
       "      <td>6.636111</td>\n",
       "      <td>2018.520548</td>\n",
       "      <td>rt  realdonaldtrump  they just didn t get it  but they do now  https   t co 9t50nupkdy</td>\n",
       "      <td>0.0</td>\n",
       "    </tr>\n",
       "    <tr>\n",
       "      <th>989225812166696960</th>\n",
       "      <td>104060</td>\n",
       "      <td>Twitter for iPhone</td>\n",
       "      <td>thank you kanye, very cool! https://t.co/vric87m21x</td>\n",
       "      <td>2018-04-25 19:33:07</td>\n",
       "      <td>2018-04-25 14:33:07-05:00</td>\n",
       "      <td>14.551944</td>\n",
       "      <td>2018.312329</td>\n",
       "      <td>thank you kanye  very cool  https   t co vric87m21x</td>\n",
       "      <td>2.8</td>\n",
       "    </tr>\n",
       "    <tr>\n",
       "      <th>1021234525626609666</th>\n",
       "      <td>103748</td>\n",
       "      <td>Twitter for iPhone</td>\n",
       "      <td>to iranian president rouhani: never, ever threaten the united states again or you will suffer consequences the likes of which few throughout history have ever suffered before. we are no longer a country that will stand for your demented words of violence &amp;amp; death. be cauti...</td>\n",
       "      <td>2018-07-23 03:24:19</td>\n",
       "      <td>2018-07-22 22:24:19-05:00</td>\n",
       "      <td>22.405278</td>\n",
       "      <td>2018.556164</td>\n",
       "      <td>to iranian president rouhani  never  ever threaten the united states again or you will suffer consequences the likes of which few throughout history have ever suffered before  we are no longer a country that will stand for your demented words of violence  amp  death  be cauti...</td>\n",
       "      <td>-10.3</td>\n",
       "    </tr>\n",
       "    <tr>\n",
       "      <th>865865814099939328</th>\n",
       "      <td>97644</td>\n",
       "      <td>Twitter for iPhone</td>\n",
       "      <td>great to be in riyadh, saudi arabia. looking forward to the afternoon and evening ahead. #potusabroad https://t.co/jjora0kfyr</td>\n",
       "      <td>2017-05-20 09:44:31</td>\n",
       "      <td>2017-05-20 04:44:31-05:00</td>\n",
       "      <td>4.741944</td>\n",
       "      <td>2017.380822</td>\n",
       "      <td>great to be in riyadh  saudi arabia  looking forward to the afternoon and evening ahead   potusabroad https   t co jjora0kfyr</td>\n",
       "      <td>3.1</td>\n",
       "    </tr>\n",
       "    <tr>\n",
       "      <th>802499192237080576</th>\n",
       "      <td>97040</td>\n",
       "      <td>Twitter for Android</td>\n",
       "      <td>fidel castro is dead!</td>\n",
       "      <td>2016-11-26 13:08:11</td>\n",
       "      <td>2016-11-26 08:08:11-05:00</td>\n",
       "      <td>8.136389</td>\n",
       "      <td>2016.901639</td>\n",
       "      <td>fidel castro is dead</td>\n",
       "      <td>-3.3</td>\n",
       "    </tr>\n",
       "    <tr>\n",
       "      <th>947802588174577664</th>\n",
       "      <td>95681</td>\n",
       "      <td>Twitter for iPhone</td>\n",
       "      <td>the united states has foolishly given pakistan more than 33 billion dollars in aid over the last 15 years, and they have given us nothing but lies &amp;amp; deceit, thinking of our leaders as fools. they give safe haven to the terrorists we hunt in afghanistan, with little help. ...</td>\n",
       "      <td>2018-01-01 12:12:00</td>\n",
       "      <td>2018-01-01 07:12:00-05:00</td>\n",
       "      <td>7.200000</td>\n",
       "      <td>2018.000000</td>\n",
       "      <td>the united states has foolishly given pakistan more than 33 billion dollars in aid over the last 15 years  and they have given us nothing but lies  amp  deceit  thinking of our leaders as fools  they give safe haven to the terrorists we hunt in afghanistan  with little help  ...</td>\n",
       "      <td>-6.7</td>\n",
       "    </tr>\n",
       "    <tr>\n",
       "      <th>872062159789985792</th>\n",
       "      <td>87167</td>\n",
       "      <td>Twitter for iPhone</td>\n",
       "      <td>during my recent trip to the middle east i stated that there can no longer be funding of radical ideology. leaders pointed to qatar - look!</td>\n",
       "      <td>2017-06-06 12:06:35</td>\n",
       "      <td>2017-06-06 07:06:35-05:00</td>\n",
       "      <td>7.109722</td>\n",
       "      <td>2017.427397</td>\n",
       "      <td>during my recent trip to the middle east i stated that there can no longer be funding of radical ideology  leaders pointed to qatar   look</td>\n",
       "      <td>-1.2</td>\n",
       "    </tr>\n",
       "    <tr>\n",
       "      <th>1045444544068812800</th>\n",
       "      <td>85894</td>\n",
       "      <td>Twitter for iPhone</td>\n",
       "      <td>judge kavanaugh showed america exactly why i nominated him. his testimony was powerful, honest, and riveting. democrats’ search and destroy strategy is disgraceful and this process has been a total sham and effort to delay, obstruct, and resist. the senate must vote!</td>\n",
       "      <td>2018-09-27 22:46:17</td>\n",
       "      <td>2018-09-27 17:46:17-05:00</td>\n",
       "      <td>17.771389</td>\n",
       "      <td>2018.736986</td>\n",
       "      <td>judge kavanaugh showed america exactly why i nominated him  his testimony was powerful  honest  and riveting  democrats  search and destroy strategy is disgraceful and this process has been a total sham and effort to delay  obstruct  and resist  the senate must vote</td>\n",
       "      <td>0.3</td>\n",
       "    </tr>\n",
       "    <tr>\n",
       "      <th>869858333477523458</th>\n",
       "      <td>85198</td>\n",
       "      <td>Twitter for iPhone</td>\n",
       "      <td>who can figure out the true meaning of \"covfefe\" ???  enjoy!</td>\n",
       "      <td>2017-05-31 10:09:22</td>\n",
       "      <td>2017-05-31 05:09:22-05:00</td>\n",
       "      <td>5.156111</td>\n",
       "      <td>2017.410959</td>\n",
       "      <td>who can figure out the true meaning of  covfefe       enjoy</td>\n",
       "      <td>4.0</td>\n",
       "    </tr>\n",
       "    <tr>\n",
       "      <th>728297587418247168</th>\n",
       "      <td>82444</td>\n",
       "      <td>Twitter for iPhone</td>\n",
       "      <td>happy #cincodemayo! the best taco bowls are made in trump tower grill. i love hispanics! https://t.co/ufoteqd8ya https://t.co/k01mc6cudi</td>\n",
       "      <td>2016-05-05 18:57:30</td>\n",
       "      <td>2016-05-05 13:57:30-05:00</td>\n",
       "      <td>13.958333</td>\n",
       "      <td>2016.341530</td>\n",
       "      <td>happy  cincodemayo  the best taco bowls are made in trump tower grill  i love hispanics  https   t co ufoteqd8ya https   t co k01mc6cudi</td>\n",
       "      <td>9.1</td>\n",
       "    </tr>\n",
       "    <tr>\n",
       "      <th>1009982447822532608</th>\n",
       "      <td>82192</td>\n",
       "      <td>Twitter for iPhone</td>\n",
       "      <td>rt @realdonaldtrump: don’t worry, the republicans, and your president, will fix it! https://t.co/xsbupzxbhj</td>\n",
       "      <td>2018-06-22 02:12:34</td>\n",
       "      <td>2018-06-21 21:12:34-05:00</td>\n",
       "      <td>21.209444</td>\n",
       "      <td>2018.471233</td>\n",
       "      <td>rt  realdonaldtrump  don t worry  the republicans  and your president  will fix it  https   t co xsbupzxbhj</td>\n",
       "      <td>-1.9</td>\n",
       "    </tr>\n",
       "    <tr>\n",
       "      <th>1009536237881847808</th>\n",
       "      <td>82191</td>\n",
       "      <td>Twitter for iPhone</td>\n",
       "      <td>don’t worry, the republicans, and your president, will fix it! https://t.co/xsbupzxbhj</td>\n",
       "      <td>2018-06-20 20:39:30</td>\n",
       "      <td>2018-06-20 15:39:30-05:00</td>\n",
       "      <td>15.658333</td>\n",
       "      <td>2018.465753</td>\n",
       "      <td>don t worry  the republicans  and your president  will fix it  https   t co xsbupzxbhj</td>\n",
       "      <td>-1.9</td>\n",
       "    </tr>\n",
       "    <tr>\n",
       "      <th>927673257230327808</th>\n",
       "      <td>81360</td>\n",
       "      <td>Twitter for iPhone</td>\n",
       "      <td>....some of those they are harshly treating have been “milking” their country for years!</td>\n",
       "      <td>2017-11-06 23:05:14</td>\n",
       "      <td>2017-11-06 18:05:14-05:00</td>\n",
       "      <td>18.087222</td>\n",
       "      <td>2017.846575</td>\n",
       "      <td>some of those they are harshly treating have been  milking  their country for years</td>\n",
       "      <td>0.0</td>\n",
       "    </tr>\n",
       "    <tr>\n",
       "      <th>823174199036542980</th>\n",
       "      <td>81291</td>\n",
       "      <td>Twitter for Android</td>\n",
       "      <td>peaceful protests are a hallmark of our democracy. even if i don't always agree, i recognize the rights of people to express their views.</td>\n",
       "      <td>2017-01-22 14:23:17</td>\n",
       "      <td>2017-01-22 09:23:17-05:00</td>\n",
       "      <td>9.388056</td>\n",
       "      <td>2017.057534</td>\n",
       "      <td>peaceful protests are a hallmark of our democracy  even if i don t always agree  i recognize the rights of people to express their views</td>\n",
       "      <td>2.8</td>\n",
       "    </tr>\n",
       "    <tr>\n",
       "      <th>871325606901895168</th>\n",
       "      <td>75993</td>\n",
       "      <td>Twitter for iPhone</td>\n",
       "      <td>we must stop being politically correct and get down to the business of security for our people. if we don't get smart it will only get worse</td>\n",
       "      <td>2017-06-04 11:19:47</td>\n",
       "      <td>2017-06-04 06:19:47-05:00</td>\n",
       "      <td>6.329722</td>\n",
       "      <td>2017.421918</td>\n",
       "      <td>we must stop being politically correct and get down to the business of security for our people  if we don t get smart it will only get worse</td>\n",
       "      <td>-0.2</td>\n",
       "    </tr>\n",
       "    <tr>\n",
       "      <th>927672843504177152</th>\n",
       "      <td>75190</td>\n",
       "      <td>Twitter for iPhone</td>\n",
       "      <td>i have great confidence in king salman and the crown prince of saudi arabia, they know exactly what they are doing....</td>\n",
       "      <td>2017-11-06 23:03:35</td>\n",
       "      <td>2017-11-06 18:03:35-05:00</td>\n",
       "      <td>18.059722</td>\n",
       "      <td>2017.846575</td>\n",
       "      <td>i have great confidence in king salman and the crown prince of saudi arabia  they know exactly what they are doing</td>\n",
       "      <td>5.4</td>\n",
       "    </tr>\n",
       "    <tr>\n",
       "      <th>1054874705491120133</th>\n",
       "      <td>73456</td>\n",
       "      <td>Twitter for iPhone</td>\n",
       "      <td>i agree with president obama 100%! https://t.co/pi3aw1zh5q</td>\n",
       "      <td>2018-10-23 23:18:23</td>\n",
       "      <td>2018-10-23 18:18:23-05:00</td>\n",
       "      <td>18.306389</td>\n",
       "      <td>2018.808219</td>\n",
       "      <td>i agree with president obama 100   https   t co pi3aw1zh5q</td>\n",
       "      <td>1.5</td>\n",
       "    </tr>\n",
       "    <tr>\n",
       "      <th>914810093874671617</th>\n",
       "      <td>73404</td>\n",
       "      <td>Twitter for iPhone</td>\n",
       "      <td>my warmest condolences and sympathies to the victims and families of the terrible las vegas shooting. god bless you!</td>\n",
       "      <td>2017-10-02 11:11:37</td>\n",
       "      <td>2017-10-02 06:11:37-05:00</td>\n",
       "      <td>6.193611</td>\n",
       "      <td>2017.750685</td>\n",
       "      <td>my warmest condolences and sympathies to the victims and families of the terrible las vegas shooting  god bless you</td>\n",
       "      <td>1.2</td>\n",
       "    </tr>\n",
       "    <tr>\n",
       "      <th>803567993036754944</th>\n",
       "      <td>73106</td>\n",
       "      <td>Twitter for Android</td>\n",
       "      <td>nobody should be allowed to burn the american flag - if they do, there must be consequences - perhaps loss of citizenship or year in jail!</td>\n",
       "      <td>2016-11-29 11:55:13</td>\n",
       "      <td>2016-11-29 06:55:13-05:00</td>\n",
       "      <td>6.920278</td>\n",
       "      <td>2016.909836</td>\n",
       "      <td>nobody should be allowed to burn the american flag   if they do  there must be consequences   perhaps loss of citizenship or year in jail</td>\n",
       "      <td>-1.3</td>\n",
       "    </tr>\n",
       "    <tr>\n",
       "      <th>912301271817838593</th>\n",
       "      <td>72813</td>\n",
       "      <td>Twitter for iPhone</td>\n",
       "      <td>#standforouranthem</td>\n",
       "      <td>2017-09-25 13:02:27</td>\n",
       "      <td>2017-09-25 08:02:27-05:00</td>\n",
       "      <td>8.040833</td>\n",
       "      <td>2017.731507</td>\n",
       "      <td>standforouranthem</td>\n",
       "      <td>0.0</td>\n",
       "    </tr>\n",
       "    <tr>\n",
       "      <th>828447350200926212</th>\n",
       "      <td>72750</td>\n",
       "      <td>Twitter for Android</td>\n",
       "      <td>what an amazing comeback and win by the patriots. tom brady, bob kraft and coach b are total winners. wow!</td>\n",
       "      <td>2017-02-06 03:36:54</td>\n",
       "      <td>2017-02-05 22:36:54-05:00</td>\n",
       "      <td>22.615000</td>\n",
       "      <td>2017.098630</td>\n",
       "      <td>what an amazing comeback and win by the patriots  tom brady  bob kraft and coach b are total winners  wow</td>\n",
       "      <td>10.5</td>\n",
       "    </tr>\n",
       "    <tr>\n",
       "      <th>...</th>\n",
       "      <td>...</td>\n",
       "      <td>...</td>\n",
       "      <td>...</td>\n",
       "      <td>...</td>\n",
       "      <td>...</td>\n",
       "      <td>...</td>\n",
       "      <td>...</td>\n",
       "      <td>...</td>\n",
       "      <td>...</td>\n",
       "    </tr>\n",
       "    <tr>\n",
       "      <th>691992417336172544</th>\n",
       "      <td>868</td>\n",
       "      <td>Twitter for Android</td>\n",
       "      <td>\"@xxflame: .@bobvanderplaats idiot bob plaats on cnn is deluded! cruz's favorability ratings are 0%, no one likes him. vote trump instead!\"</td>\n",
       "      <td>2016-01-26 14:33:43</td>\n",
       "      <td>2016-01-26 09:33:43-05:00</td>\n",
       "      <td>9.561944</td>\n",
       "      <td>2016.068306</td>\n",
       "      <td>xxflame    bobvanderplaats idiot bob plaats on cnn is deluded  cruz s favorability ratings are 0   no one likes him  vote trump instead</td>\n",
       "      <td>-1.7</td>\n",
       "    </tr>\n",
       "    <tr>\n",
       "      <th>691745796128165888</th>\n",
       "      <td>862</td>\n",
       "      <td>Twitter for iPhone</td>\n",
       "      <td>leaving now for new hampshire. big crowd- looking forward to it! #fitn</td>\n",
       "      <td>2016-01-25 22:13:44</td>\n",
       "      <td>2016-01-25 17:13:44-05:00</td>\n",
       "      <td>17.228889</td>\n",
       "      <td>2016.065574</td>\n",
       "      <td>leaving now for new hampshire  big crowd  looking forward to it   fitn</td>\n",
       "      <td>0.0</td>\n",
       "    </tr>\n",
       "    <tr>\n",
       "      <th>691260700056903681</th>\n",
       "      <td>837</td>\n",
       "      <td>Twitter for Android</td>\n",
       "      <td>i will be on @meetthepress this morning at various times across the u.s. @nbcnews  enjoy!</td>\n",
       "      <td>2016-01-24 14:06:08</td>\n",
       "      <td>2016-01-24 09:06:08-05:00</td>\n",
       "      <td>9.102222</td>\n",
       "      <td>2016.062842</td>\n",
       "      <td>i will be on  meetthepress this morning at various times across the u s   nbcnews  enjoy</td>\n",
       "      <td>2.2</td>\n",
       "    </tr>\n",
       "    <tr>\n",
       "      <th>691180597268520961</th>\n",
       "      <td>837</td>\n",
       "      <td>Twitter for Android</td>\n",
       "      <td>\"@snoozinglion1: full speech: donald trump campaign rally in pella ia (1-23-16) https://t.co/duwqyp00kn via @youtube one of his best ever\"</td>\n",
       "      <td>2016-01-24 08:47:50</td>\n",
       "      <td>2016-01-24 03:47:50-05:00</td>\n",
       "      <td>3.797222</td>\n",
       "      <td>2016.062842</td>\n",
       "      <td>snoozinglion1  full speech  donald trump campaign rally in pella ia  1 23 16  https   t co duwqyp00kn via  youtube one of his best ever</td>\n",
       "      <td>3.2</td>\n",
       "    </tr>\n",
       "    <tr>\n",
       "      <th>691992813177847808</th>\n",
       "      <td>831</td>\n",
       "      <td>Twitter for Android</td>\n",
       "      <td>\"@puttster71: @bobvanderplaats the next president isn't on ur stage. @realdonaldtrump is the next president.\"</td>\n",
       "      <td>2016-01-26 14:35:17</td>\n",
       "      <td>2016-01-26 09:35:17-05:00</td>\n",
       "      <td>9.588056</td>\n",
       "      <td>2016.068306</td>\n",
       "      <td>puttster71   bobvanderplaats the next president isn t on ur stage   realdonaldtrump is the next president</td>\n",
       "      <td>0.0</td>\n",
       "    </tr>\n",
       "    <tr>\n",
       "      <th>692673284563935232</th>\n",
       "      <td>826</td>\n",
       "      <td>Twitter for Android</td>\n",
       "      <td>\"@haloonefortrump: @foxnews takes #yuge hit on advertising revenues by screwing with @realdonaldtrump rofl! https://t.co/ndyhniudks\"</td>\n",
       "      <td>2016-01-28 11:39:14</td>\n",
       "      <td>2016-01-28 06:39:14-05:00</td>\n",
       "      <td>6.653889</td>\n",
       "      <td>2016.073770</td>\n",
       "      <td>haloonefortrump   foxnews takes  yuge hit on advertising revenues by screwing with  realdonaldtrump rofl  https   t co ndyhniudks</td>\n",
       "      <td>1.8</td>\n",
       "    </tr>\n",
       "    <tr>\n",
       "      <th>702311980732813314</th>\n",
       "      <td>799</td>\n",
       "      <td>Twitter for iPhone</td>\n",
       "      <td>rt @trumpnv: #nvcaucus locator -&amp;gt; https://t.co/wizgqcbvob</td>\n",
       "      <td>2016-02-24 01:59:59</td>\n",
       "      <td>2016-02-23 20:59:59-05:00</td>\n",
       "      <td>20.999722</td>\n",
       "      <td>2016.147541</td>\n",
       "      <td>rt  trumpnv   nvcaucus locator   gt  https   t co wizgqcbvob</td>\n",
       "      <td>1.1</td>\n",
       "    </tr>\n",
       "    <tr>\n",
       "      <th>690534576066719744</th>\n",
       "      <td>799</td>\n",
       "      <td>Twitter for Android</td>\n",
       "      <td>\"@cyberciety: #marybrigidmcmanamon clarified how #commonlaw is used to interpret meaning of #naturalborn #tedcruz https://t.co/5y6szrtdgr\"</td>\n",
       "      <td>2016-01-22 14:00:47</td>\n",
       "      <td>2016-01-22 09:00:47-05:00</td>\n",
       "      <td>9.013056</td>\n",
       "      <td>2016.057377</td>\n",
       "      <td>cyberciety   marybrigidmcmanamon clarified how  commonlaw is used to interpret meaning of  naturalborn  tedcruz https   t co 5y6szrtdgr</td>\n",
       "      <td>0.0</td>\n",
       "    </tr>\n",
       "    <tr>\n",
       "      <th>691770256268922880</th>\n",
       "      <td>795</td>\n",
       "      <td>Twitter for iPhone</td>\n",
       "      <td>just landed in new hampshire. will be at the venue shortly. #fitn</td>\n",
       "      <td>2016-01-25 23:50:56</td>\n",
       "      <td>2016-01-25 18:50:56-05:00</td>\n",
       "      <td>18.848889</td>\n",
       "      <td>2016.065574</td>\n",
       "      <td>just landed in new hampshire  will be at the venue shortly   fitn</td>\n",
       "      <td>0.0</td>\n",
       "    </tr>\n",
       "    <tr>\n",
       "      <th>691942336746635264</th>\n",
       "      <td>792</td>\n",
       "      <td>Twitter for Android</td>\n",
       "      <td>\"@laurencristmann:  @sharp_trident @megynkelly it makes me not wanna watch debate because i know they are going to treat trump unfair\"</td>\n",
       "      <td>2016-01-26 11:14:43</td>\n",
       "      <td>2016-01-26 06:14:43-05:00</td>\n",
       "      <td>6.245278</td>\n",
       "      <td>2016.068306</td>\n",
       "      <td>laurencristmann    sharp_trident  megynkelly it makes me not wanna watch debate because i know they are going to treat trump unfair</td>\n",
       "      <td>-0.4</td>\n",
       "    </tr>\n",
       "    <tr>\n",
       "      <th>697050425195941888</th>\n",
       "      <td>791</td>\n",
       "      <td>Twitter for Android</td>\n",
       "      <td>i will be interviewed on @foxandfriends at 8:40. a.m. enjoy!</td>\n",
       "      <td>2016-02-09 13:32:26</td>\n",
       "      <td>2016-02-09 08:32:26-05:00</td>\n",
       "      <td>8.540556</td>\n",
       "      <td>2016.106557</td>\n",
       "      <td>i will be interviewed on  foxandfriends at 8 40  a m  enjoy</td>\n",
       "      <td>2.2</td>\n",
       "    </tr>\n",
       "    <tr>\n",
       "      <th>690529122326413314</th>\n",
       "      <td>773</td>\n",
       "      <td>Twitter for Android</td>\n",
       "      <td>\"@neilturner_: @realdonaldtrump https://t.co/uvn95nb6m0 with your help we can #makeamericagreatagain! #votetrump\"</td>\n",
       "      <td>2016-01-22 13:39:06</td>\n",
       "      <td>2016-01-22 08:39:06-05:00</td>\n",
       "      <td>8.651667</td>\n",
       "      <td>2016.057377</td>\n",
       "      <td>neilturner_   realdonaldtrump https   t co uvn95nb6m0 with your help we can  makeamericagreatagain   votetrump</td>\n",
       "      <td>1.7</td>\n",
       "    </tr>\n",
       "    <tr>\n",
       "      <th>696328503428575232</th>\n",
       "      <td>762</td>\n",
       "      <td>Twitter for iPhone</td>\n",
       "      <td>i am on @foxandfriends now! tune in!</td>\n",
       "      <td>2016-02-07 13:43:47</td>\n",
       "      <td>2016-02-07 08:43:47-05:00</td>\n",
       "      <td>8.729722</td>\n",
       "      <td>2016.101093</td>\n",
       "      <td>i am on  foxandfriends now  tune in</td>\n",
       "      <td>0.0</td>\n",
       "    </tr>\n",
       "    <tr>\n",
       "      <th>691472343449870336</th>\n",
       "      <td>755</td>\n",
       "      <td>Twitter for Android</td>\n",
       "      <td>\"@red77angelluis: @realdonaldtrump @neilturner_ @youtube let's get trump!! go trump!! usa!usa!\"</td>\n",
       "      <td>2016-01-25 04:07:08</td>\n",
       "      <td>2016-01-24 23:07:08-05:00</td>\n",
       "      <td>23.118889</td>\n",
       "      <td>2016.065574</td>\n",
       "      <td>red77angelluis   realdonaldtrump  neilturner_  youtube let s get trump   go trump   usa usa</td>\n",
       "      <td>0.0</td>\n",
       "    </tr>\n",
       "    <tr>\n",
       "      <th>690529690205818880</th>\n",
       "      <td>753</td>\n",
       "      <td>Twitter for Android</td>\n",
       "      <td>#tedcruz eligibility to be president not settled law, says cruz' constitutional law professor, #laurencetribe https://t.co/gwkojsbinz\"</td>\n",
       "      <td>2016-01-22 13:41:22</td>\n",
       "      <td>2016-01-22 08:41:22-05:00</td>\n",
       "      <td>8.689444</td>\n",
       "      <td>2016.057377</td>\n",
       "      <td>tedcruz eligibility to be president not settled law  says cruz  constitutional law professor   laurencetribe https   t co gwkojsbinz</td>\n",
       "      <td>0.0</td>\n",
       "    </tr>\n",
       "    <tr>\n",
       "      <th>691992472889724929</th>\n",
       "      <td>753</td>\n",
       "      <td>Twitter for Android</td>\n",
       "      <td>\"@aynsfriend: @bobvanderplaats cruz is done @cnn @chriscuomo\"</td>\n",
       "      <td>2016-01-26 14:33:56</td>\n",
       "      <td>2016-01-26 09:33:56-05:00</td>\n",
       "      <td>9.565556</td>\n",
       "      <td>2016.068306</td>\n",
       "      <td>aynsfriend   bobvanderplaats cruz is done  cnn  chriscuomo</td>\n",
       "      <td>0.0</td>\n",
       "    </tr>\n",
       "    <tr>\n",
       "      <th>691686187795378176</th>\n",
       "      <td>740</td>\n",
       "      <td>Twitter Web Client</td>\n",
       "      <td>rt @geraldorivera: #newyork tromps #jonas. day after storm of the century the big city is up and running unlike others in the northeast. mu…</td>\n",
       "      <td>2016-01-25 18:16:52</td>\n",
       "      <td>2016-01-25 13:16:52-05:00</td>\n",
       "      <td>13.281111</td>\n",
       "      <td>2016.065574</td>\n",
       "      <td>rt  geraldorivera   newyork tromps  jonas  day after storm of the century the big city is up and running unlike others in the northeast  mu</td>\n",
       "      <td>0.0</td>\n",
       "    </tr>\n",
       "    <tr>\n",
       "      <th>691383618137001984</th>\n",
       "      <td>739</td>\n",
       "      <td>Twitter for Android</td>\n",
       "      <td>\"@maryann1942: @realdonaldtrump @cbsnews ... you are like superman, everywhere! but i'm keeping up.  great!</td>\n",
       "      <td>2016-01-24 22:14:34</td>\n",
       "      <td>2016-01-24 17:14:34-05:00</td>\n",
       "      <td>17.242778</td>\n",
       "      <td>2016.062842</td>\n",
       "      <td>maryann1942   realdonaldtrump  cbsnews     you are like superman  everywhere  but i m keeping up   great</td>\n",
       "      <td>4.6</td>\n",
       "    </tr>\n",
       "    <tr>\n",
       "      <th>691838442536333313</th>\n",
       "      <td>726</td>\n",
       "      <td>Twitter for Android</td>\n",
       "      <td>\"@kurtschlichter: my pal @davidwohl was just on megan kelly's show! he digs trump.  thank you david, you were great!</td>\n",
       "      <td>2016-01-26 04:21:53</td>\n",
       "      <td>2016-01-25 23:21:53-05:00</td>\n",
       "      <td>23.364722</td>\n",
       "      <td>2016.068306</td>\n",
       "      <td>kurtschlichter  my pal  davidwohl was just on megan kelly s show  he digs trump   thank you david  you were great</td>\n",
       "      <td>4.6</td>\n",
       "    </tr>\n",
       "    <tr>\n",
       "      <th>691836764185608193</th>\n",
       "      <td>702</td>\n",
       "      <td>Twitter for Android</td>\n",
       "      <td>\"@jdenino1: @davidwohl  @realdonaldtrump https://t.co/rqmssbfb0j   beck wanted to commit suicide after @ss surgery, clearly is unbalanced!\"</td>\n",
       "      <td>2016-01-26 04:15:12</td>\n",
       "      <td>2016-01-25 23:15:12-05:00</td>\n",
       "      <td>23.253333</td>\n",
       "      <td>2016.068306</td>\n",
       "      <td>jdenino1   davidwohl   realdonaldtrump https   t co rqmssbfb0j   beck wanted to commit suicide after  ss surgery  clearly is unbalanced</td>\n",
       "      <td>-0.6</td>\n",
       "    </tr>\n",
       "    <tr>\n",
       "      <th>691471643982614528</th>\n",
       "      <td>700</td>\n",
       "      <td>Twitter for Android</td>\n",
       "      <td>\"@knight276:  @c4constitution trump right again #with_cruz_you_lose! nobody supports canuck cruz #makeamericagreatagain  #trump2016</td>\n",
       "      <td>2016-01-25 04:04:21</td>\n",
       "      <td>2016-01-24 23:04:21-05:00</td>\n",
       "      <td>23.072500</td>\n",
       "      <td>2016.065574</td>\n",
       "      <td>knight276    c4constitution trump right again  with_cruz_you_lose  nobody supports canuck cruz  makeamericagreatagain   trump2016</td>\n",
       "      <td>1.5</td>\n",
       "    </tr>\n",
       "    <tr>\n",
       "      <th>696281532974157824</th>\n",
       "      <td>699</td>\n",
       "      <td>Twitter for Android</td>\n",
       "      <td>\"@joenbc: trump, kasich, jeb and christie all had good nights.\"</td>\n",
       "      <td>2016-02-07 10:37:08</td>\n",
       "      <td>2016-02-07 05:37:08-05:00</td>\n",
       "      <td>5.618889</td>\n",
       "      <td>2016.101093</td>\n",
       "      <td>joenbc  trump  kasich  jeb and christie all had good nights</td>\n",
       "      <td>1.9</td>\n",
       "    </tr>\n",
       "    <tr>\n",
       "      <th>691934371654270976</th>\n",
       "      <td>696</td>\n",
       "      <td>Twitter for Android</td>\n",
       "      <td>i will be doing @gma @gstephanopoulos this morning at around 7:00. likewise, i will be doing @morning_joe at around 7:00. figure it out!</td>\n",
       "      <td>2016-01-26 10:43:04</td>\n",
       "      <td>2016-01-26 05:43:04-05:00</td>\n",
       "      <td>5.717778</td>\n",
       "      <td>2016.068306</td>\n",
       "      <td>i will be doing  gma  gstephanopoulos this morning at around 7 00  likewise  i will be doing  morning_joe at around 7 00  figure it out</td>\n",
       "      <td>0.0</td>\n",
       "    </tr>\n",
       "    <tr>\n",
       "      <th>690528526181601281</th>\n",
       "      <td>676</td>\n",
       "      <td>Twitter for Android</td>\n",
       "      <td>\"@borntobegop: @realdonaldtrump no sleep for the #trumptrain!\"</td>\n",
       "      <td>2016-01-22 13:36:44</td>\n",
       "      <td>2016-01-22 08:36:44-05:00</td>\n",
       "      <td>8.612222</td>\n",
       "      <td>2016.057377</td>\n",
       "      <td>borntobegop   realdonaldtrump no sleep for the  trumptrain</td>\n",
       "      <td>-1.2</td>\n",
       "    </tr>\n",
       "    <tr>\n",
       "      <th>691943033663782912</th>\n",
       "      <td>669</td>\n",
       "      <td>Twitter for Android</td>\n",
       "      <td>i will be interviewed by @mariabartiromo on @morningsmaria  @foxbusiness at 7:30 a.m. enjoy.</td>\n",
       "      <td>2016-01-26 11:17:29</td>\n",
       "      <td>2016-01-26 06:17:29-05:00</td>\n",
       "      <td>6.291389</td>\n",
       "      <td>2016.068306</td>\n",
       "      <td>i will be interviewed by  mariabartiromo on  morningsmaria   foxbusiness at 7 30 a m  enjoy</td>\n",
       "      <td>2.2</td>\n",
       "    </tr>\n",
       "    <tr>\n",
       "      <th>691848058234146816</th>\n",
       "      <td>668</td>\n",
       "      <td>Twitter for Android</td>\n",
       "      <td>\"@whitejacketpink: @mypresidentme @realdonaldtrump just google glenn beck bio. u can tell no education, very poorly written.</td>\n",
       "      <td>2016-01-26 05:00:05</td>\n",
       "      <td>2016-01-26 00:00:05-05:00</td>\n",
       "      <td>0.001389</td>\n",
       "      <td>2016.068306</td>\n",
       "      <td>whitejacketpink   mypresidentme  realdonaldtrump just google glenn beck bio  u can tell no education  very poorly written</td>\n",
       "      <td>-1.2</td>\n",
       "    </tr>\n",
       "    <tr>\n",
       "      <th>691770208927752193</th>\n",
       "      <td>645</td>\n",
       "      <td>Twitter for iPhone</td>\n",
       "      <td>\"@realdonaldtrump &amp;amp; @hillaryclinton leading polls w/ one week until #iowacaucus ...more on the 2016 elections tonight on @foxbusiness 7pm\"</td>\n",
       "      <td>2016-01-25 23:50:44</td>\n",
       "      <td>2016-01-25 18:50:44-05:00</td>\n",
       "      <td>18.845556</td>\n",
       "      <td>2016.065574</td>\n",
       "      <td>realdonaldtrump  amp   hillaryclinton leading polls w  one week until  iowacaucus    more on the 2016 elections tonight on  foxbusiness 7pm</td>\n",
       "      <td>0.0</td>\n",
       "    </tr>\n",
       "    <tr>\n",
       "      <th>691739243702554626</th>\n",
       "      <td>645</td>\n",
       "      <td>Twitter for iPhone</td>\n",
       "      <td>i will be on @cnnsitroom with @wolfblitzer from 5-7pm est. on @cnn.</td>\n",
       "      <td>2016-01-25 21:47:42</td>\n",
       "      <td>2016-01-25 16:47:42-05:00</td>\n",
       "      <td>16.795000</td>\n",
       "      <td>2016.065574</td>\n",
       "      <td>i will be on  cnnsitroom with  wolfblitzer from 5 7pm est  on  cnn</td>\n",
       "      <td>0.0</td>\n",
       "    </tr>\n",
       "    <tr>\n",
       "      <th>690530164711624705</th>\n",
       "      <td>637</td>\n",
       "      <td>Twitter for Android</td>\n",
       "      <td>\"@trublumajority: #laurencetribe calls cruz \"constitutional hypocrite\" on @wbur https://t.co/qrfintcjlx @pbsgwen @charlierose @jaketapper</td>\n",
       "      <td>2016-01-22 13:43:15</td>\n",
       "      <td>2016-01-22 08:43:15-05:00</td>\n",
       "      <td>8.720833</td>\n",
       "      <td>2016.057377</td>\n",
       "      <td>trublumajority   laurencetribe calls cruz  constitutional hypocrite  on  wbur https   t co qrfintcjlx  pbsgwen  charlierose  jaketapper</td>\n",
       "      <td>0.0</td>\n",
       "    </tr>\n",
       "    <tr>\n",
       "      <th>691847785222660096</th>\n",
       "      <td>597</td>\n",
       "      <td>Twitter for Android</td>\n",
       "      <td>\"@dittopost: @realdonaldtrump @crusade4honesty @borntobegop @megynkelly i believe in trump!!!\"</td>\n",
       "      <td>2016-01-26 04:59:00</td>\n",
       "      <td>2016-01-25 23:59:00-05:00</td>\n",
       "      <td>23.983333</td>\n",
       "      <td>2016.068306</td>\n",
       "      <td>dittopost   realdonaldtrump  crusade4honesty  borntobegop  megynkelly i believe in trump</td>\n",
       "      <td>0.0</td>\n",
       "    </tr>\n",
       "  </tbody>\n",
       "</table>\n",
       "<p>9185 rows × 9 columns</p>\n",
       "</div>"
      ],
      "text/plain": [
       "                     retweet_count               source  \\\n",
       "881503147168071680          370272   Twitter for iPhone   \n",
       "795954831718498305          337819  Twitter for Android   \n",
       "929511061954297857          253531   Twitter Web Client   \n",
       "796315640307060738          215794  Twitter for Android   \n",
       "948355557022420992          179666   Twitter for iPhone   \n",
       "741007091947556864          166748   Twitter for iPhone   \n",
       "815185071317676033          137964  Twitter for Android   \n",
       "755788382618390529          115589   Twitter Web Client   \n",
       "1016079192604139520         111387         Media Studio   \n",
       "1016647764434931713         111387   Twitter for iPhone   \n",
       "989225812166696960          104060   Twitter for iPhone   \n",
       "1021234525626609666         103748   Twitter for iPhone   \n",
       "865865814099939328           97644   Twitter for iPhone   \n",
       "802499192237080576           97040  Twitter for Android   \n",
       "947802588174577664           95681   Twitter for iPhone   \n",
       "872062159789985792           87167   Twitter for iPhone   \n",
       "1045444544068812800          85894   Twitter for iPhone   \n",
       "869858333477523458           85198   Twitter for iPhone   \n",
       "728297587418247168           82444   Twitter for iPhone   \n",
       "1009982447822532608          82192   Twitter for iPhone   \n",
       "1009536237881847808          82191   Twitter for iPhone   \n",
       "927673257230327808           81360   Twitter for iPhone   \n",
       "823174199036542980           81291  Twitter for Android   \n",
       "871325606901895168           75993   Twitter for iPhone   \n",
       "927672843504177152           75190   Twitter for iPhone   \n",
       "1054874705491120133          73456   Twitter for iPhone   \n",
       "914810093874671617           73404   Twitter for iPhone   \n",
       "803567993036754944           73106  Twitter for Android   \n",
       "912301271817838593           72813   Twitter for iPhone   \n",
       "828447350200926212           72750  Twitter for Android   \n",
       "...                            ...                  ...   \n",
       "691992417336172544             868  Twitter for Android   \n",
       "691745796128165888             862   Twitter for iPhone   \n",
       "691260700056903681             837  Twitter for Android   \n",
       "691180597268520961             837  Twitter for Android   \n",
       "691992813177847808             831  Twitter for Android   \n",
       "692673284563935232             826  Twitter for Android   \n",
       "702311980732813314             799   Twitter for iPhone   \n",
       "690534576066719744             799  Twitter for Android   \n",
       "691770256268922880             795   Twitter for iPhone   \n",
       "691942336746635264             792  Twitter for Android   \n",
       "697050425195941888             791  Twitter for Android   \n",
       "690529122326413314             773  Twitter for Android   \n",
       "696328503428575232             762   Twitter for iPhone   \n",
       "691472343449870336             755  Twitter for Android   \n",
       "690529690205818880             753  Twitter for Android   \n",
       "691992472889724929             753  Twitter for Android   \n",
       "691686187795378176             740   Twitter Web Client   \n",
       "691383618137001984             739  Twitter for Android   \n",
       "691838442536333313             726  Twitter for Android   \n",
       "691836764185608193             702  Twitter for Android   \n",
       "691471643982614528             700  Twitter for Android   \n",
       "696281532974157824             699  Twitter for Android   \n",
       "691934371654270976             696  Twitter for Android   \n",
       "690528526181601281             676  Twitter for Android   \n",
       "691943033663782912             669  Twitter for Android   \n",
       "691848058234146816             668  Twitter for Android   \n",
       "691770208927752193             645   Twitter for iPhone   \n",
       "691739243702554626             645   Twitter for iPhone   \n",
       "690530164711624705             637  Twitter for Android   \n",
       "691847785222660096             597  Twitter for Android   \n",
       "\n",
       "                                                                                                                                                                                                                                                                                                        text  \\\n",
       "881503147168071680                                                                                                                                                                                                                                                #fraudnewscnn #fnn https://t.co/wyunhjjujg   \n",
       "795954831718498305                                                                                                                                                                                                                                                        today we make america great again!   \n",
       "929511061954297857                                                                                                           why would kim jong-un insult me by calling me \"old,\" when i would never call him \"short and fat?\" oh well, i try so hard to be his friend - and maybe someday that will happen!   \n",
       "796315640307060738                                                                                                                                              such a beautiful and important evening! the forgotten man and woman will never be forgotten again. we will all come together as never before   \n",
       "948355557022420992   north korean leader kim jong un just stated that the “nuclear button is on his desk at all times.” will someone from his depleted and food starved regime please inform him that i too have a nuclear button, but it is a much bigger &amp; more powerful one than his, and my butto...   \n",
       "741007091947556864                                                                                                                                                how long did it take your staff of 823 people to think that up--and where are your 33,000 emails that you deleted? https://t.co/geclntqizq   \n",
       "815185071317676033                                                                                                                                                 happy new year to all, including to my many enemies and those who have fought me and lost so badly they just don't know what to do. love!   \n",
       "755788382618390529                                                                                                                                                                     the media is spending more time doing a forensic analysis of melania's speech than the fbi spent on hillary's emails.   \n",
       "1016079192604139520                                                                                                                                                                                                                        they just didn't get it, but they do now! https://t.co/9t50nupkdy   \n",
       "1016647764434931713                                                                                                                                                                                                   rt @realdonaldtrump: they just didn't get it, but they do now! https://t.co/9t50nupkdy   \n",
       "989225812166696960                                                                                                                                                                                                                                       thank you kanye, very cool! https://t.co/vric87m21x   \n",
       "1021234525626609666  to iranian president rouhani: never, ever threaten the united states again or you will suffer consequences the likes of which few throughout history have ever suffered before. we are no longer a country that will stand for your demented words of violence &amp; death. be cauti...   \n",
       "865865814099939328                                                                                                                                                             great to be in riyadh, saudi arabia. looking forward to the afternoon and evening ahead. #potusabroad https://t.co/jjora0kfyr   \n",
       "802499192237080576                                                                                                                                                                                                                                                                     fidel castro is dead!   \n",
       "947802588174577664   the united states has foolishly given pakistan more than 33 billion dollars in aid over the last 15 years, and they have given us nothing but lies &amp; deceit, thinking of our leaders as fools. they give safe haven to the terrorists we hunt in afghanistan, with little help. ...   \n",
       "872062159789985792                                                                                                                                               during my recent trip to the middle east i stated that there can no longer be funding of radical ideology. leaders pointed to qatar - look!   \n",
       "1045444544068812800              judge kavanaugh showed america exactly why i nominated him. his testimony was powerful, honest, and riveting. democrats’ search and destroy strategy is disgraceful and this process has been a total sham and effort to delay, obstruct, and resist. the senate must vote!   \n",
       "869858333477523458                                                                                                                                                                                                                              who can figure out the true meaning of \"covfefe\" ???  enjoy!   \n",
       "728297587418247168                                                                                                                                                  happy #cincodemayo! the best taco bowls are made in trump tower grill. i love hispanics! https://t.co/ufoteqd8ya https://t.co/k01mc6cudi   \n",
       "1009982447822532608                                                                                                                                                                              rt @realdonaldtrump: don’t worry, the republicans, and your president, will fix it! https://t.co/xsbupzxbhj   \n",
       "1009536237881847808                                                                                                                                                                                                   don’t worry, the republicans, and your president, will fix it! https://t.co/xsbupzxbhj   \n",
       "927673257230327808                                                                                                                                                                                                  ....some of those they are harshly treating have been “milking” their country for years!   \n",
       "823174199036542980                                                                                                                                                 peaceful protests are a hallmark of our democracy. even if i don't always agree, i recognize the rights of people to express their views.   \n",
       "871325606901895168                                                                                                                                              we must stop being politically correct and get down to the business of security for our people. if we don't get smart it will only get worse   \n",
       "927672843504177152                                                                                                                                                                    i have great confidence in king salman and the crown prince of saudi arabia, they know exactly what they are doing....   \n",
       "1054874705491120133                                                                                                                                                                                                                               i agree with president obama 100%! https://t.co/pi3aw1zh5q   \n",
       "914810093874671617                                                                                                                                                                      my warmest condolences and sympathies to the victims and families of the terrible las vegas shooting. god bless you!   \n",
       "803567993036754944                                                                                                                                                nobody should be allowed to burn the american flag - if they do, there must be consequences - perhaps loss of citizenship or year in jail!   \n",
       "912301271817838593                                                                                                                                                                                                                                                                        #standforouranthem   \n",
       "828447350200926212                                                                                                                                                                                what an amazing comeback and win by the patriots. tom brady, bob kraft and coach b are total winners. wow!   \n",
       "...                                                                                                                                                                                                                                                                                                      ...   \n",
       "691992417336172544                                                                                                                                               \"@xxflame: .@bobvanderplaats idiot bob plaats on cnn is deluded! cruz's favorability ratings are 0%, no one likes him. vote trump instead!\"   \n",
       "691745796128165888                                                                                                                                                                                                                    leaving now for new hampshire. big crowd- looking forward to it! #fitn   \n",
       "691260700056903681                                                                                                                                                                                                 i will be on @meetthepress this morning at various times across the u.s. @nbcnews  enjoy!   \n",
       "691180597268520961                                                                                                                                                \"@snoozinglion1: full speech: donald trump campaign rally in pella ia (1-23-16) https://t.co/duwqyp00kn via @youtube one of his best ever\"   \n",
       "691992813177847808                                                                                                                                                                             \"@puttster71: @bobvanderplaats the next president isn't on ur stage. @realdonaldtrump is the next president.\"   \n",
       "692673284563935232                                                                                                                                                      \"@haloonefortrump: @foxnews takes #yuge hit on advertising revenues by screwing with @realdonaldtrump rofl! https://t.co/ndyhniudks\"   \n",
       "702311980732813314                                                                                                                                                                                                                              rt @trumpnv: #nvcaucus locator -&gt; https://t.co/wizgqcbvob   \n",
       "690534576066719744                                                                                                                                                \"@cyberciety: #marybrigidmcmanamon clarified how #commonlaw is used to interpret meaning of #naturalborn #tedcruz https://t.co/5y6szrtdgr\"   \n",
       "691770256268922880                                                                                                                                                                                                                         just landed in new hampshire. will be at the venue shortly. #fitn   \n",
       "691942336746635264                                                                                                                                                    \"@laurencristmann:  @sharp_trident @megynkelly it makes me not wanna watch debate because i know they are going to treat trump unfair\"   \n",
       "697050425195941888                                                                                                                                                                                                                              i will be interviewed on @foxandfriends at 8:40. a.m. enjoy!   \n",
       "690529122326413314                                                                                                                                                                         \"@neilturner_: @realdonaldtrump https://t.co/uvn95nb6m0 with your help we can #makeamericagreatagain! #votetrump\"   \n",
       "696328503428575232                                                                                                                                                                                                                                                      i am on @foxandfriends now! tune in!   \n",
       "691472343449870336                                                                                                                                                                                           \"@red77angelluis: @realdonaldtrump @neilturner_ @youtube let's get trump!! go trump!! usa!usa!\"   \n",
       "690529690205818880                                                                                                                                                    #tedcruz eligibility to be president not settled law, says cruz' constitutional law professor, #laurencetribe https://t.co/gwkojsbinz\"   \n",
       "691992472889724929                                                                                                                                                                                                                             \"@aynsfriend: @bobvanderplaats cruz is done @cnn @chriscuomo\"   \n",
       "691686187795378176                                                                                                                                              rt @geraldorivera: #newyork tromps #jonas. day after storm of the century the big city is up and running unlike others in the northeast. mu…   \n",
       "691383618137001984                                                                                                                                                                               \"@maryann1942: @realdonaldtrump @cbsnews ... you are like superman, everywhere! but i'm keeping up.  great!   \n",
       "691838442536333313                                                                                                                                                                      \"@kurtschlichter: my pal @davidwohl was just on megan kelly's show! he digs trump.  thank you david, you were great!   \n",
       "691836764185608193                                                                                                                                               \"@jdenino1: @davidwohl  @realdonaldtrump https://t.co/rqmssbfb0j   beck wanted to commit suicide after @ss surgery, clearly is unbalanced!\"   \n",
       "691471643982614528                                                                                                                                                       \"@knight276:  @c4constitution trump right again #with_cruz_you_lose! nobody supports canuck cruz #makeamericagreatagain  #trump2016   \n",
       "696281532974157824                                                                                                                                                                                                                           \"@joenbc: trump, kasich, jeb and christie all had good nights.\"   \n",
       "691934371654270976                                                                                                                                                  i will be doing @gma @gstephanopoulos this morning at around 7:00. likewise, i will be doing @morning_joe at around 7:00. figure it out!   \n",
       "690528526181601281                                                                                                                                                                                                                            \"@borntobegop: @realdonaldtrump no sleep for the #trumptrain!\"   \n",
       "691943033663782912                                                                                                                                                                                              i will be interviewed by @mariabartiromo on @morningsmaria  @foxbusiness at 7:30 a.m. enjoy.   \n",
       "691848058234146816                                                                                                                                                              \"@whitejacketpink: @mypresidentme @realdonaldtrump just google glenn beck bio. u can tell no education, very poorly written.   \n",
       "691770208927752193                                                                                                                                            \"@realdonaldtrump &amp; @hillaryclinton leading polls w/ one week until #iowacaucus ...more on the 2016 elections tonight on @foxbusiness 7pm\"   \n",
       "691739243702554626                                                                                                                                                                                                                       i will be on @cnnsitroom with @wolfblitzer from 5-7pm est. on @cnn.   \n",
       "690530164711624705                                                                                                                                                 \"@trublumajority: #laurencetribe calls cruz \"constitutional hypocrite\" on @wbur https://t.co/qrfintcjlx @pbsgwen @charlierose @jaketapper   \n",
       "691847785222660096                                                                                                                                                                                            \"@dittopost: @realdonaldtrump @crusade4honesty @borntobegop @megynkelly i believe in trump!!!\"   \n",
       "\n",
       "                                   time                  est_time       hour  \\\n",
       "881503147168071680  2017-07-02 13:21:42 2017-07-02 08:21:42-05:00   8.361667   \n",
       "795954831718498305  2016-11-08 11:43:14 2016-11-08 06:43:14-05:00   6.720556   \n",
       "929511061954297857  2017-11-12 00:48:01 2017-11-11 19:48:01-05:00  19.800278   \n",
       "796315640307060738  2016-11-09 11:36:58 2016-11-09 06:36:58-05:00   6.616111   \n",
       "948355557022420992  2018-01-03 00:49:19 2018-01-02 19:49:19-05:00  19.821944   \n",
       "741007091947556864  2016-06-09 20:40:32 2016-06-09 15:40:32-05:00  15.675556   \n",
       "815185071317676033  2016-12-31 13:17:21 2016-12-31 08:17:21-05:00   8.289167   \n",
       "755788382618390529  2016-07-20 15:36:06 2016-07-20 10:36:06-05:00  10.601667   \n",
       "1016079192604139520 2018-07-08 21:58:52 2018-07-08 16:58:52-05:00  16.981111   \n",
       "1016647764434931713 2018-07-10 11:38:10 2018-07-10 06:38:10-05:00   6.636111   \n",
       "989225812166696960  2018-04-25 19:33:07 2018-04-25 14:33:07-05:00  14.551944   \n",
       "1021234525626609666 2018-07-23 03:24:19 2018-07-22 22:24:19-05:00  22.405278   \n",
       "865865814099939328  2017-05-20 09:44:31 2017-05-20 04:44:31-05:00   4.741944   \n",
       "802499192237080576  2016-11-26 13:08:11 2016-11-26 08:08:11-05:00   8.136389   \n",
       "947802588174577664  2018-01-01 12:12:00 2018-01-01 07:12:00-05:00   7.200000   \n",
       "872062159789985792  2017-06-06 12:06:35 2017-06-06 07:06:35-05:00   7.109722   \n",
       "1045444544068812800 2018-09-27 22:46:17 2018-09-27 17:46:17-05:00  17.771389   \n",
       "869858333477523458  2017-05-31 10:09:22 2017-05-31 05:09:22-05:00   5.156111   \n",
       "728297587418247168  2016-05-05 18:57:30 2016-05-05 13:57:30-05:00  13.958333   \n",
       "1009982447822532608 2018-06-22 02:12:34 2018-06-21 21:12:34-05:00  21.209444   \n",
       "1009536237881847808 2018-06-20 20:39:30 2018-06-20 15:39:30-05:00  15.658333   \n",
       "927673257230327808  2017-11-06 23:05:14 2017-11-06 18:05:14-05:00  18.087222   \n",
       "823174199036542980  2017-01-22 14:23:17 2017-01-22 09:23:17-05:00   9.388056   \n",
       "871325606901895168  2017-06-04 11:19:47 2017-06-04 06:19:47-05:00   6.329722   \n",
       "927672843504177152  2017-11-06 23:03:35 2017-11-06 18:03:35-05:00  18.059722   \n",
       "1054874705491120133 2018-10-23 23:18:23 2018-10-23 18:18:23-05:00  18.306389   \n",
       "914810093874671617  2017-10-02 11:11:37 2017-10-02 06:11:37-05:00   6.193611   \n",
       "803567993036754944  2016-11-29 11:55:13 2016-11-29 06:55:13-05:00   6.920278   \n",
       "912301271817838593  2017-09-25 13:02:27 2017-09-25 08:02:27-05:00   8.040833   \n",
       "828447350200926212  2017-02-06 03:36:54 2017-02-05 22:36:54-05:00  22.615000   \n",
       "...                                 ...                       ...        ...   \n",
       "691992417336172544  2016-01-26 14:33:43 2016-01-26 09:33:43-05:00   9.561944   \n",
       "691745796128165888  2016-01-25 22:13:44 2016-01-25 17:13:44-05:00  17.228889   \n",
       "691260700056903681  2016-01-24 14:06:08 2016-01-24 09:06:08-05:00   9.102222   \n",
       "691180597268520961  2016-01-24 08:47:50 2016-01-24 03:47:50-05:00   3.797222   \n",
       "691992813177847808  2016-01-26 14:35:17 2016-01-26 09:35:17-05:00   9.588056   \n",
       "692673284563935232  2016-01-28 11:39:14 2016-01-28 06:39:14-05:00   6.653889   \n",
       "702311980732813314  2016-02-24 01:59:59 2016-02-23 20:59:59-05:00  20.999722   \n",
       "690534576066719744  2016-01-22 14:00:47 2016-01-22 09:00:47-05:00   9.013056   \n",
       "691770256268922880  2016-01-25 23:50:56 2016-01-25 18:50:56-05:00  18.848889   \n",
       "691942336746635264  2016-01-26 11:14:43 2016-01-26 06:14:43-05:00   6.245278   \n",
       "697050425195941888  2016-02-09 13:32:26 2016-02-09 08:32:26-05:00   8.540556   \n",
       "690529122326413314  2016-01-22 13:39:06 2016-01-22 08:39:06-05:00   8.651667   \n",
       "696328503428575232  2016-02-07 13:43:47 2016-02-07 08:43:47-05:00   8.729722   \n",
       "691472343449870336  2016-01-25 04:07:08 2016-01-24 23:07:08-05:00  23.118889   \n",
       "690529690205818880  2016-01-22 13:41:22 2016-01-22 08:41:22-05:00   8.689444   \n",
       "691992472889724929  2016-01-26 14:33:56 2016-01-26 09:33:56-05:00   9.565556   \n",
       "691686187795378176  2016-01-25 18:16:52 2016-01-25 13:16:52-05:00  13.281111   \n",
       "691383618137001984  2016-01-24 22:14:34 2016-01-24 17:14:34-05:00  17.242778   \n",
       "691838442536333313  2016-01-26 04:21:53 2016-01-25 23:21:53-05:00  23.364722   \n",
       "691836764185608193  2016-01-26 04:15:12 2016-01-25 23:15:12-05:00  23.253333   \n",
       "691471643982614528  2016-01-25 04:04:21 2016-01-24 23:04:21-05:00  23.072500   \n",
       "696281532974157824  2016-02-07 10:37:08 2016-02-07 05:37:08-05:00   5.618889   \n",
       "691934371654270976  2016-01-26 10:43:04 2016-01-26 05:43:04-05:00   5.717778   \n",
       "690528526181601281  2016-01-22 13:36:44 2016-01-22 08:36:44-05:00   8.612222   \n",
       "691943033663782912  2016-01-26 11:17:29 2016-01-26 06:17:29-05:00   6.291389   \n",
       "691848058234146816  2016-01-26 05:00:05 2016-01-26 00:00:05-05:00   0.001389   \n",
       "691770208927752193  2016-01-25 23:50:44 2016-01-25 18:50:44-05:00  18.845556   \n",
       "691739243702554626  2016-01-25 21:47:42 2016-01-25 16:47:42-05:00  16.795000   \n",
       "690530164711624705  2016-01-22 13:43:15 2016-01-22 08:43:15-05:00   8.720833   \n",
       "691847785222660096  2016-01-26 04:59:00 2016-01-25 23:59:00-05:00  23.983333   \n",
       "\n",
       "                            year  \\\n",
       "881503147168071680   2017.498630   \n",
       "795954831718498305   2016.852459   \n",
       "929511061954297857   2017.863014   \n",
       "796315640307060738   2016.855191   \n",
       "948355557022420992   2018.005479   \n",
       "741007091947556864   2016.437158   \n",
       "815185071317676033   2016.997268   \n",
       "755788382618390529   2016.549180   \n",
       "1016079192604139520  2018.515068   \n",
       "1016647764434931713  2018.520548   \n",
       "989225812166696960   2018.312329   \n",
       "1021234525626609666  2018.556164   \n",
       "865865814099939328   2017.380822   \n",
       "802499192237080576   2016.901639   \n",
       "947802588174577664   2018.000000   \n",
       "872062159789985792   2017.427397   \n",
       "1045444544068812800  2018.736986   \n",
       "869858333477523458   2017.410959   \n",
       "728297587418247168   2016.341530   \n",
       "1009982447822532608  2018.471233   \n",
       "1009536237881847808  2018.465753   \n",
       "927673257230327808   2017.846575   \n",
       "823174199036542980   2017.057534   \n",
       "871325606901895168   2017.421918   \n",
       "927672843504177152   2017.846575   \n",
       "1054874705491120133  2018.808219   \n",
       "914810093874671617   2017.750685   \n",
       "803567993036754944   2016.909836   \n",
       "912301271817838593   2017.731507   \n",
       "828447350200926212   2017.098630   \n",
       "...                          ...   \n",
       "691992417336172544   2016.068306   \n",
       "691745796128165888   2016.065574   \n",
       "691260700056903681   2016.062842   \n",
       "691180597268520961   2016.062842   \n",
       "691992813177847808   2016.068306   \n",
       "692673284563935232   2016.073770   \n",
       "702311980732813314   2016.147541   \n",
       "690534576066719744   2016.057377   \n",
       "691770256268922880   2016.065574   \n",
       "691942336746635264   2016.068306   \n",
       "697050425195941888   2016.106557   \n",
       "690529122326413314   2016.057377   \n",
       "696328503428575232   2016.101093   \n",
       "691472343449870336   2016.065574   \n",
       "690529690205818880   2016.057377   \n",
       "691992472889724929   2016.068306   \n",
       "691686187795378176   2016.065574   \n",
       "691383618137001984   2016.062842   \n",
       "691838442536333313   2016.068306   \n",
       "691836764185608193   2016.068306   \n",
       "691471643982614528   2016.065574   \n",
       "696281532974157824   2016.101093   \n",
       "691934371654270976   2016.068306   \n",
       "690528526181601281   2016.057377   \n",
       "691943033663782912   2016.068306   \n",
       "691848058234146816   2016.068306   \n",
       "691770208927752193   2016.065574   \n",
       "691739243702554626   2016.065574   \n",
       "690530164711624705   2016.057377   \n",
       "691847785222660096   2016.068306   \n",
       "\n",
       "                                                                                                                                                                                                                                                                                                     no_punc  \\\n",
       "881503147168071680                                                                                                                                                                                                                                                 fraudnewscnn  fnn https   t co wyunhjjujg   \n",
       "795954831718498305                                                                                                                                                                                                                                                        today we make america great again    \n",
       "929511061954297857                                                                                                           why would kim jong un insult me by calling me  old   when i would never call him  short and fat   oh well  i try so hard to be his friend   and maybe someday that will happen    \n",
       "796315640307060738                                                                                                                                              such a beautiful and important evening  the forgotten man and woman will never be forgotten again  we will all come together as never before   \n",
       "948355557022420992   north korean leader kim jong un just stated that the  nuclear button is on his desk at all times   will someone from his depleted and food starved regime please inform him that i too have a nuclear button  but it is a much bigger  amp  more powerful one than his  and my butto...   \n",
       "741007091947556864                                                                                                                                                how long did it take your staff of 823 people to think that up  and where are your 33 000 emails that you deleted  https   t co geclntqizq   \n",
       "815185071317676033                                                                                                                                                 happy new year to all  including to my many enemies and those who have fought me and lost so badly they just don t know what to do  love    \n",
       "755788382618390529                                                                                                                                                                     the media is spending more time doing a forensic analysis of melania s speech than the fbi spent on hillary s emails    \n",
       "1016079192604139520                                                                                                                                                                                                                        they just didn t get it  but they do now  https   t co 9t50nupkdy   \n",
       "1016647764434931713                                                                                                                                                                                                   rt  realdonaldtrump  they just didn t get it  but they do now  https   t co 9t50nupkdy   \n",
       "989225812166696960                                                                                                                                                                                                                                       thank you kanye  very cool  https   t co vric87m21x   \n",
       "1021234525626609666  to iranian president rouhani  never  ever threaten the united states again or you will suffer consequences the likes of which few throughout history have ever suffered before  we are no longer a country that will stand for your demented words of violence  amp  death  be cauti...   \n",
       "865865814099939328                                                                                                                                                             great to be in riyadh  saudi arabia  looking forward to the afternoon and evening ahead   potusabroad https   t co jjora0kfyr   \n",
       "802499192237080576                                                                                                                                                                                                                                                                     fidel castro is dead    \n",
       "947802588174577664   the united states has foolishly given pakistan more than 33 billion dollars in aid over the last 15 years  and they have given us nothing but lies  amp  deceit  thinking of our leaders as fools  they give safe haven to the terrorists we hunt in afghanistan  with little help  ...   \n",
       "872062159789985792                                                                                                                                               during my recent trip to the middle east i stated that there can no longer be funding of radical ideology  leaders pointed to qatar   look    \n",
       "1045444544068812800              judge kavanaugh showed america exactly why i nominated him  his testimony was powerful  honest  and riveting  democrats  search and destroy strategy is disgraceful and this process has been a total sham and effort to delay  obstruct  and resist  the senate must vote    \n",
       "869858333477523458                                                                                                                                                                                                                              who can figure out the true meaning of  covfefe       enjoy    \n",
       "728297587418247168                                                                                                                                                  happy  cincodemayo  the best taco bowls are made in trump tower grill  i love hispanics  https   t co ufoteqd8ya https   t co k01mc6cudi   \n",
       "1009982447822532608                                                                                                                                                                              rt  realdonaldtrump  don t worry  the republicans  and your president  will fix it  https   t co xsbupzxbhj   \n",
       "1009536237881847808                                                                                                                                                                                                   don t worry  the republicans  and your president  will fix it  https   t co xsbupzxbhj   \n",
       "927673257230327808                                                                                                                                                                                                      some of those they are harshly treating have been  milking  their country for years    \n",
       "823174199036542980                                                                                                                                                 peaceful protests are a hallmark of our democracy  even if i don t always agree  i recognize the rights of people to express their views    \n",
       "871325606901895168                                                                                                                                              we must stop being politically correct and get down to the business of security for our people  if we don t get smart it will only get worse   \n",
       "927672843504177152                                                                                                                                                                    i have great confidence in king salman and the crown prince of saudi arabia  they know exactly what they are doing       \n",
       "1054874705491120133                                                                                                                                                                                                                               i agree with president obama 100   https   t co pi3aw1zh5q   \n",
       "914810093874671617                                                                                                                                                                      my warmest condolences and sympathies to the victims and families of the terrible las vegas shooting  god bless you    \n",
       "803567993036754944                                                                                                                                                nobody should be allowed to burn the american flag   if they do  there must be consequences   perhaps loss of citizenship or year in jail    \n",
       "912301271817838593                                                                                                                                                                                                                                                                         standforouranthem   \n",
       "828447350200926212                                                                                                                                                                                what an amazing comeback and win by the patriots  tom brady  bob kraft and coach b are total winners  wow    \n",
       "...                                                                                                                                                                                                                                                                                                      ...   \n",
       "691992417336172544                                                                                                                                                 xxflame    bobvanderplaats idiot bob plaats on cnn is deluded  cruz s favorability ratings are 0   no one likes him  vote trump instead     \n",
       "691745796128165888                                                                                                                                                                                                                    leaving now for new hampshire  big crowd  looking forward to it   fitn   \n",
       "691260700056903681                                                                                                                                                                                                 i will be on  meetthepress this morning at various times across the u s   nbcnews  enjoy    \n",
       "691180597268520961                                                                                                                                                  snoozinglion1  full speech  donald trump campaign rally in pella ia  1 23 16  https   t co duwqyp00kn via  youtube one of his best ever    \n",
       "691992813177847808                                                                                                                                                                               puttster71   bobvanderplaats the next president isn t on ur stage   realdonaldtrump is the next president     \n",
       "692673284563935232                                                                                                                                                        haloonefortrump   foxnews takes  yuge hit on advertising revenues by screwing with  realdonaldtrump rofl  https   t co ndyhniudks    \n",
       "702311980732813314                                                                                                                                                                                                                              rt  trumpnv   nvcaucus locator   gt  https   t co wizgqcbvob   \n",
       "690534576066719744                                                                                                                                                  cyberciety   marybrigidmcmanamon clarified how  commonlaw is used to interpret meaning of  naturalborn  tedcruz https   t co 5y6szrtdgr    \n",
       "691770256268922880                                                                                                                                                                                                                         just landed in new hampshire  will be at the venue shortly   fitn   \n",
       "691942336746635264                                                                                                                                                      laurencristmann    sharp_trident  megynkelly it makes me not wanna watch debate because i know they are going to treat trump unfair    \n",
       "697050425195941888                                                                                                                                                                                                                              i will be interviewed on  foxandfriends at 8 40  a m  enjoy    \n",
       "690529122326413314                                                                                                                                                                           neilturner_   realdonaldtrump https   t co uvn95nb6m0 with your help we can  makeamericagreatagain   votetrump    \n",
       "696328503428575232                                                                                                                                                                                                                                                      i am on  foxandfriends now  tune in    \n",
       "691472343449870336                                                                                                                                                                                             red77angelluis   realdonaldtrump  neilturner_  youtube let s get trump   go trump   usa usa     \n",
       "690529690205818880                                                                                                                                                     tedcruz eligibility to be president not settled law  says cruz  constitutional law professor   laurencetribe https   t co gwkojsbinz    \n",
       "691992472889724929                                                                                                                                                                                                                               aynsfriend   bobvanderplaats cruz is done  cnn  chriscuomo    \n",
       "691686187795378176                                                                                                                                              rt  geraldorivera   newyork tromps  jonas  day after storm of the century the big city is up and running unlike others in the northeast  mu    \n",
       "691383618137001984                                                                                                                                                                                 maryann1942   realdonaldtrump  cbsnews     you are like superman  everywhere  but i m keeping up   great    \n",
       "691838442536333313                                                                                                                                                                        kurtschlichter  my pal  davidwohl was just on megan kelly s show  he digs trump   thank you david  you were great    \n",
       "691836764185608193                                                                                                                                                 jdenino1   davidwohl   realdonaldtrump https   t co rqmssbfb0j   beck wanted to commit suicide after  ss surgery  clearly is unbalanced     \n",
       "691471643982614528                                                                                                                                                         knight276    c4constitution trump right again  with_cruz_you_lose  nobody supports canuck cruz  makeamericagreatagain   trump2016   \n",
       "696281532974157824                                                                                                                                                                                                                             joenbc  trump  kasich  jeb and christie all had good nights     \n",
       "691934371654270976                                                                                                                                                  i will be doing  gma  gstephanopoulos this morning at around 7 00  likewise  i will be doing  morning_joe at around 7 00  figure it out    \n",
       "690528526181601281                                                                                                                                                                                                                              borntobegop   realdonaldtrump no sleep for the  trumptrain     \n",
       "691943033663782912                                                                                                                                                                                              i will be interviewed by  mariabartiromo on  morningsmaria   foxbusiness at 7 30 a m  enjoy    \n",
       "691848058234146816                                                                                                                                                                whitejacketpink   mypresidentme  realdonaldtrump just google glenn beck bio  u can tell no education  very poorly written    \n",
       "691770208927752193                                                                                                                                              realdonaldtrump  amp   hillaryclinton leading polls w  one week until  iowacaucus    more on the 2016 elections tonight on  foxbusiness 7pm    \n",
       "691739243702554626                                                                                                                                                                                                                       i will be on  cnnsitroom with  wolfblitzer from 5 7pm est  on  cnn    \n",
       "690530164711624705                                                                                                                                                   trublumajority   laurencetribe calls cruz  constitutional hypocrite  on  wbur https   t co qrfintcjlx  pbsgwen  charlierose  jaketapper   \n",
       "691847785222660096                                                                                                                                                                                              dittopost   realdonaldtrump  crusade4honesty  borntobegop  megynkelly i believe in trump       \n",
       "\n",
       "                     polarity  \n",
       "881503147168071680        0.0  \n",
       "795954831718498305        3.1  \n",
       "929511061954297857        0.6  \n",
       "796315640307060738        1.9  \n",
       "948355557022420992        0.5  \n",
       "741007091947556864        0.0  \n",
       "815185071317676033       -1.0  \n",
       "755788382618390529        0.0  \n",
       "1016079192604139520       0.0  \n",
       "1016647764434931713       0.0  \n",
       "989225812166696960        2.8  \n",
       "1021234525626609666     -10.3  \n",
       "865865814099939328        3.1  \n",
       "802499192237080576       -3.3  \n",
       "947802588174577664       -6.7  \n",
       "872062159789985792       -1.2  \n",
       "1045444544068812800       0.3  \n",
       "869858333477523458        4.0  \n",
       "728297587418247168        9.1  \n",
       "1009982447822532608      -1.9  \n",
       "1009536237881847808      -1.9  \n",
       "927673257230327808        0.0  \n",
       "823174199036542980        2.8  \n",
       "871325606901895168       -0.2  \n",
       "927672843504177152        5.4  \n",
       "1054874705491120133       1.5  \n",
       "914810093874671617        1.2  \n",
       "803567993036754944       -1.3  \n",
       "912301271817838593        0.0  \n",
       "828447350200926212       10.5  \n",
       "...                       ...  \n",
       "691992417336172544       -1.7  \n",
       "691745796128165888        0.0  \n",
       "691260700056903681        2.2  \n",
       "691180597268520961        3.2  \n",
       "691992813177847808        0.0  \n",
       "692673284563935232        1.8  \n",
       "702311980732813314        1.1  \n",
       "690534576066719744        0.0  \n",
       "691770256268922880        0.0  \n",
       "691942336746635264       -0.4  \n",
       "697050425195941888        2.2  \n",
       "690529122326413314        1.7  \n",
       "696328503428575232        0.0  \n",
       "691472343449870336        0.0  \n",
       "690529690205818880        0.0  \n",
       "691992472889724929        0.0  \n",
       "691686187795378176        0.0  \n",
       "691383618137001984        4.6  \n",
       "691838442536333313        4.6  \n",
       "691836764185608193       -0.6  \n",
       "691471643982614528        1.5  \n",
       "696281532974157824        1.9  \n",
       "691934371654270976        0.0  \n",
       "690528526181601281       -1.2  \n",
       "691943033663782912        2.2  \n",
       "691848058234146816       -1.2  \n",
       "691770208927752193        0.0  \n",
       "691739243702554626        0.0  \n",
       "690530164711624705        0.0  \n",
       "691847785222660096        0.0  \n",
       "\n",
       "[9185 rows x 9 columns]"
      ]
     },
     "execution_count": 61,
     "metadata": {},
     "output_type": "execute_result"
    }
   ],
   "source": [
    "trump.sort_values('retweet_count', ascending=False)"
   ]
  },
  {
   "cell_type": "code",
   "execution_count": 62,
   "metadata": {
    "deletable": false,
    "nbgrader": {
     "cell_type": "code",
     "checksum": "1f84a32506abaa59849e1923f60afb03",
     "grade": true,
     "grade_id": "q8-plot",
     "locked": false,
     "points": 2,
     "schema_version": 2,
     "solution": true
    }
   },
   "outputs": [
    {
     "data": {
      "text/plain": [
       "Text(0,0.5,'Retweet Count')"
      ]
     },
     "execution_count": 62,
     "metadata": {},
     "output_type": "execute_result"
    },
    {
     "data": {
      "image/png": "[encoded data removed]",
      "text/plain": [
       "<matplotlib.figure.Figure at 0x7f83f78d3470>"
      ]
     },
     "metadata": {},
     "output_type": "display_data"
    }
   ],
   "source": [
    "# YOUR CODE HERE\n",
    "\n",
    "trump.sort_values('polarity', ascending=True)\n",
    "plt.figure(figsize=(12, 9))\n",
    "\n",
    "plt.scatter(trump['polarity'], trump['retweet_count'], edgecolors='blue', facecolors='none', s=5, alpha=0.3)\n",
    "plt.axis([-10, 10, -10, 100000])\n",
    "plt.title('Sentiment vs Retweet Count')\n",
    "plt.xlabel('Polarity')\n",
    "plt.ylabel('Retweet Count')\n",
    "#sns.kdeplot(removed_outlier['polarity'], removed_outlier['retweet_count'])\n",
    "\n",
    "#sns.regplot(x=\"polarity\", y=\"retweet_count\", data=trump, x_bins=20)\n",
    "#raise NotImplementedError()"
   ]
  },
  {
   "cell_type": "markdown",
   "metadata": {
    "deletable": false,
    "editable": false,
    "nbgrader": {
     "cell_type": "markdown",
     "checksum": "8bcdf92134fc82c0b7dcfb54c62dadfe",
     "grade": false,
     "grade_id": "disc8-q",
     "locked": true,
     "schema_version": 2,
     "solution": false
    }
   },
   "source": [
    "### Discussion of Your Plot:"
   ]
  },
  {
   "cell_type": "markdown",
   "metadata": {
    "deletable": false,
    "nbgrader": {
     "cell_type": "markdown",
     "checksum": "36550141bfc678e4ad08057239781458",
     "grade": true,
     "grade_id": "q8-disc",
     "locked": false,
     "points": 1,
     "schema_version": 2,
     "solution": true
    }
   },
   "source": [
    "There appears to be a very slight correlation with more negative tweets having a higher retweet count, but overall the data seems pretty evenly scattered in terms of number of retweets for both positive and negative tweets and sentiment does not seem to affect retweet count. In addition, for every value of polarity there is a very wide range of possible retweet counts, which makes it hard to draw a correlation. I chose not to look at some of the outliers with extremely large retweet counts (above 100,000) as their polarities were relatively close to 0 (\"neutral\"). "
   ]
  },
  {
   "cell_type": "markdown",
   "metadata": {
    "deletable": false,
    "editable": false,
    "nbgrader": {
     "cell_type": "markdown",
     "checksum": "7cd0d0cd6110eba1fea6f1316c48f4a0",
     "grade": false,
     "grade_id": "submission",
     "locked": true,
     "schema_version": 2,
     "solution": false
    }
   },
   "source": [
    "## Submission\n",
    "\n",
    "Congrats, you just finished Project 1!"
   ]
  },
  {
   "cell_type": "markdown",
   "metadata": {},
   "source": [
    "## Submission\n",
    "\n",
    "You're done!\n",
    "\n",
    "Before submitting this assignment, ensure to:\n",
    "\n",
    "1. Restart the Kernel (in the menubar, select Kernel->Restart & Run All)\n",
    "2. Validate the notebook by clicking the \"Validate\" button\n",
    "\n",
    "Finally, make sure to **submit** the assignment via the Assignments tab in Datahub"
   ]
  }
 ],
 "metadata": {
  "kernelspec": {
   "display_name": "Python 3",
   "language": "python",
   "name": "python3"
  },
  "language_info": {
   "codemirror_mode": {
    "name": "ipython",
    "version": 3
   },
   "file_extension": ".py",
   "mimetype": "text/x-python",
   "name": "python",
   "nbconvert_exporter": "python",
   "pygments_lexer": "ipython3",
   "version": "3.6.4"
  }
 },
 "nbformat": 4,
 "nbformat_minor": 2
}

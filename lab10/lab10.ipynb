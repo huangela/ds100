{
 "cells": [
  {
   "cell_type": "markdown",
   "metadata": {},
   "source": [
    "Before you turn this problem in, make sure everything runs as expected. First, **restart the kernel** (in the menubar, select Kernel$\\rightarrow$Restart) and then **run all cells** (in the menubar, select Cell$\\rightarrow$Run All).\n",
    "\n",
    "Make sure you fill in any place that says `YOUR CODE HERE` or \"YOUR ANSWER HERE\", as well as your name and collaborators below:"
   ]
  },
  {
   "cell_type": "code",
   "execution_count": 1,
   "metadata": {},
   "outputs": [],
   "source": [
    "NAME = \"\"\n",
    "COLLABORATORS = \"\""
   ]
  },
  {
   "cell_type": "markdown",
   "metadata": {},
   "source": [
    "---"
   ]
  },
  {
   "cell_type": "markdown",
   "metadata": {
    "deletable": false,
    "editable": false,
    "nbgrader": {
     "cell_type": "markdown",
     "checksum": "858362bec7378a620d77d8f8a0ca0c5b",
     "grade": false,
     "grade_id": "intro",
     "locked": true,
     "schema_version": 2,
     "solution": false
    }
   },
   "source": [
    "# Lab 10: Use Bootstrap to Estimate Mean and Variance\n",
    "\n",
    "**Collaboration Policy**\n",
    "\n",
    "Data science is a collaborative activity. While you may talk with others about\n",
    "the homework, we ask that you **write your solutions individually**. If you do\n",
    "discuss the assignments with others please **include their names** at the top\n",
    "of your solution.\n",
    "\n",
    "## Due Date\n",
    "\n",
    "This assignment is due at 11:59pm Monday, November 5th.\n",
    "\n",
    "## Introduction\n",
    "\n",
    "In this lab, you will examine the bootstrap in greater detail. The goal is to develop a functional approach to bootstrapping any statistic for any sample.\n"
   ]
  },
  {
   "cell_type": "markdown",
   "metadata": {},
   "source": [
    "## Collaborators  "
   ]
  },
  {
   "cell_type": "markdown",
   "metadata": {},
   "source": [
    "Write names in this cell:"
   ]
  },
  {
   "cell_type": "code",
   "execution_count": 2,
   "metadata": {
    "deletable": false,
    "editable": false,
    "nbgrader": {
     "cell_type": "code",
     "checksum": "e96a07cd3ea17af682d7da5226d85b90",
     "grade": false,
     "grade_id": "setup",
     "locked": true,
     "schema_version": 2,
     "solution": false
    }
   },
   "outputs": [],
   "source": [
    "# Run this cell to set up your notebook\n",
    "\n",
    "import seaborn as sns\n",
    "import csv\n",
    "import numpy as np\n",
    "import pandas as pd\n",
    "import matplotlib.pyplot as plt\n",
    "%matplotlib inline\n",
    "sns.set()\n",
    "\n",
    "from IPython.display import display, Latex, Markdown\n"
   ]
  },
  {
   "cell_type": "markdown",
   "metadata": {
    "deletable": false,
    "editable": false,
    "nbgrader": {
     "cell_type": "markdown",
     "checksum": "e7e3e1e1a179f6eb77521aa33cc3f57d",
     "grade": false,
     "grade_id": "bootstrap_description",
     "locked": true,
     "schema_version": 2,
     "solution": false
    }
   },
   "source": [
    "## The Bootstrap Procedure\n",
    "\n",
    "The bootstrap is a very simple process: \n",
    "* Sample with replacement from the original sample (now the **bootstrap population**). These samples are called **bootstrap samples**. We typically take thousands of bootstrap samples (~10,000 is common).\n",
    "* Calculate the statistic of interest for each bootstrap sample. This statistic is called the **bootstrap statistic**, and the empirical distribution of these bootstrap statistics is an approximation to the **sampling distribution** of the bootstrapped statistic.\n",
    "\n",
    "But why bootstrap instead of just calculating the statistic of interest once on the whole sample? \n",
    "\n",
    "Take sample mean estimator as an example. Suppose $\\{x_i\\}$ are samples coming from an unknown distribution. We can use sample mean $\\bar{X} = \\frac{1}{n}\\sum_{i=1}^n x_i$ to estimate the the mean of the population. However, if we obtain another sample set $\\{x_i\\}$, we can get very different results. Therefore, computing the sampling distribution (distribution of the sample mean for all possible sample sets) would be very helpful. From such distribution, we can also obtain the bias of this estimator: $E (\\bar{X}) - \\mu$, and the variance of the estimator: $E[E(\\bar{X})-\\bar{X}]^2$.\n",
    "\n",
    "In order to compute the sampling distribution of $\\bar{X}$, we could directly use sampling methods. But that requires us to obtain several different sets of samples $\\{x_i\\}$ directly from the population. If we have $m$ sets of samples and each set contains $n$ subjects (totaling $m*n$ subjects), we can then use $ \\hat{X} = \\frac{1}{m}\\sum_{j=1}^m \\bar{X_j}$ to approximate $E(\\bar{X})$, and $\\frac{1}{m}\\sum_{j=1}^m (\\hat{X} - \\bar{X_j})^2$ to approximate $E[E(\\bar{X})-\\bar{X}]^2$.\n",
    "\n",
    "However, in reality, this is often unfeasible, and we only have one set of samples (**bootstrap population**). Therefore we can use bootstrap method to resample (sample with replacement) from the **bootstrap population** to obtain $m$ different **bootstrap samples**, each **bootstrap sample** has the same amount of data as in **bootstrap population**.\n",
    "\n",
    "Why do we sample with replacement?\n",
    "Recall that we are trying to mimic the ideal scenario of directly sampling from the original population. In the case where each bootstrap sample has the same amount of data as the bootstrap population, sampling without replacement would cause every bootstrap sample to be identical to the bootstrap population. Even when the bootstrap samples have less samples that the bootstrap population, sampling without replacement would cause the samples to be *based on the original sample*. Instead, sampling with replacement causes our bootstrap samples to be *based on the distribution of the original sample* (which we assume is representative of the original population)."
   ]
  },
  {
   "cell_type": "markdown",
   "metadata": {},
   "source": [
    "## Pre-lab\n",
    "\n",
    "### Question 0\n",
    "\n",
    "Bootstrap samples should have the same amount of data as the bootstrap population when used to estimate the standard error, perform hypothesis testing, or construct confidence intervals. Otherwise, bootstrap samples just need to have an equal (and reasonable) amount of data. Why do you think bootstrap sample size needs to meet this additional restriction for these applications? Hint: look at the standard error formula."
   ]
  },
  {
   "cell_type": "markdown",
   "metadata": {},
   "source": [
    "Your answer in this block: Bootstrap sample size needs to have an equal amount of data because Standard error = SD/ sqrt(n), so if the size(n) is not large enough, standard error will be very big."
   ]
  },
  {
   "cell_type": "markdown",
   "metadata": {},
   "source": [
    "## Lab\n",
    "Your task is to write a generic bootstrap procedure."
   ]
  },
  {
   "cell_type": "markdown",
   "metadata": {
    "deletable": false,
    "editable": false,
    "nbgrader": {
     "cell_type": "markdown",
     "checksum": "fc1f079315890b73d3ccf35e9b128cd6",
     "grade": false,
     "grade_id": "q1_text1",
     "locked": true,
     "schema_version": 2,
     "solution": false
    }
   },
   "source": [
    "### Question 1\n",
    "In today's lab, let's try to use bootstrap method to estimate the distribution of sample mean and sample standard deviation  of our midterm grades. You will be given a noisy sample of grades from this midterm, which is the **bootstrap population**. You should use **sampling with replacement** to resample from this dataset again and again to obtain **bootstrap samples** and compute the **bootstrap statistic**.\n",
    "\n",
    "First, write your own sampling function. The function `simple_resample` samples with replacement from the integers 0 through *n-1* and returns an array of length *n*\n",
    "with the sampled integers. That is, `simple_resample` produces the indices for\n",
    "a single bootstrap replicate from the bootstrap population.\n",
    "\n",
    "Use the `numpy.random.randint` function to do the random sampling. \n"
   ]
  },
  {
   "cell_type": "code",
   "execution_count": 3,
   "metadata": {},
   "outputs": [
    {
     "data": {
      "text/plain": [
       "[9, 2, 3, 4, 9, 3, 1, 7, 9, 2]"
      ]
     },
     "execution_count": 3,
     "metadata": {},
     "output_type": "execute_result"
    }
   ],
   "source": [
    "[np.random.randint(0, 10) for i in np.arange(10)]\n"
   ]
  },
  {
   "cell_type": "code",
   "execution_count": 4,
   "metadata": {
    "deletable": false,
    "nbgrader": {
     "cell_type": "code",
     "checksum": "089161661e9a31e9480ae9b0a8c19d8f",
     "grade": false,
     "grade_id": "q1_code",
     "locked": false,
     "schema_version": 2,
     "solution": true
    },
    "tags": [
     "student"
    ]
   },
   "outputs": [
    {
     "data": {
      "text/plain": [
       "array([7, 6, 9, 5, 3, 0, 0, 2, 4, 9])"
      ]
     },
     "execution_count": 4,
     "metadata": {},
     "output_type": "execute_result"
    }
   ],
   "source": [
    "def simple_resample(n):\n",
    "    \"\"\"\n",
    "    Args:\n",
    "        n: an integer\n",
    "        \n",
    "    Returns:\n",
    "        an array of length n of a random sample with replacement of\n",
    "        the integers 0, 1, ..., n-1\n",
    "    \"\"\"\n",
    "    # YOUR CODE HERE\n",
    "    #raise NotImplementedError()   \n",
    "\n",
    "    return np.array([np.random.randint(0, n) for i in np.arange(n)])"
   ]
  },
  {
   "cell_type": "markdown",
   "metadata": {
    "deletable": false,
    "editable": false,
    "nbgrader": {
     "cell_type": "markdown",
     "checksum": "5072e7e6e9338abdf4bfa2d77d89194d",
     "grade": false,
     "grade_id": "q1_text2",
     "locked": true,
     "schema_version": 2,
     "solution": false
    }
   },
   "source": [
    "Try your `simple_resample` function on a few cases to see if the sampling looks right."
   ]
  },
  {
   "cell_type": "code",
   "execution_count": 5,
   "metadata": {
    "deletable": false,
    "editable": false,
    "nbgrader": {
     "cell_type": "code",
     "checksum": "eb6ec00361a9e68198e5d5d611c01a04",
     "grade": true,
     "grade_id": "q1_test",
     "locked": true,
     "points": 1,
     "schema_version": 2,
     "solution": false
    },
    "tags": [
     "test",
     "q01"
    ]
   },
   "outputs": [],
   "source": [
    "# chances are less than 5.8 in 10^20 that this test fails when the function is correct\n",
    "assert (sum((42 in simple_resample(1000)) for _ in range(100000)) in range(63230-1500,63230+1500))\n",
    "assert (len(simple_resample(1000)) == 1000)"
   ]
  },
  {
   "cell_type": "markdown",
   "metadata": {
    "deletable": false,
    "editable": false,
    "nbgrader": {
     "cell_type": "markdown",
     "checksum": "92e3334265b1b29e985bb18321d31185",
     "grade": false,
     "grade_id": "q2_text1",
     "locked": true,
     "schema_version": 2,
     "solution": false
    }
   },
   "source": [
    "### Question 2\n",
    "\n",
    "Next let's write the function `bootstrap` which returns an array of length `replicates`, each entry being the `statistic` of interest computed on a bootstrap sample from the `boot_pop` (bootstrap population).\n",
    "\n",
    "In our case, the `statistic` could be the `np.mean` and `np.std` function. And the `resample` could be `simple_resample`. Here we leave them as parameters so that we could switch to other statistic and resample functions.\n",
    "\n",
    "For each bootstrap sample, you should first use `resample` to obtain samples from the `boot_pop`, then compute the statistic of those samples using the `statistic` method, and put it into your result."
   ]
  },
  {
   "cell_type": "code",
   "execution_count": 1,
   "metadata": {
    "deletable": false,
    "nbgrader": {
     "cell_type": "code",
     "checksum": "5423644879fde2fdda3606c35eef401c",
     "grade": false,
     "grade_id": "q2_code1",
     "locked": false,
     "schema_version": 2,
     "solution": true
    },
    "tags": [
     "student"
    ]
   },
   "outputs": [],
   "source": [
    "def bootstrap(boot_pop, statistic, resample, replicates = 1000):\n",
    "    \"\"\"\n",
    "    Args:\n",
    "        boot_pop: an array of shape n x d\n",
    "        statistic: a function which takes boot_pop and returns a number.\n",
    "        resample: a function which takes n and returns a random sample from the integers [0, n)\n",
    "        replicates: the number of resamples\n",
    "        \n",
    "    Returns:\n",
    "        an array of length replicates, each entry being the statistic computed on a bootstrap sample of the data.\n",
    "    \"\"\"\n",
    "    # YOUR CODE HERE\n",
    "    #raise NotImplementedError()\n",
    "    to_return = []\n",
    "    for i in np.arange(replicates):\n",
    "        indices = resample(len(boot_pop))\n",
    "        samples = np.array([boot_pop[index] for index in indices])\n",
    "        to_return.append(statistic(samples))\n",
    "        \n",
    "    return np.array(to_return)\n"
   ]
  },
  {
   "cell_type": "code",
   "execution_count": 7,
   "metadata": {
    "deletable": false,
    "editable": false,
    "nbgrader": {
     "cell_type": "code",
     "checksum": "9b8486454b3163a4f24fab7b5d06944d",
     "grade": true,
     "grade_id": "q2_test1",
     "locked": true,
     "points": 1,
     "schema_version": 2,
     "solution": false
    },
    "tags": [
     "test",
     "q02"
    ]
   },
   "outputs": [],
   "source": [
    "assert (len(bootstrap(np.ones(10), np.mean, simple_resample)) == 1000)\n",
    "assert (np.all(bootstrap(np.ones(10), np.mean, simple_resample, replicates = 1000) == np.ones(1000)))\n",
    "# chances are less than 3.9 in 10^22 that this test fails when the function is correct\n",
    "assert (sum(bootstrap(np.array([0,1]), np.median, simple_resample, replicates = 10000) == 0.5) in range(5000-500,5000+500))"
   ]
  },
  {
   "cell_type": "markdown",
   "metadata": {
    "deletable": false,
    "editable": false,
    "nbgrader": {
     "cell_type": "markdown",
     "checksum": "6f1a63e0a411e95964f95a996640a9da",
     "grade": false,
     "grade_id": "q2_text2",
     "locked": true,
     "schema_version": 2,
     "solution": false
    }
   },
   "source": [
    "Now let's use the bootstrap function to compute the distribution of the sample mean for the midterm grade.\n",
    "\n",
    "First, let's load the data."
   ]
  },
  {
   "cell_type": "code",
   "execution_count": 8,
   "metadata": {
    "deletable": false,
    "editable": false,
    "nbgrader": {
     "cell_type": "code",
     "checksum": "9da05139f55af67c1fa4640e8f4b749a",
     "grade": false,
     "grade_id": "q2_setup",
     "locked": true,
     "schema_version": 2,
     "solution": false
    }
   },
   "outputs": [
    {
     "data": {
      "text/html": [
       "<div>\n",
       "<style scoped>\n",
       "    .dataframe tbody tr th:only-of-type {\n",
       "        vertical-align: middle;\n",
       "    }\n",
       "\n",
       "    .dataframe tbody tr th {\n",
       "        vertical-align: top;\n",
       "    }\n",
       "\n",
       "    .dataframe thead th {\n",
       "        text-align: right;\n",
       "    }\n",
       "</style>\n",
       "<table border=\"1\" class=\"dataframe\">\n",
       "  <thead>\n",
       "    <tr style=\"text-align: right;\">\n",
       "      <th></th>\n",
       "      <th>Grade</th>\n",
       "    </tr>\n",
       "  </thead>\n",
       "  <tbody>\n",
       "    <tr>\n",
       "      <th>0</th>\n",
       "      <td>70.652174</td>\n",
       "    </tr>\n",
       "    <tr>\n",
       "      <th>1</th>\n",
       "      <td>85.418495</td>\n",
       "    </tr>\n",
       "    <tr>\n",
       "      <th>2</th>\n",
       "      <td>84.909697</td>\n",
       "    </tr>\n",
       "    <tr>\n",
       "      <th>3</th>\n",
       "      <td>55.759027</td>\n",
       "    </tr>\n",
       "    <tr>\n",
       "      <th>4</th>\n",
       "      <td>75.008190</td>\n",
       "    </tr>\n",
       "  </tbody>\n",
       "</table>\n",
       "</div>"
      ],
      "text/plain": [
       "       Grade\n",
       "0  70.652174\n",
       "1  85.418495\n",
       "2  84.909697\n",
       "3  55.759027\n",
       "4  75.008190"
      ]
     },
     "execution_count": 8,
     "metadata": {},
     "output_type": "execute_result"
    }
   ],
   "source": [
    "data = pd.read_csv(\"grades_sample.csv\")\n",
    "data.head()"
   ]
  },
  {
   "cell_type": "code",
   "execution_count": 9,
   "metadata": {
    "deletable": false,
    "editable": false,
    "nbgrader": {
     "cell_type": "code",
     "checksum": "1a7196d1647775e3161dd3e4fda9a890",
     "grade": false,
     "grade_id": "q2_setup2",
     "locked": true,
     "schema_version": 2,
     "solution": false
    }
   },
   "outputs": [
    {
     "data": {
      "image/png": "[encoded data removed]",
      "text/plain": [
       "<matplotlib.figure.Figure at 0x7f334671d5c0>"
      ]
     },
     "metadata": {},
     "output_type": "display_data"
    }
   ],
   "source": [
    "sns.distplot(data)\n",
    "plt.vlines(np.mean(data),0,1);"
   ]
  },
  {
   "cell_type": "markdown",
   "metadata": {
    "deletable": false,
    "editable": false,
    "nbgrader": {
     "cell_type": "markdown",
     "checksum": "fafd7ebb711cb0de23223391863d0cf5",
     "grade": false,
     "grade_id": "q2_text3",
     "locked": true,
     "schema_version": 2,
     "solution": false
    }
   },
   "source": [
    "Now use the right parameters to call our `bootstrap` method to obtain the sample mean $\\bar{X}$ for $m$ different bootstrap samples $\\{x_i\\}$. "
   ]
  },
  {
   "cell_type": "code",
   "execution_count": 10,
   "metadata": {
    "deletable": false,
    "nbgrader": {
     "cell_type": "code",
     "checksum": "27f3497ffe848b48966b7680252dd505",
     "grade": false,
     "grade_id": "q2_code2",
     "locked": false,
     "schema_version": 2,
     "solution": true
    }
   },
   "outputs": [],
   "source": [
    "m = 1000  # the number of resamples \n",
    "boot_pop = np.array(data[\"Grade\"])\n",
    "\n",
    "boot_sample_means = bootstrap(boot_pop, np.mean, simple_resample, m)\n",
    "\n",
    "# YOUR CODE HERE\n",
    "#raise NotImplementedError()"
   ]
  },
  {
   "cell_type": "code",
   "execution_count": 11,
   "metadata": {
    "deletable": false,
    "editable": false,
    "nbgrader": {
     "cell_type": "code",
     "checksum": "2e15dc235ea3319961e8844d08f8b95c",
     "grade": false,
     "grade_id": "q2_plot",
     "locked": true,
     "schema_version": 2,
     "solution": false
    }
   },
   "outputs": [
    {
     "data": {
      "image/png": "[encoded data removed]",
      "text/plain": [
       "<matplotlib.figure.Figure at 0x7f333a601940>"
      ]
     },
     "metadata": {},
     "output_type": "display_data"
    }
   ],
   "source": [
    "sns.distplot(boot_sample_means)\n",
    "plt.xlabel(r\"$\\bar{X}$\")\n",
    "plt.ylabel(\"Frequency\");"
   ]
  },
  {
   "cell_type": "code",
   "execution_count": 12,
   "metadata": {
    "deletable": false,
    "editable": false,
    "nbgrader": {
     "cell_type": "code",
     "checksum": "7d40e44d8cfe18f757b5aeccdaac39a7",
     "grade": true,
     "grade_id": "q2_test2",
     "locked": true,
     "points": 1,
     "schema_version": 2,
     "solution": false
    }
   },
   "outputs": [
    {
     "name": "stdout",
     "output_type": "stream",
     "text": [
      "mean of bootstrap mean: 80.4487295132 \n",
      "variance of bootstrap mean: 0.382416124927\n"
     ]
    }
   ],
   "source": [
    "boot_mean_mean = np.mean(boot_sample_means)\n",
    "boot_var_mean = np.var(boot_sample_means)\n",
    "print('mean of bootstrap mean:', boot_mean_mean, '\\nvariance of bootstrap mean:', boot_var_mean)\n",
    "assert len(boot_sample_means) == m\n",
    "assert 80 < boot_mean_mean < 81\n",
    "assert 0.3 < boot_var_mean < 0.5"
   ]
  },
  {
   "cell_type": "markdown",
   "metadata": {
    "deletable": false,
    "editable": false,
    "nbgrader": {
     "cell_type": "markdown",
     "checksum": "926dd41a68a8a83a355d5fc65663637f",
     "grade": false,
     "grade_id": "q2_text4",
     "locked": true,
     "schema_version": 2,
     "solution": false
    }
   },
   "source": [
    "Now use the right parameters to call our `bootstrap` method to obtain the standard deviation $\\sqrt{\\frac{1}{n}\\sum_{i=1}^{n} (x_i-\\bar{X})^2}$ for $m$ different bootstrap samples $\\{x_i\\}$. You should use `np.std`"
   ]
  },
  {
   "cell_type": "code",
   "execution_count": 13,
   "metadata": {
    "deletable": false,
    "nbgrader": {
     "cell_type": "code",
     "checksum": "57e597aeded682851885c8d976c5c7fa",
     "grade": false,
     "grade_id": "q2_code3",
     "locked": false,
     "schema_version": 2,
     "solution": true
    }
   },
   "outputs": [
    {
     "data": {
      "text/plain": [
       "array([  9.47767879,   8.5083122 ,   9.21932429,   7.78870526,\n",
       "         9.01368522,   9.23132376,   9.28755521,   7.89378336,\n",
       "         8.96463126,   9.37138321,   9.07834011,   7.60728365,\n",
       "         7.93767725,   8.97217659,   8.69563345,   9.03168131,\n",
       "         8.95800147,   8.83906373,   9.25695861,   8.62667552,\n",
       "         8.34243134,   8.03634498,   8.46744147,   9.45316529,\n",
       "         8.22261539,   8.87692054,   7.81368877,   8.9387383 ,\n",
       "         9.14012125,   8.63192622,   8.2997037 ,   8.15606755,\n",
       "         8.51751134,   9.11537396,   8.67738102,   9.08733844,\n",
       "         8.72693578,   8.38193438,   8.6924788 ,   8.88941335,\n",
       "         8.84182586,   8.64734932,   9.60093132,   8.95479622,\n",
       "         9.51690784,   8.29722371,   7.7421664 ,   8.14396771,\n",
       "         8.76876471,   9.17186465,   9.61887308,   7.95571676,\n",
       "         8.33382234,   8.19626012,   8.72457262,   9.34865975,\n",
       "         8.66046723,   9.60016994,   8.17977957,   7.72046333,\n",
       "         9.30311786,   9.42437196,   8.38068096,   9.15787595,\n",
       "         8.71587431,   8.25189458,   9.03828866,   9.28807121,\n",
       "         7.87999411,   8.93804169,   9.40154138,   8.00933212,\n",
       "         8.36082758,   8.9254199 ,   9.85616892,   8.52221047,\n",
       "         8.52893037,   7.95699927,   8.56653838,   9.08683983,\n",
       "         8.60224188,   8.63511974,   8.55260813,   9.75395817,\n",
       "         8.27324834,   9.12880151,   9.259752  ,   9.04824416,\n",
       "         9.03494703,   8.51699029,   8.76004879,   8.80108211,\n",
       "         8.42765398,   9.09425011,   8.09927956,   8.95036862,\n",
       "         7.57048696,   8.22651297,   8.45386466,   9.34515516,\n",
       "         9.29690114,   8.64395231,  10.25909196,   9.14236468,\n",
       "         8.25136153,   9.15977187,   8.87736401,   8.48707239,\n",
       "         9.97659975,   8.53545627,   8.39681935,   8.5557114 ,\n",
       "         8.59495557,   8.38670773,   9.2360862 ,   8.81773593,\n",
       "         8.56616908,   8.37462247,   8.90897707,   8.55552381,\n",
       "         8.21165023,   8.68427545,   8.53485588,   8.96371527,\n",
       "         9.0158195 ,   8.77334005,   8.47779176,   8.20608729,\n",
       "         8.49467294,   8.47073753,   9.60440909,   8.45208202,\n",
       "         7.9641816 ,   8.98359947,   9.45174918,   8.51356307,\n",
       "         8.74948754,   9.05902166,   8.56299567,   8.96391201,\n",
       "         8.2746334 ,   8.48358576,   7.52472243,   9.15062532,\n",
       "         8.97890573,   8.56044596,   8.69225211,   8.74803196,\n",
       "         9.09935974,   8.92754059,   9.32895496,   8.88401804,\n",
       "         8.8728267 ,   8.58432601,   8.46757142,   8.07569288,\n",
       "         8.58779516,   8.86394763,   8.62731795,   8.93785698,\n",
       "         8.69878734,   8.74681797,   8.8642869 ,   8.87290001,\n",
       "         8.38842815,   9.02176523,   8.79492442,   9.05139352,\n",
       "         9.34808427,   8.68385517,   9.52598947,   8.37596485,\n",
       "         7.86897721,   9.23589263,   8.05518319,   8.13144997,\n",
       "         7.98317238,   8.38888727,   8.8174334 ,   9.52769209,\n",
       "         8.86104639,   9.11910187,   8.80393766,   8.16415012,\n",
       "         8.02110878,   8.57357858,   7.31670844,   8.653964  ,\n",
       "         8.17741279,   8.87094895,   8.98254347,   8.3238147 ,\n",
       "         8.72159194,   7.70054128,   7.96397906,   9.06567733,\n",
       "         8.23076776,   9.79106674,   8.98811904,   8.80068577,\n",
       "         8.79480303,   7.92351676,   8.62851413,   8.4469396 ,\n",
       "        10.10519736,   9.59273887,   8.60361427,   8.32937721,\n",
       "         8.58180891,   8.22470941,   8.65012263,   8.70576815,\n",
       "         9.22442105,   8.94176686,   8.12663039,   8.72085387,\n",
       "         8.67713835,   8.39480806,   8.3157009 ,   9.63683574,\n",
       "         8.70803895,   8.97260222,   7.54701434,   9.59223274,\n",
       "         8.56668325,   9.03019976,   9.87547243,   8.3153155 ,\n",
       "         7.84861051,   9.19690566,   9.316811  ,   8.04331332,\n",
       "         8.90965364,   8.67073972,   9.02538343,   9.10346786,\n",
       "         8.27311402,   8.57118885,   7.72391762,   8.49802597,\n",
       "         9.32588053,   8.12468081,   9.36040596,   8.0470438 ,\n",
       "         9.47604623,   8.63035323,   8.06989736,   7.93307863,\n",
       "         8.78420509,   8.92185805,   9.56234171,   9.03637332,\n",
       "         8.817326  ,   8.78462136,   8.50331023,   9.24545995,\n",
       "         9.04480344,   7.80858973,   8.96808396,   9.00006076,\n",
       "         8.02309894,   8.4859897 ,   8.36561173,   8.35900327,\n",
       "         8.92468894,   9.40049549,   8.96170124,   9.12442057,\n",
       "         9.61161957,   8.67201605,   9.25076705,   8.46591993,\n",
       "         8.32852   ,   8.50587899,   8.19729758,   8.4070833 ,\n",
       "         9.02962921,   8.89765799,   8.99638038,   8.46104712,\n",
       "         8.8855099 ,   8.39157595,   8.05987119,   8.43551843,\n",
       "         8.53088844,   7.4863316 ,   7.93980332,   9.15350898,\n",
       "         9.22081739,   9.11414313,   8.2974278 ,   9.35652263,\n",
       "         8.54856281,   8.68452768,   8.88038273,   8.60408583,\n",
       "         7.64325531,   7.71985166,   9.59530058,   9.055536  ,\n",
       "         8.69102672,   8.46840298,   9.68731032,   9.15526889,\n",
       "         9.3497818 ,   9.22490818,   9.07239078,   8.69285156,\n",
       "         9.65400321,   8.77054763,   8.42463863,   8.6331059 ,\n",
       "         8.62563689,   9.42727019,   9.02828611,   9.30579481,\n",
       "         9.71386158,   9.45373237,   8.77020624,   7.95292418,\n",
       "         8.43514184,   8.37453174,   9.3764154 ,   8.33824303,\n",
       "         8.71033358,   8.5076199 ,   9.3056447 ,   9.05564772,\n",
       "         8.67624839,   9.56741128,   8.40185126,   8.40741563,\n",
       "         7.91784688,   8.20929854,   8.04396711,   8.83817707,\n",
       "         8.67982013,   8.46257391,   8.3969448 ,   8.19309396,\n",
       "         9.59791443,   8.1190754 ,   8.08356293,   8.54422933,\n",
       "         9.31023841,   8.69267459,   8.78829403,   9.32574091,\n",
       "         9.10545648,   8.94059091,   8.11318765,   9.55437398,\n",
       "         8.68616368,   8.45588574,   8.92962807,   7.57158155,\n",
       "         9.18218265,   8.58027123,   9.06144533,   9.22825469,\n",
       "         8.59386615,  10.14254672,   9.56271606,   8.89335977,\n",
       "         9.70364158,   8.10175538,   8.13699388,   8.33552509,\n",
       "         8.80819069,   9.57532013,   9.31680054,   8.57223118,\n",
       "         8.44845569,   9.31609931,   9.21888815,   8.33148701,\n",
       "         8.6122454 ,   8.38347728,   8.01818251,   8.69770701,\n",
       "         8.63608025,   8.14745743,   8.38215848,   9.18021094,\n",
       "         9.10660072,   8.26890955,   9.08220823,   8.42207863,\n",
       "         9.24393666,   9.24727205,   8.56204318,   9.09862776,\n",
       "         9.11351107,   9.0799252 ,   8.09106604,   8.95931988,\n",
       "         8.6588098 ,   7.97971829,   8.62170848,   8.31271054,\n",
       "         8.71837656,   8.80815295,   8.5245796 ,   8.70926609,\n",
       "         7.86308904,   9.12147721,   9.25914841,   9.28807843,\n",
       "         8.48706575,   8.09843991,   8.08811311,   8.45147564,\n",
       "         8.61532327,   8.80152925,   8.67469587,   9.31068585,\n",
       "         8.20535201,   8.47689444,   8.50340671,   8.05900915,\n",
       "         9.34784689,   9.9441745 ,   8.88597012,   9.41909899,\n",
       "         8.88538691,   9.06986505,   8.39618766,   8.84394473,\n",
       "         8.45258801,   7.74244697,   9.3188678 ,   9.34731756,\n",
       "         8.26458818,   8.74274155,   9.28099184,   9.59021472,\n",
       "         8.07456328,   8.81441926,   9.28145177,   9.5227329 ,\n",
       "         8.58044724,   8.25856234,   9.75756494,   8.10794639,\n",
       "         8.90120039,   8.58280084,   8.87656883,   7.91227117,\n",
       "         7.61509653,   8.53451627,   9.24225115,   9.20465825,\n",
       "         8.25075016,   8.29458924,   9.58071971,   9.27355792,\n",
       "         8.68422135,   9.70946833,   9.53212302,   8.02700347,\n",
       "         7.97109531,   9.23446829,   9.30248423,   9.13313795,\n",
       "         9.36772327,   8.86734072,   8.38551126,   9.46878821,\n",
       "         8.6218083 ,   8.73216302,   9.23406877,   8.67503112,\n",
       "         8.84074115,   8.37208935,   8.32287631,   8.39749203,\n",
       "         8.53663473,   8.79316275,   8.11876332,   8.19574242,\n",
       "         8.85181392,   8.35236848,   8.48665644,   8.66502116,\n",
       "         8.1208078 ,   9.07233131,   9.10115232,  10.61390444,\n",
       "         9.14746244,   8.66600508,   9.02237538,   8.11156081,\n",
       "         8.94497722,   9.21177012,   9.27512652,   7.98737161,\n",
       "         9.08988502,   8.81735975,   8.32986446,   8.83502982,\n",
       "         8.34773595,   8.34847277,   8.34421706,   9.48318634,\n",
       "         8.84192514,   8.40439389,   8.04460493,   7.92860403,\n",
       "         8.14362235,   8.71125339,   8.60489934,  10.06954024,\n",
       "         8.84315963,   8.24871024,   8.34999748,   8.56646126,\n",
       "         9.12411584,   8.47083921,   8.32916865,   8.4899539 ,\n",
       "         8.7425595 ,   9.32584276,   8.70013769,   8.66247494,\n",
       "         9.34166646,   9.67088391,   7.95482921,   7.9797258 ,\n",
       "         8.53205828,   9.20632341,   9.62093756,   8.56742336,\n",
       "         8.21436144,   8.93601071,   8.42604074,   8.30661118,\n",
       "         8.81146771,   8.21772708,   8.61761698,   8.48512858,\n",
       "         9.10148967,   8.86131669,   9.11783197,   8.99396834,\n",
       "         8.15073088,   9.08152355,   9.00211595,   9.12615548,\n",
       "         8.45588316,   9.14555607,   9.36727549,   9.03553557,\n",
       "         8.96637189,   8.32423915,   9.01807819,   9.15572032,\n",
       "         8.41518568,   9.24805839,   8.53434759,   9.98689025,\n",
       "         8.53956847,   7.77612973,   9.18988624,   8.55809645,\n",
       "         8.63024818,   9.24121733,   9.39133562,   8.56113695,\n",
       "         8.23014931,   8.2712775 ,   8.60302156,   9.07352978,\n",
       "         8.3547797 ,   8.54224214,   8.52049996,   8.96192985,\n",
       "         9.23402312,   9.13103658,   9.18822374,   8.71587468,\n",
       "         8.61609621,   9.02644536,   9.13712497,   8.81575954,\n",
       "         9.28326205,   8.30143304,   8.91892432,   8.55693657,\n",
       "         7.82806336,   9.05478999,   8.47898286,   9.07132377,\n",
       "         8.40488821,   8.5726145 ,   8.60383685,   8.99739791,\n",
       "         8.4188666 ,   8.85523151,   8.14641089,   9.1722194 ,\n",
       "         8.02538227,   8.63036765,   8.75620604,   8.32966528,\n",
       "         8.20103867,   9.00742882,   8.69060864,   9.05941371,\n",
       "         9.31817912,   8.38934843,   9.30442142,   9.06636735,\n",
       "         8.36739597,   8.39009418,   8.49252041,   9.96886119,\n",
       "         8.59884763,   9.12482911,   8.53529439,   8.20385542,\n",
       "         9.21711215,   8.98145687,   9.537706  ,   8.78599527,\n",
       "         9.51823888,  10.45798832,   8.81413002,   8.47153757,\n",
       "         8.70843696,   8.99843399,   8.30257067,   8.93770288,\n",
       "         8.12044774,   8.5684739 ,   7.45799096,   8.86995011,\n",
       "         9.04456571,   9.06779339,   9.10350432,   9.05664652,\n",
       "         8.66044903,   9.16207194,   7.4968713 ,   7.75009053,\n",
       "         9.97978922,   8.66969533,   8.08421038,   8.6991531 ,\n",
       "         9.39604231,   8.92190644,   9.30847095,   8.9841723 ,\n",
       "         8.26302059,   8.07862882,   8.55204669,   8.43742339,\n",
       "         8.80665958,   8.35673753,   8.16072404,   9.22611423,\n",
       "         8.63340716,   9.04845112,   9.15048249,   9.00656987,\n",
       "         8.86285341,   9.33228442,   8.72956132,   9.11682157,\n",
       "         7.20444712,   9.03748387,   8.60386071,   8.19252691,\n",
       "         8.2737022 ,   8.24745838,   8.26785213,   9.39111757,\n",
       "         8.93869891,   8.56375311,   8.71438685,   8.35417404,\n",
       "         8.84732453,   9.69771244,   8.39607904,   8.11746836,\n",
       "         8.41733285,   8.14225306,   7.98971018,   8.01758755,\n",
       "         8.55564941,   8.63145859,   8.36498531,   9.98678635,\n",
       "         8.20911648,   8.03477908,   8.31007813,   8.78462137,\n",
       "         9.70877055,   8.38080182,   9.46070033,   8.94976954,\n",
       "         9.63165133,   8.46212502,   9.11059247,   7.54454881,\n",
       "         8.34768895,   9.07000651,   9.22049629,   8.89215826,\n",
       "         9.44018262,   8.57620415,   8.21255236,   8.25064551,\n",
       "         8.78805698,   9.32231073,   9.96860945,   8.37370502,\n",
       "         9.29448436,   8.88044224,   8.1450455 ,   7.59354181,\n",
       "         8.29643798,   9.6211484 ,   8.75351042,   8.50933297,\n",
       "         8.58637919,   7.7248196 ,   9.3766295 ,   9.23414943,\n",
       "         8.80045384,   8.50489977,   8.26955642,   9.25130973,\n",
       "         8.9035487 ,   8.96105121,   7.79936377,   9.02989709,\n",
       "         8.02960697,   8.43142917,   9.19909858,   9.27293768,\n",
       "         9.07771257,   9.57925257,   8.59678916,   9.03014793,\n",
       "         8.18156173,   8.24282865,   8.93236346,   8.71387021,\n",
       "         8.20895892,   8.77231594,   8.32467759,   7.63209773,\n",
       "         8.18384131,   9.3968748 ,   8.95183124,   9.14177811,\n",
       "         8.38854262,   8.76456974,   9.10964077,   8.1968607 ,\n",
       "         9.41425889,   8.82654699,   8.85556577,   9.42291874,\n",
       "         8.25464888,   9.37155971,   8.62606791,   9.08538832,\n",
       "         8.00542498,   8.94813824,   9.33054576,   9.81837779,\n",
       "         8.41272145,   8.72286967,   8.96254747,   7.95184038,\n",
       "         8.78648636,   8.96170657,   8.63398568,   7.94252066,\n",
       "         8.51381156,   8.36805992,   8.1943927 ,   8.93883214,\n",
       "         8.56379143,   8.96218186,   9.12677575,   8.14926688,\n",
       "         8.71454238,   9.36942303,   8.80197267,   9.45726477,\n",
       "         8.94635497,   8.53243868,   8.66492602,   8.40382249,\n",
       "         7.74817155,   8.40598379,   8.2998665 ,   8.62798365,\n",
       "         9.08403081,   8.81061695,   8.1032094 ,   8.6070428 ,\n",
       "         8.93192422,   9.08445755,   7.97927386,   8.37658994,\n",
       "         8.22019103,   9.1753245 ,   8.85827369,   8.11725145,\n",
       "         8.40970331,   8.3907507 ,   9.27172595,   9.3871908 ,\n",
       "         8.06088525,   8.93831371,   8.34228463,   8.74861251,\n",
       "         7.43766292,   8.3972752 ,   8.13982424,   8.50239928,\n",
       "         9.63313946,   8.74970716,   9.39868736,   8.36684477,\n",
       "         9.25229858,   8.95708134,   8.47802598,   9.39217394,\n",
       "         8.97117307,   9.04458527,   8.13929851,   8.73968622,\n",
       "         9.11002551,   8.63553807,   8.06699225,   8.47682517,\n",
       "         7.94064991,   8.11675353,   8.28518097,   8.30327389,\n",
       "         7.43923031,   8.5789877 ,   8.32755412,   9.10186942,\n",
       "         9.23550339,   8.39030943,   8.62026175,   9.18141984,\n",
       "         8.15405552,   9.96584302,   8.8791065 ,   8.75826092,\n",
       "         9.1380168 ,   9.70438421,   8.15930915,   9.13695976,\n",
       "         8.44741521,   8.6257998 ,   8.6404331 ,   8.67495738,\n",
       "        10.05208122,   8.86216776,   8.4952033 ,   9.04925201,\n",
       "         7.87563068,   8.64582925,   9.22107525,   9.08267354,\n",
       "         9.47886111,   7.9028053 ,   8.52403208,   8.93677239,\n",
       "         7.93081149,   8.2358771 ,   8.99770149,   9.54447795,\n",
       "         8.62524711,   8.48480987,   9.16741857,   8.57647233,\n",
       "         8.74398077,   9.06614203,   9.30635511,   8.36904291,\n",
       "         8.68559503,   9.2629554 ,   8.338766  ,   8.96111788,\n",
       "         8.33270259,   9.12739103,   8.16273703,   8.07853024,\n",
       "         9.42096345,   8.64786299,   8.86362389,   8.95001975,\n",
       "         8.81990614,   9.45128748,   8.61521967,   8.90123089,\n",
       "         9.55894679,   9.41247689,   8.83023728,   9.0026858 ,\n",
       "         9.14010791,   7.8540655 ,   6.83109748,   8.79206941,\n",
       "         9.41346326,   8.10128925,   8.88924894,   9.07966936,\n",
       "         8.7782312 ,   8.91100227,   8.57874266,   7.95127657,\n",
       "         8.59921624,   8.53709485,   8.56621672,   9.32719015,\n",
       "         8.30880022,   8.20164803,   8.23262137,   8.7001181 ,\n",
       "         8.89195112,   7.84076276,   8.68447255,   9.09213122,\n",
       "         8.64614702,   8.72000937,   8.97541411,   7.98688647,\n",
       "         8.89907145,   8.84712572,   7.94846834,   8.08017983,\n",
       "         7.87874253,  10.17758741,   7.36545241,   7.80327998,\n",
       "         8.26732924,   8.749758  ,   9.68571887,   9.13190878,\n",
       "         8.44606969,   8.86536622,   8.62118931,   9.80351638,\n",
       "         8.09371141,   8.56447877,   9.11009382,   7.73974274,\n",
       "         9.65005749,   8.764141  ,   8.68361593,   8.62524837,\n",
       "         7.86915243,   8.67132222,   8.5589346 ,   8.47818027,\n",
       "         9.04254009,   8.22590276,   9.34476611,   8.37196187,\n",
       "         9.00977504,   8.17300123,   8.15313781,   8.59331741,\n",
       "         8.62469469,   8.73123796,   9.58876005,   9.30306023,\n",
       "         8.54745217,   8.90482399,   8.49037979,   9.13214212,\n",
       "         9.7498257 ,   8.82368684,   8.69589323,   7.84954836,\n",
       "         8.58034716,   8.03563802,   9.20354325,   9.13148626,\n",
       "         8.52431977,   8.60055318,   8.60008465,   7.8150913 ,\n",
       "         8.52703568,   7.94376362,   9.37331718,   9.32401583,\n",
       "         9.31735818,   8.62882961,   9.16454201,   8.43111687])"
      ]
     },
     "execution_count": 13,
     "metadata": {},
     "output_type": "execute_result"
    }
   ],
   "source": [
    "m = 1000\n",
    "boot_pop = np.array(data[\"Grade\"])\n",
    "\n",
    "boot_sample_std = bootstrap(boot_pop, np.std, simple_resample, m)\n",
    "boot_sample_std\n",
    "# YOUR CODE HERE\n",
    "#raise NotImplementedError()"
   ]
  },
  {
   "cell_type": "code",
   "execution_count": 14,
   "metadata": {
    "deletable": false,
    "editable": false,
    "nbgrader": {
     "cell_type": "code",
     "checksum": "ddafec3af86519b3f4cb5cf5b2fbd197",
     "grade": true,
     "grade_id": "q2_test3",
     "locked": true,
     "points": 1,
     "schema_version": 2,
     "solution": false
    }
   },
   "outputs": [
    {
     "name": "stdout",
     "output_type": "stream",
     "text": [
      "mean of bootstrap std: 8.72619468892 \n",
      "variance of bootstrap std: 0.27078421235\n"
     ]
    }
   ],
   "source": [
    "boot_mean_std = np.mean(boot_sample_std)\n",
    "boot_var_std = np.var(boot_sample_std)\n",
    "print('mean of bootstrap std:', boot_mean_std, '\\nvariance of bootstrap std:', boot_var_std)\n",
    "assert len(boot_sample_std) == m\n",
    "assert 7 < boot_mean_std < 10\n",
    "assert 0.23 < boot_var_std < 0.29"
   ]
  },
  {
   "cell_type": "code",
   "execution_count": 15,
   "metadata": {
    "deletable": false,
    "editable": false,
    "nbgrader": {
     "cell_type": "code",
     "checksum": "8639802180d8e6a7c73b26955789a0c3",
     "grade": false,
     "grade_id": "q2_plot2",
     "locked": true,
     "schema_version": 2,
     "solution": false
    }
   },
   "outputs": [
    {
     "data": {
      "image/png": "[encoded data removed]",
      "text/plain": [
       "<matplotlib.figure.Figure at 0x7f333a4bf438>"
      ]
     },
     "metadata": {},
     "output_type": "display_data"
    }
   ],
   "source": [
    "sns.distplot(boot_sample_std)\n",
    "plt.xlabel(r\"$STD(X)$\")\n",
    "plt.ylabel(\"Frequency\");"
   ]
  },
  {
   "cell_type": "markdown",
   "metadata": {
    "deletable": false,
    "editable": false,
    "nbgrader": {
     "cell_type": "markdown",
     "checksum": "728347d0f8f3c58bdc78c5ac9ef64676",
     "grade": false,
     "grade_id": "q2_true",
     "locked": true,
     "schema_version": 2,
     "solution": false
    }
   },
   "source": [
    "The true mean for the midterm grade is 80.1, and the standard deviation is 9.20.\n",
    "Compare your results with them."
   ]
  },
  {
   "cell_type": "markdown",
   "metadata": {
    "deletable": false,
    "editable": false,
    "nbgrader": {
     "cell_type": "markdown",
     "checksum": "61d832f88001fb4cf3d44c4dd96bf647",
     "grade": false,
     "grade_id": "q3_text1",
     "locked": true,
     "schema_version": 2,
     "solution": false
    }
   },
   "source": [
    "### Question 3\n",
    "Now let's use the bootstrap method to analyze an estimator we used in the previous lab. \n",
    "\n",
    "Again, we use following mathematical model to predict Tips from TotalBill:\n",
    "\n",
    "$$\\Large\n",
    "\\texttt{Tip} = \\theta^*  \\times \\texttt{TotalBill}\n",
    "$$\n",
    "\n",
    "This follows the similar intuition that tips are some **unknown** percentage of the total bill.  We will then try to estimate the slope of this relationship which corresponds to the percent tip. Here the parameter $\\theta^*$ represents the true percent tip that we would like to estimate.\n",
    "\n",
    "As we already know, for L2 loss function:\n",
    "$$\\Large\n",
    "L\\left(\\theta, \\mathcal{D}\\right) = \\frac{1}{n} \\sum_{i=1}^n L(m_\\theta(x_i), y_i) = \\frac{1}{n} \\sum_{i=1}^n (\\theta *  x_i - y_i)^2\n",
    "$$\n",
    "\n",
    "Where, $x_i$ is the TotalBill, $y_i$ is the Tips.\n",
    "\n",
    "The optimal $\\theta$ would be:\n",
    "$$\\Large {\\theta} = \\frac{\\sum x_iy_i}{\\sum x_i^2}$$\n",
    "\n",
    "Let's use the bootstrap method to see what's the variance for this estimator.\n"
   ]
  },
  {
   "cell_type": "code",
   "execution_count": 16,
   "metadata": {
    "deletable": false,
    "editable": false,
    "nbgrader": {
     "cell_type": "code",
     "checksum": "8acd66937179f77a7939d65db70c63c2",
     "grade": false,
     "grade_id": "q3_setup1",
     "locked": true,
     "schema_version": 2,
     "solution": false
    }
   },
   "outputs": [
    {
     "data": {
      "text/html": [
       "<div>\n",
       "<style scoped>\n",
       "    .dataframe tbody tr th:only-of-type {\n",
       "        vertical-align: middle;\n",
       "    }\n",
       "\n",
       "    .dataframe tbody tr th {\n",
       "        vertical-align: top;\n",
       "    }\n",
       "\n",
       "    .dataframe thead th {\n",
       "        text-align: right;\n",
       "    }\n",
       "</style>\n",
       "<table border=\"1\" class=\"dataframe\">\n",
       "  <thead>\n",
       "    <tr style=\"text-align: right;\">\n",
       "      <th></th>\n",
       "      <th>total_bill</th>\n",
       "      <th>tip</th>\n",
       "      <th>sex</th>\n",
       "      <th>smoker</th>\n",
       "      <th>day</th>\n",
       "      <th>time</th>\n",
       "      <th>size</th>\n",
       "    </tr>\n",
       "  </thead>\n",
       "  <tbody>\n",
       "    <tr>\n",
       "      <th>0</th>\n",
       "      <td>16.99</td>\n",
       "      <td>1.01</td>\n",
       "      <td>Female</td>\n",
       "      <td>No</td>\n",
       "      <td>Sun</td>\n",
       "      <td>Dinner</td>\n",
       "      <td>2</td>\n",
       "    </tr>\n",
       "    <tr>\n",
       "      <th>1</th>\n",
       "      <td>10.34</td>\n",
       "      <td>1.66</td>\n",
       "      <td>Male</td>\n",
       "      <td>No</td>\n",
       "      <td>Sun</td>\n",
       "      <td>Dinner</td>\n",
       "      <td>3</td>\n",
       "    </tr>\n",
       "    <tr>\n",
       "      <th>2</th>\n",
       "      <td>21.01</td>\n",
       "      <td>3.50</td>\n",
       "      <td>Male</td>\n",
       "      <td>No</td>\n",
       "      <td>Sun</td>\n",
       "      <td>Dinner</td>\n",
       "      <td>3</td>\n",
       "    </tr>\n",
       "    <tr>\n",
       "      <th>3</th>\n",
       "      <td>23.68</td>\n",
       "      <td>3.31</td>\n",
       "      <td>Male</td>\n",
       "      <td>No</td>\n",
       "      <td>Sun</td>\n",
       "      <td>Dinner</td>\n",
       "      <td>2</td>\n",
       "    </tr>\n",
       "    <tr>\n",
       "      <th>4</th>\n",
       "      <td>24.59</td>\n",
       "      <td>3.61</td>\n",
       "      <td>Female</td>\n",
       "      <td>No</td>\n",
       "      <td>Sun</td>\n",
       "      <td>Dinner</td>\n",
       "      <td>4</td>\n",
       "    </tr>\n",
       "  </tbody>\n",
       "</table>\n",
       "</div>"
      ],
      "text/plain": [
       "   total_bill   tip     sex smoker  day    time  size\n",
       "0       16.99  1.01  Female     No  Sun  Dinner     2\n",
       "1       10.34  1.66    Male     No  Sun  Dinner     3\n",
       "2       21.01  3.50    Male     No  Sun  Dinner     3\n",
       "3       23.68  3.31    Male     No  Sun  Dinner     2\n",
       "4       24.59  3.61  Female     No  Sun  Dinner     4"
      ]
     },
     "execution_count": 16,
     "metadata": {},
     "output_type": "execute_result"
    }
   ],
   "source": [
    "data = sns.load_dataset(\"tips\")\n",
    "data.head()"
   ]
  },
  {
   "cell_type": "code",
   "execution_count": 17,
   "metadata": {
    "deletable": false,
    "editable": false,
    "nbgrader": {
     "cell_type": "code",
     "checksum": "73b30cf093ee9e90ff2951a1ef58fcf1",
     "grade": false,
     "grade_id": "q3_setup2",
     "locked": true,
     "schema_version": 2,
     "solution": false
    }
   },
   "outputs": [
    {
     "data": {
      "image/png": "[encoded data removed]",
      "text/plain": [
       "<matplotlib.figure.Figure at 0x7f333a3e1a20>"
      ]
     },
     "metadata": {},
     "output_type": "display_data"
    }
   ],
   "source": [
    "x = np.array(data[\"total_bill\"])\n",
    "y = np.array(data[\"tip\"])\n",
    "d = np.array((x,y)).transpose()\n",
    "plt.plot(d[:,0],d[:,1],\".\");"
   ]
  },
  {
   "cell_type": "markdown",
   "metadata": {
    "deletable": false,
    "editable": false,
    "nbgrader": {
     "cell_type": "markdown",
     "checksum": "692365253a206b6582c9c80f13d0283a",
     "grade": false,
     "grade_id": "q3_text2",
     "locked": true,
     "schema_version": 2,
     "solution": false
    }
   },
   "source": [
    "Write an estimator function to compute $\\theta$ using the formula:  \n",
    "$$\\large {\\theta} = \\frac{\\sum x_iy_i}{\\sum x_i^2}$$\n",
    "\n",
    "Note that in order to do bootstrap, we need to combine `x`, `y` to into a $n \\times 2$ array `d`. So `d[:,0]` is equivalent with `x` and `d[:,1]` is equivalent with `y`."
   ]
  },
  {
   "cell_type": "code",
   "execution_count": 18,
   "metadata": {
    "deletable": false,
    "nbgrader": {
     "cell_type": "code",
     "checksum": "d9390295ff93f785f8b6b841203b5726",
     "grade": false,
     "grade_id": "q3_code1",
     "locked": false,
     "schema_version": 2,
     "solution": true
    }
   },
   "outputs": [],
   "source": [
    "def estimator(d):\n",
    "    \"\"\"\n",
    "    Args:\n",
    "        d: A n*2 array which contains x and y. d[:,0] would be x, d[:,1] would be y.\n",
    "        \n",
    "    Returns:\n",
    "        The optimal theta for this dataset under L2 loss.\n",
    "    \"\"\"\n",
    "    # YOUR CODE HERE\n",
    "    #raise NotImplementedError\n",
    "    return np.sum(d[:,0] @ d[:,1]) / np.sum(d[:,0] @ d[:,0])"
   ]
  },
  {
   "cell_type": "code",
   "execution_count": 19,
   "metadata": {
    "deletable": false,
    "editable": false,
    "nbgrader": {
     "cell_type": "code",
     "checksum": "d0a03a7c63a0c3894b3d7b11e61e2bf4",
     "grade": true,
     "grade_id": "q3_test1",
     "locked": true,
     "points": 1,
     "schema_version": 2,
     "solution": false
    }
   },
   "outputs": [],
   "source": [
    "assert np.isclose(estimator(d),0.14373189527721666)"
   ]
  },
  {
   "cell_type": "markdown",
   "metadata": {
    "deletable": false,
    "editable": false,
    "nbgrader": {
     "cell_type": "markdown",
     "checksum": "9115a8f6aff142f337851c05913c1b61",
     "grade": false,
     "grade_id": "q3_text3",
     "locked": true,
     "schema_version": 2,
     "solution": false
    }
   },
   "source": [
    "Now let's use our previous `bootstrap` function to obtain different estimated $\\theta$. You should use the `estimator` function as the `statistic` parameter."
   ]
  },
  {
   "cell_type": "code",
   "execution_count": 20,
   "metadata": {
    "deletable": false,
    "nbgrader": {
     "cell_type": "code",
     "checksum": "56e1b5edab6915b5e800d8e523d76321",
     "grade": false,
     "grade_id": "q3_code2",
     "locked": false,
     "schema_version": 2,
     "solution": true
    }
   },
   "outputs": [],
   "source": [
    "replicates = 1000\n",
    "boot_theta = bootstrap(d, estimator, simple_resample, replicates)\n",
    "#(boot_pop, statistic, resample, replicates = 1000\n",
    "\n",
    "# YOUR CODE HERE\n",
    "#raise NotImplementedError()\n",
    "    "
   ]
  },
  {
   "cell_type": "code",
   "execution_count": 21,
   "metadata": {
    "deletable": false,
    "editable": false,
    "nbgrader": {
     "cell_type": "code",
     "checksum": "c5630e3810154abeab4a4366f4a46d0d",
     "grade": true,
     "grade_id": "q3_test2",
     "locked": true,
     "points": 1,
     "schema_version": 2,
     "solution": false
    }
   },
   "outputs": [
    {
     "name": "stdout",
     "output_type": "stream",
     "text": [
      "mean of bootstrap theta: 0.14375317931 \n",
      "variance of bootstrap theta: 1.78422375199e-05\n"
     ]
    }
   ],
   "source": [
    "boot_theta_mean = np.mean(boot_theta)\n",
    "boot_theta_var = np.var(boot_theta)\n",
    "print('mean of bootstrap theta:', boot_theta_mean, '\\nvariance of bootstrap theta:', boot_theta_var)\n",
    "assert len(boot_theta) == replicates\n",
    "assert 0.14<=boot_theta_mean<=0.15\n",
    "assert boot_theta_var < 1e-4"
   ]
  },
  {
   "cell_type": "markdown",
   "metadata": {
    "deletable": false,
    "editable": false,
    "nbgrader": {
     "cell_type": "markdown",
     "checksum": "ed841cba660c7abf11720aa70e8738ec",
     "grade": false,
     "grade_id": "q3_text4",
     "locked": true,
     "schema_version": 2,
     "solution": false
    }
   },
   "source": [
    "Finally, let's plot the distribution of `boot_theta`."
   ]
  },
  {
   "cell_type": "code",
   "execution_count": 22,
   "metadata": {
    "deletable": false,
    "editable": false,
    "nbgrader": {
     "cell_type": "code",
     "checksum": "833ca7d0c3645c8ed971328dae07740f",
     "grade": false,
     "grade_id": "q3_plot",
     "locked": true,
     "schema_version": 2,
     "solution": false
    }
   },
   "outputs": [
    {
     "data": {
      "image/png": "[encoded data removed]",
      "text/plain": [
       "<matplotlib.figure.Figure at 0x7f333a385860>"
      ]
     },
     "metadata": {},
     "output_type": "display_data"
    }
   ],
   "source": [
    "sns.distplot(boot_theta);"
   ]
  },
  {
   "cell_type": "markdown",
   "metadata": {
    "deletable": false,
    "editable": false,
    "nbgrader": {
     "cell_type": "markdown",
     "checksum": "7d38676f303a718aff089714d1458bef",
     "grade": false,
     "grade_id": "solved",
     "locked": true,
     "schema_version": 2,
     "solution": false
    }
   },
   "source": [
    "## Submission\n",
    "\n",
    "Congrats! You are finished with this assignment. Please don't forget to submit by 11:59 pm!"
   ]
  },
  {
   "cell_type": "markdown",
   "metadata": {},
   "source": [
    "## Submission\n",
    "\n",
    "You're done!\n",
    "\n",
    "Before submitting this assignment, ensure to:\n",
    "\n",
    "1. Restart the Kernel (in the menubar, select Kernel->Restart & Run All)\n",
    "2. Validate the notebook by clicking the \"Validate\" button\n",
    "\n",
    "Finally, make sure to **submit** the assignment via the Assignments tab in Datahub"
   ]
  }
 ],
 "metadata": {
  "anaconda-cloud": {},
  "kernelspec": {
   "display_name": "Python 3",
   "language": "python",
   "name": "python3"
  },
  "language_info": {
   "codemirror_mode": {
    "name": "ipython",
    "version": 3
   },
   "file_extension": ".py",
   "mimetype": "text/x-python",
   "name": "python",
   "nbconvert_exporter": "python",
   "pygments_lexer": "ipython3",
   "version": "3.6.4"
  }
 },
 "nbformat": 4,
 "nbformat_minor": 2
}
